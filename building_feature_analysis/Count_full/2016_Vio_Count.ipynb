{
  "nbformat": 4,
  "nbformat_minor": 0,
  "metadata": {
    "colab": {
      "name": "2016_Vio_Count.ipynb",
      "version": "0.3.2",
      "provenance": [],
      "collapsed_sections": []
    },
    "kernelspec": {
      "name": "python2",
      "display_name": "Python 2"
    }
  },
  "cells": [
    {
      "cell_type": "code",
      "metadata": {
        "id": "maDxXMADfiDP",
        "colab_type": "code",
        "outputId": "4d37c58c-35b7-4219-bcdd-8b949c67527c",
        "colab": {
          "resources": {
            "http://localhost:8080/nbextensions/google.colab/files.js": {
              "data": "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",
              "ok": true,
              "headers": [
                [
                  "content-type",
                  "application/javascript"
                ]
              ],
              "status": 200,
              "status_text": ""
            }
          },
          "base_uri": "https://localhost:8080/",
          "height": 71
        }
      },
      "source": [
        "import numpy as np\n",
        "import pandas as pd\n",
        "\n",
        "from google.colab import files\n",
        "uploaded = files.upload()"
      ],
      "execution_count": 0,
      "outputs": [
        {
          "output_type": "display_data",
          "data": {
            "text/plain": [
              "<IPython.core.display.HTML object>"
            ],
            "text/html": [
              "\n",
              "     <input type=\"file\" id=\"files-3b077c8c-3a05-423b-86a2-429d3abbbfac\" name=\"files[]\" multiple disabled />\n",
              "     <output id=\"result-3b077c8c-3a05-423b-86a2-429d3abbbfac\">\n",
              "      Upload widget is only available when the cell has been executed in the\n",
              "      current browser session. Please rerun this cell to enable.\n",
              "      </output>\n",
              "      <script src=\"/nbextensions/google.colab/files.js\"></script> "
            ]
          },
          "metadata": {
            "tags": []
          }
        },
        {
          "output_type": "stream",
          "text": [
            "Saving data16smaller_4_2.csv to data16smaller_4_2.csv\n"
          ],
          "name": "stdout"
        }
      ]
    },
    {
      "cell_type": "code",
      "metadata": {
        "id": "Iu068N1KgOmh",
        "colab_type": "code",
        "outputId": "eee52141-de48-4003-a37b-40ace57da1e1",
        "colab": {
          "base_uri": "https://localhost:8080/",
          "height": 51
        }
      },
      "source": [
        "!unzip \"data16smaller_1.csv.zip\""
      ],
      "execution_count": 0,
      "outputs": [
        {
          "output_type": "stream",
          "text": [
            "Archive:  data18smaller_1.csv.zip\n",
            "  inflating: data18smaller_1.csv     \n"
          ],
          "name": "stdout"
        }
      ]
    },
    {
      "cell_type": "code",
      "metadata": {
        "id": "G54IzR7LgT6G",
        "colab_type": "code",
        "colab": {}
      },
      "source": [
        "data16smaller = pd.read_csv(\"data16smaller_3_2.csv\", low_memory = False, dtype = {'subsidies_flag':\"int64\"})\n",
        "data16smaller.head()"
      ],
      "execution_count": 0,
      "outputs": []
    },
    {
      "cell_type": "code",
      "metadata": {
        "id": "xnzsTU5ShUvj",
        "colab_type": "code",
        "outputId": "08da7a97-c15c-4b95-b4e8-703b77d1d4e3",
        "colab": {
          "base_uri": "https://localhost:8080/",
          "height": 122
        }
      },
      "source": [
        "!pip install pgmpy==0.1.7\n",
        "from pgmpy.estimators import HillClimbSearch, BicScore, BayesianEstimator\n",
        "from pgmpy.models import BayesianModel\n",
        "from sklearn.model_selection import train_test_split\n",
        "from pgmpy.inference import VariableElimination"
      ],
      "execution_count": 0,
      "outputs": [
        {
          "output_type": "stream",
          "text": [
            "Requirement already satisfied: pgmpy==0.1.7 in /usr/local/lib/python2.7/dist-packages (0.1.7)\n",
            "Requirement already satisfied: scipy>=1.0.0 in /usr/local/lib/python2.7/dist-packages (from pgmpy==0.1.7) (1.2.1)\n",
            "Requirement already satisfied: networkx<1.12,>=1.11 in /usr/local/lib/python2.7/dist-packages (from pgmpy==0.1.7) (1.11)\n",
            "Requirement already satisfied: numpy>=1.14.0 in /usr/local/lib/python2.7/dist-packages (from pgmpy==0.1.7) (1.16.3)\n",
            "Requirement already satisfied: decorator>=3.4.0 in /usr/local/lib/python2.7/dist-packages (from networkx<1.12,>=1.11->pgmpy==0.1.7) (4.4.0)\n"
          ],
          "name": "stdout"
        }
      ]
    },
    {
      "cell_type": "code",
      "metadata": {
        "id": "wym8MrPPiiu0",
        "colab_type": "code",
        "colab": {}
      },
      "source": [
        "from collections import defaultdict\n",
        "from pgmpy.inference import VariableElimination\n",
        "def temp_predict(model,data):\n",
        "    missing_variables = list(set(model.nodes()) - set(data.columns))\n",
        "    pred_values = defaultdict(list)\n",
        "    model_inference = VariableElimination(model)\n",
        "    for index, data_point in data.iterrows():\n",
        "        states_dict = model_inference.map_query(variables=missing_variables, evidence=data_point.astype(int).to_dict())\n",
        "        for k, v in states_dict.items():\n",
        "            pred_values[k].append(v)\n",
        "    return pd.DataFrame(pred_values, index=data.index)"
      ],
      "execution_count": 0,
      "outputs": []
    },
    {
      "cell_type": "code",
      "metadata": {
        "id": "ka5rRPa6hELy",
        "colab_type": "code",
        "outputId": "62456337-c47c-431a-eaca-cb34e99652fe",
        "colab": {
          "base_uri": "https://localhost:8080/",
          "height": 54
        }
      },
      "source": [
        "data16train, data16test = train_test_split(data16smaller,random_state=9,test_size=0.2)\n",
        "hc = HillClimbSearch(data16train, scoring_method=BicScore(data16train))\n",
        "best_model = hc.estimate()\n",
        "print(best_model.edges())"
      ],
      "execution_count": 0,
      "outputs": [
        {
          "output_type": "stream",
          "text": [
            "[('bldgclass', 'unit_ratio'), ('bldgclass', 'violations'), ('bldgclass', 'yearbuilt'), ('bldgclass', 'subsidies_flag'), ('residfar', 'landuse'), ('yearbuilt', 'subsidies_flag'), ('landuse', 'bldgclass')]\n"
          ],
          "name": "stdout"
        }
      ]
    },
    {
      "cell_type": "code",
      "metadata": {
        "id": "HHXivKETan_m",
        "colab_type": "code",
        "outputId": "5a0eb118-22b9-47a4-dae1-e011de25c774",
        "colab": {
          "base_uri": "https://localhost:8080/",
          "height": 1669
        }
      },
      "source": [
        "best_model.fit(data16train, estimator=BayesianEstimator, prior_type='K2')\n",
        "\n",
        "for cpd in best_model.get_cpds():\n",
        "    print(\"CPD of {variable}:\".format(variable=cpd.variable))\n",
        "    print(cpd)\n",
        "    \n",
        "print best_model.local_independencies('violations')\n",
        "\n",
        "for thenode in best_model.nodes():\n",
        "    print best_model.active_trail_nodes(thenode)"
      ],
      "execution_count": 0,
      "outputs": [
        {
          "output_type": "stream",
          "text": [
            "CPD of bldgclass:\n",
            "+--------------+-----------------------+-----------------------+-----------------------+-----------------------+\n",
            "| landuse      | landuse(0)            | landuse(1)            | landuse(2)            | landuse(3)            |\n",
            "+--------------+-----------------------+-----------------------+-----------------------+-----------------------+\n",
            "| bldgclass(0) | 0.09432048681541583   | 0.0001774622892635315 | 0.0006489292667099286 | 0.0006480881399870382 |\n",
            "+--------------+-----------------------+-----------------------+-----------------------+-----------------------+\n",
            "| bldgclass(1) | 0.9016227180527383    | 0.0001774622892635315 | 0.0006489292667099286 | 0.0006480881399870382 |\n",
            "+--------------+-----------------------+-----------------------+-----------------------+-----------------------+\n",
            "| bldgclass(2) | 0.0010141987829614604 | 0.9604259094942325    | 0.0006489292667099286 | 0.33635774465327284   |\n",
            "+--------------+-----------------------+-----------------------+-----------------------+-----------------------+\n",
            "| bldgclass(3) | 0.0010141987829614604 | 0.0001774622892635315 | 0.9662556781310837    | 0.10304601425793908   |\n",
            "+--------------+-----------------------+-----------------------+-----------------------+-----------------------+\n",
            "| bldgclass(4) | 0.0010141987829614604 | 0.0388642413487134    | 0.031148604802076575  | 0.0012961762799740765 |\n",
            "+--------------+-----------------------+-----------------------+-----------------------+-----------------------+\n",
            "| bldgclass(5) | 0.0010141987829614604 | 0.0001774622892635315 | 0.0006489292667099286 | 0.55800388852884      |\n",
            "+--------------+-----------------------+-----------------------+-----------------------+-----------------------+\n",
            "CPD of subsidies_flag:\n",
            "+-------------------+--------------+----------------------+----------------------+---------------------+---------------------+----------------------+----------------------+----------------------+----------------------+----------------------+---------------------+---------------------+---------------------+--------------------+--------------------+--------------------+---------------------+--------------------+----------------------+--------------------+--------------------+--------------+--------------+--------------------+--------------------+----------------------+----------------------+---------------------+----------------------+--------------+\n",
            "| bldgclass         | bldgclass(0) | bldgclass(0)         | bldgclass(0)         | bldgclass(0)        | bldgclass(0)        | bldgclass(1)         | bldgclass(1)         | bldgclass(1)         | bldgclass(1)         | bldgclass(1)         | bldgclass(2)        | bldgclass(2)        | bldgclass(2)        | bldgclass(2)       | bldgclass(2)       | bldgclass(3)       | bldgclass(3)        | bldgclass(3)       | bldgclass(3)         | bldgclass(3)       | bldgclass(4)       | bldgclass(4) | bldgclass(4) | bldgclass(4)       | bldgclass(4)       | bldgclass(5)         | bldgclass(5)         | bldgclass(5)        | bldgclass(5)         | bldgclass(5) |\n",
            "+-------------------+--------------+----------------------+----------------------+---------------------+---------------------+----------------------+----------------------+----------------------+----------------------+----------------------+---------------------+---------------------+---------------------+--------------------+--------------------+--------------------+---------------------+--------------------+----------------------+--------------------+--------------------+--------------+--------------+--------------------+--------------------+----------------------+----------------------+---------------------+----------------------+--------------+\n",
            "| yearbuilt         | yearbuilt(0) | yearbuilt(1)         | yearbuilt(2)         | yearbuilt(3)        | yearbuilt(4)        | yearbuilt(0)         | yearbuilt(1)         | yearbuilt(2)         | yearbuilt(3)         | yearbuilt(4)         | yearbuilt(0)        | yearbuilt(1)        | yearbuilt(2)        | yearbuilt(3)       | yearbuilt(4)       | yearbuilt(0)       | yearbuilt(1)        | yearbuilt(2)       | yearbuilt(3)         | yearbuilt(4)       | yearbuilt(0)       | yearbuilt(1) | yearbuilt(2) | yearbuilt(3)       | yearbuilt(4)       | yearbuilt(0)         | yearbuilt(1)         | yearbuilt(2)        | yearbuilt(3)         | yearbuilt(4) |\n",
            "+-------------------+--------------+----------------------+----------------------+---------------------+---------------------+----------------------+----------------------+----------------------+----------------------+----------------------+---------------------+---------------------+---------------------+--------------------+--------------------+--------------------+---------------------+--------------------+----------------------+--------------------+--------------------+--------------+--------------+--------------------+--------------------+----------------------+----------------------+---------------------+----------------------+--------------+\n",
            "| subsidies_flag(0) | 0.96875      | 0.9411764705882353   | 0.9565217391304348   | 0.9333333333333333  | 0.9333333333333333  | 0.9971181556195965   | 0.9928057553956835   | 0.9929577464788732   | 0.9855072463768116   | 0.9950248756218906   | 0.9023028611304955  | 0.8926919518963923  | 0.9121107266435986  | 0.9035667107001321 | 0.8218884120171673 | 0.6666666666666666 | 0.7204301075268817  | 0.9009009009009009 | 0.9615384615384616   | 0.6735905044510386 | 0.6666666666666666 | 0.9          | 0.5          | 0.8888888888888888 | 0.6970954356846473 | 0.9752475247524752   | 0.9752066115702479   | 0.9651741293532339  | 0.9815950920245399   | 0.95         |\n",
            "+-------------------+--------------+----------------------+----------------------+---------------------+---------------------+----------------------+----------------------+----------------------+----------------------+----------------------+---------------------+---------------------+---------------------+--------------------+--------------------+--------------------+---------------------+--------------------+----------------------+--------------------+--------------------+--------------+--------------+--------------------+--------------------+----------------------+----------------------+---------------------+----------------------+--------------+\n",
            "| subsidies_flag(1) | 0.03125      | 0.058823529411764705 | 0.043478260869565216 | 0.06666666666666667 | 0.06666666666666667 | 0.002881844380403458 | 0.007194244604316547 | 0.007042253521126761 | 0.014492753623188406 | 0.004975124378109453 | 0.09769713886950454 | 0.10730804810360776 | 0.08788927335640138 | 0.0964332892998679 | 0.1781115879828326 | 0.3333333333333333 | 0.27956989247311825 | 0.0990990990990991 | 0.038461538461538464 | 0.3264094955489614 | 0.3333333333333333 | 0.1          | 0.5          | 0.1111111111111111 | 0.3029045643153527 | 0.024752475247524754 | 0.024793388429752067 | 0.03482587064676617 | 0.018404907975460124 | 0.05         |\n",
            "+-------------------+--------------+----------------------+----------------------+---------------------+---------------------+----------------------+----------------------+----------------------+----------------------+----------------------+---------------------+---------------------+---------------------+--------------------+--------------------+--------------------+---------------------+--------------------+----------------------+--------------------+--------------------+--------------+--------------+--------------------+--------------------+----------------------+----------------------+---------------------+----------------------+--------------+\n",
            "CPD of residfar:\n",
            "+-------------+-----------+\n",
            "| residfar(0) | 0.235907  |\n",
            "+-------------+-----------+\n",
            "| residfar(1) | 0.539748  |\n",
            "+-------------+-----------+\n",
            "| residfar(2) | 0.0927111 |\n",
            "+-------------+-----------+\n",
            "| residfar(3) | 0.0302498 |\n",
            "+-------------+-----------+\n",
            "| residfar(4) | 0.101383  |\n",
            "+-------------+-----------+\n",
            "CPD of yearbuilt:\n",
            "+--------------+---------------------+---------------------+---------------------+----------------------+----------------------+----------------------+\n",
            "| bldgclass    | bldgclass(0)        | bldgclass(1)        | bldgclass(2)        | bldgclass(3)         | bldgclass(4)         | bldgclass(5)         |\n",
            "+--------------+---------------------+---------------------+---------------------+----------------------+----------------------+----------------------+\n",
            "| yearbuilt(0) | 0.31958762886597936 | 0.387458006718925   | 0.2413211998651837  | 0.021199273167777106 | 0.04059040590405904  | 0.2323699421965318   |\n",
            "+--------------+---------------------+---------------------+---------------------+----------------------+----------------------+----------------------+\n",
            "| yearbuilt(1) | 0.16494845360824742 | 0.15453527435610304 | 0.1820020222446916  | 0.05572380375529982  | 0.033210332103321034 | 0.13872832369942195  |\n",
            "+--------------+---------------------+---------------------+---------------------+----------------------+----------------------+----------------------+\n",
            "| yearbuilt(2) | 0.2268041237113402  | 0.15789473684210525 | 0.24334344455679138 | 0.20109024833434283  | 0.01107011070110701  | 0.23121387283236994  |\n",
            "+--------------+---------------------+---------------------+---------------------+----------------------+----------------------+----------------------+\n",
            "| yearbuilt(3) | 0.14432989690721648 | 0.0761478163493841  | 0.25497135153353556 | 0.3143549364021805   | 0.02952029520295203  | 0.37572254335260113  |\n",
            "+--------------+---------------------+---------------------+---------------------+----------------------+----------------------+----------------------+\n",
            "| yearbuilt(4) | 0.14432989690721648 | 0.22396416573348266 | 0.07836198179979778 | 0.4076317383403998   | 0.8856088560885609   | 0.021965317919075144 |\n",
            "+--------------+---------------------+---------------------+---------------------+----------------------+----------------------+----------------------+\n",
            "CPD of unit_ratio:\n",
            "+---------------+----------------------+---------------------+---------------------+---------------------+---------------------+---------------------+\n",
            "| bldgclass     | bldgclass(0)         | bldgclass(1)        | bldgclass(2)        | bldgclass(3)        | bldgclass(4)        | bldgclass(5)        |\n",
            "+---------------+----------------------+---------------------+---------------------+---------------------+---------------------+---------------------+\n",
            "| unit_ratio(0) | 0.041237113402061855 | 0.07166853303471445 | 0.2034041118975396  | 0.06299212598425197 | 0.02952029520295203 | 0.24277456647398843 |\n",
            "+---------------+----------------------+---------------------+---------------------+---------------------+---------------------+---------------------+\n",
            "| unit_ratio(1) | 0.041237113402061855 | 0.12094064949608063 | 0.26002696326255476 | 0.17928528164748636 | 0.1881918819188192  | 0.1930635838150289  |\n",
            "+---------------+----------------------+---------------------+---------------------+---------------------+---------------------+---------------------+\n",
            "| unit_ratio(2) | 0.05154639175257732  | 0.1433370660694289  | 0.2387933940006741  | 0.20351302241066022 | 0.24354243542435425 | 0.16878612716763006 |\n",
            "+---------------+----------------------+---------------------+---------------------+---------------------+---------------------+---------------------+\n",
            "| unit_ratio(3) | 0.05154639175257732  | 0.2765957446808511  | 0.17778901247050893 | 0.3343428225317989  | 0.12915129151291513 | 0.16878612716763006 |\n",
            "+---------------+----------------------+---------------------+---------------------+---------------------+---------------------+---------------------+\n",
            "| unit_ratio(4) | 0.8144329896907216   | 0.387458006718925   | 0.11998651836872262 | 0.21986674742580253 | 0.4095940959409594  | 0.22658959537572254 |\n",
            "+---------------+----------------------+---------------------+---------------------+---------------------+---------------------+---------------------+\n",
            "CPD of violations:\n",
            "+---------------+----------------------+----------------------+----------------------+---------------------+-----------------------+-----------------------+\n",
            "| bldgclass     | bldgclass(0)         | bldgclass(1)         | bldgclass(2)         | bldgclass(3)        | bldgclass(4)          | bldgclass(5)          |\n",
            "+---------------+----------------------+----------------------+----------------------+---------------------+-----------------------+-----------------------+\n",
            "| violations(0) | 0.7684210526315789   | 0.792368125701459    | 0.6045178691840863   | 0.45906610066707093 | 0.7211895910780669    | 0.7358053302433372    |\n",
            "+---------------+----------------------+----------------------+----------------------+---------------------+-----------------------+-----------------------+\n",
            "| violations(1) | 0.22105263157894736  | 0.20650953984287318  | 0.3841874578556979   | 0.4687689508793208  | 0.275092936802974     | 0.2607184241019699    |\n",
            "+---------------+----------------------+----------------------+----------------------+---------------------+-----------------------+-----------------------+\n",
            "| violations(2) | 0.010526315789473684 | 0.001122334455667789 | 0.011294672960215779 | 0.07216494845360824 | 0.0037174721189591076 | 0.0034762456546929316 |\n",
            "+---------------+----------------------+----------------------+----------------------+---------------------+-----------------------+-----------------------+\n",
            "CPD of landuse:\n",
            "+------------+---------------------+---------------------+---------------------+---------------------+---------------------+\n",
            "| residfar   | residfar(0)         | residfar(1)         | residfar(2)         | residfar(3)         | residfar(4)         |\n",
            "+------------+---------------------+---------------------+---------------------+---------------------+---------------------+\n",
            "| landuse(0) | 0.20541958041958042 | 0.09290766583827184 | 0.01220865704772475 | 0.02364864864864865 | 0.01116751269035533 |\n",
            "+------------+---------------------+---------------------+---------------------+---------------------+---------------------+\n",
            "| landuse(1) | 0.5323426573426573  | 0.6740584974192315  | 0.5294117647058824  | 0.19594594594594594 | 0.3604060913705584  |\n",
            "+------------+---------------------+---------------------+---------------------+---------------------+---------------------+\n",
            "| landuse(2) | 0.15952797202797203 | 0.09826037086599121 | 0.12985571587125416 | 0.5472972972972973  | 0.38781725888324875 |\n",
            "+------------+---------------------+---------------------+---------------------+---------------------+---------------------+\n",
            "| landuse(3) | 0.10270979020979021 | 0.13477346587650546 | 0.32852386237513875 | 0.23310810810810811 | 0.24060913705583756 |\n",
            "+------------+---------------------+---------------------+---------------------+---------------------+---------------------+\n",
            "(violations _|_ residfar, unit_ratio, subsidies_flag, landuse, yearbuilt | bldgclass)\n",
            "{'bldgclass': set(['bldgclass', 'subsidies_flag', 'residfar', 'yearbuilt', 'unit_ratio', 'violations', 'landuse'])}\n",
            "{'subsidies_flag': set(['bldgclass', 'subsidies_flag', 'residfar', 'yearbuilt', 'unit_ratio', 'violations', 'landuse'])}\n",
            "{'residfar': set(['bldgclass', 'subsidies_flag', 'residfar', 'yearbuilt', 'unit_ratio', 'violations', 'landuse'])}\n",
            "{'yearbuilt': set(['bldgclass', 'subsidies_flag', 'residfar', 'yearbuilt', 'unit_ratio', 'violations', 'landuse'])}\n",
            "{'unit_ratio': set(['bldgclass', 'subsidies_flag', 'residfar', 'yearbuilt', 'unit_ratio', 'violations', 'landuse'])}\n",
            "{'violations': set(['bldgclass', 'subsidies_flag', 'residfar', 'yearbuilt', 'unit_ratio', 'violations', 'landuse'])}\n",
            "{'landuse': set(['bldgclass', 'subsidies_flag', 'residfar', 'yearbuilt', 'unit_ratio', 'violations', 'landuse'])}\n"
          ],
          "name": "stdout"
        }
      ]
    },
    {
      "cell_type": "code",
      "metadata": {
        "id": "wbU_FsR4iYE3",
        "colab_type": "code",
        "outputId": "945efe0e-5274-462b-9114-38a17897e448",
        "colab": {
          "base_uri": "https://localhost:8080/",
          "height": 34
        }
      },
      "source": [
        "best_model.fit(data16train, estimator=BayesianEstimator, prior_type='K2')\n",
        "test_x = data16test.drop(columns=['violations'])\n",
        "predicted_test = temp_predict(best_model, test_x)\n",
        "print \"Out of sample:\",(data16test.loc[:,'violations']==predicted_test['violations']).mean()"
      ],
      "execution_count": 0,
      "outputs": [
        {
          "output_type": "stream",
          "text": [
            "Out of sample: 0.620817843866171\n"
          ],
          "name": "stdout"
        }
      ]
    },
    {
      "cell_type": "code",
      "metadata": {
        "id": "y3vDZsNPV9tk",
        "colab_type": "code",
        "outputId": "92c3af77-f0d2-420d-dd7b-33a575a8edeb",
        "colab": {
          "base_uri": "https://localhost:8080/",
          "height": 34
        }
      },
      "source": [
        "train_x = data16train.drop(columns=['violations'])\n",
        "predicted_train = temp_predict(best_model, train_x)\n",
        "print \"In of sample:\",(data16train.loc[:,'violations']==predicted_train['violations']).mean()"
      ],
      "execution_count": 0,
      "outputs": [
        {
          "output_type": "stream",
          "text": [
            "In of sample: 0.6157421753951038\n"
          ],
          "name": "stdout"
        }
      ]
    },
    {
      "cell_type": "code",
      "metadata": {
        "id": "UM-mnGMC9U8L",
        "colab_type": "code",
        "colab": {}
      },
      "source": [
        "data16smaller = pd.read_csv(\"data16smaller_4_2.csv\", low_memory = False, dtype = {'subsidies_flag':\"int64\"})\n",
        "data16smaller.head()"
      ],
      "execution_count": 0,
      "outputs": []
    },
    {
      "cell_type": "code",
      "metadata": {
        "id": "drKWoIVL_7g4",
        "colab_type": "code",
        "outputId": "647cf7c6-b2e6-443a-e4aa-3a718212ddb1",
        "colab": {
          "base_uri": "https://localhost:8080/",
          "height": 88
        }
      },
      "source": [
        "data16train, data16test = train_test_split(data16smaller,random_state=9,test_size=0.2)\n",
        "hc = HillClimbSearch(data16train, scoring_method=BicScore(data16train))\n",
        "best_model = hc.estimate()\n",
        "print(best_model.edges())\n",
        "\n",
        "best_model.fit(data16train, estimator=BayesianEstimator, prior_type='K2')\n",
        "\n",
        "train_x = data16train.drop(columns=['vio_rt'])\n",
        "predicted_train = temp_predict(best_model, train_x)\n",
        "print \"In of sample:\",(data16train.loc[:,'vio_rt']==predicted_train['vio_rt']).mean()\n",
        "\n",
        "test_x = data16test.drop(columns=['vio_rt'])\n",
        "predicted_test = temp_predict(best_model, test_x)\n",
        "print \"Out of sample:\",(data16test.loc[:,'vio_rt']==predicted_test['vio_rt']).mean()"
      ],
      "execution_count": 0,
      "outputs": [
        {
          "output_type": "stream",
          "text": [
            "[('bldgclass', 'unit_ratio'), ('bldgclass', 'subsidies_flag'), ('bldgclass', 'yearbuilt'), ('bldgclass', 'vio_rt'), ('residfar', 'landuse'), ('yearbuilt', 'subsidies_flag'), ('landuse', 'bldgclass')]\n",
            "In of sample: 0.33570912095857863\n",
            "Out of sample: 0.3345724907063197\n"
          ],
          "name": "stdout"
        }
      ]
    },
    {
      "cell_type": "code",
      "metadata": {
        "id": "oHuDFR84ZZ2c",
        "colab_type": "code",
        "outputId": "6435e37b-d967-4356-f04a-87ba67827294",
        "colab": {
          "base_uri": "https://localhost:8080/",
          "height": 1754
        }
      },
      "source": [
        "data16train, data16test = train_test_split(data16smaller,random_state=9,test_size=0.2)\n",
        "hc = HillClimbSearch(data16train, scoring_method=BicScore(data16train))\n",
        "best_model = hc.estimate()\n",
        "\n",
        "print(best_model.edges())\n",
        "\n",
        "best_model.fit(data16train, estimator=BayesianEstimator, prior_type='K2')\n",
        "\n",
        "for cpd in best_model.get_cpds():\n",
        "    print(\"CPD of {variable}:\".format(variable=cpd.variable))\n",
        "    print(cpd)\n",
        "    \n",
        "print best_model.local_independencies('vio_rt')\n",
        "\n",
        "for thenode in best_model.nodes():\n",
        "    print best_model.active_trail_nodes(thenode)"
      ],
      "execution_count": 0,
      "outputs": [
        {
          "output_type": "stream",
          "text": [
            "[('bldgclass', 'unit_ratio'), ('bldgclass', 'subsidies_flag'), ('bldgclass', 'yearbuilt'), ('bldgclass', 'vio_rt'), ('residfar', 'landuse'), ('yearbuilt', 'subsidies_flag'), ('landuse', 'bldgclass')]\n",
            "CPD of bldgclass:\n",
            "+--------------+-----------------------+-----------------------+-----------------------+-----------------------+\n",
            "| landuse      | landuse(0)            | landuse(1)            | landuse(2)            | landuse(3)            |\n",
            "+--------------+-----------------------+-----------------------+-----------------------+-----------------------+\n",
            "| bldgclass(0) | 0.09432048681541583   | 0.0001774622892635315 | 0.0006489292667099286 | 0.0006480881399870382 |\n",
            "+--------------+-----------------------+-----------------------+-----------------------+-----------------------+\n",
            "| bldgclass(1) | 0.9016227180527383    | 0.0001774622892635315 | 0.0006489292667099286 | 0.0006480881399870382 |\n",
            "+--------------+-----------------------+-----------------------+-----------------------+-----------------------+\n",
            "| bldgclass(2) | 0.0010141987829614604 | 0.9604259094942325    | 0.0006489292667099286 | 0.33635774465327284   |\n",
            "+--------------+-----------------------+-----------------------+-----------------------+-----------------------+\n",
            "| bldgclass(3) | 0.0010141987829614604 | 0.0001774622892635315 | 0.9662556781310837    | 0.10304601425793908   |\n",
            "+--------------+-----------------------+-----------------------+-----------------------+-----------------------+\n",
            "| bldgclass(4) | 0.0010141987829614604 | 0.0388642413487134    | 0.031148604802076575  | 0.0012961762799740765 |\n",
            "+--------------+-----------------------+-----------------------+-----------------------+-----------------------+\n",
            "| bldgclass(5) | 0.0010141987829614604 | 0.0001774622892635315 | 0.0006489292667099286 | 0.55800388852884      |\n",
            "+--------------+-----------------------+-----------------------+-----------------------+-----------------------+\n",
            "CPD of subsidies_flag:\n",
            "+-------------------+--------------+----------------------+----------------------+---------------------+---------------------+----------------------+----------------------+----------------------+----------------------+----------------------+---------------------+---------------------+---------------------+--------------------+--------------------+--------------------+---------------------+--------------------+----------------------+--------------------+--------------------+--------------+--------------+--------------------+--------------------+----------------------+----------------------+---------------------+----------------------+--------------+\n",
            "| bldgclass         | bldgclass(0) | bldgclass(0)         | bldgclass(0)         | bldgclass(0)        | bldgclass(0)        | bldgclass(1)         | bldgclass(1)         | bldgclass(1)         | bldgclass(1)         | bldgclass(1)         | bldgclass(2)        | bldgclass(2)        | bldgclass(2)        | bldgclass(2)       | bldgclass(2)       | bldgclass(3)       | bldgclass(3)        | bldgclass(3)       | bldgclass(3)         | bldgclass(3)       | bldgclass(4)       | bldgclass(4) | bldgclass(4) | bldgclass(4)       | bldgclass(4)       | bldgclass(5)         | bldgclass(5)         | bldgclass(5)        | bldgclass(5)         | bldgclass(5) |\n",
            "+-------------------+--------------+----------------------+----------------------+---------------------+---------------------+----------------------+----------------------+----------------------+----------------------+----------------------+---------------------+---------------------+---------------------+--------------------+--------------------+--------------------+---------------------+--------------------+----------------------+--------------------+--------------------+--------------+--------------+--------------------+--------------------+----------------------+----------------------+---------------------+----------------------+--------------+\n",
            "| yearbuilt         | yearbuilt(0) | yearbuilt(1)         | yearbuilt(2)         | yearbuilt(3)        | yearbuilt(4)        | yearbuilt(0)         | yearbuilt(1)         | yearbuilt(2)         | yearbuilt(3)         | yearbuilt(4)         | yearbuilt(0)        | yearbuilt(1)        | yearbuilt(2)        | yearbuilt(3)       | yearbuilt(4)       | yearbuilt(0)       | yearbuilt(1)        | yearbuilt(2)       | yearbuilt(3)         | yearbuilt(4)       | yearbuilt(0)       | yearbuilt(1) | yearbuilt(2) | yearbuilt(3)       | yearbuilt(4)       | yearbuilt(0)         | yearbuilt(1)         | yearbuilt(2)        | yearbuilt(3)         | yearbuilt(4) |\n",
            "+-------------------+--------------+----------------------+----------------------+---------------------+---------------------+----------------------+----------------------+----------------------+----------------------+----------------------+---------------------+---------------------+---------------------+--------------------+--------------------+--------------------+---------------------+--------------------+----------------------+--------------------+--------------------+--------------+--------------+--------------------+--------------------+----------------------+----------------------+---------------------+----------------------+--------------+\n",
            "| subsidies_flag(0) | 0.96875      | 0.9411764705882353   | 0.9565217391304348   | 0.9333333333333333  | 0.9333333333333333  | 0.9971181556195965   | 0.9928057553956835   | 0.9929577464788732   | 0.9855072463768116   | 0.9950248756218906   | 0.9023028611304955  | 0.8926919518963923  | 0.9121107266435986  | 0.9035667107001321 | 0.8218884120171673 | 0.6666666666666666 | 0.7204301075268817  | 0.9009009009009009 | 0.9615384615384616   | 0.6735905044510386 | 0.6666666666666666 | 0.9          | 0.5          | 0.8888888888888888 | 0.6970954356846473 | 0.9752475247524752   | 0.9752066115702479   | 0.9651741293532339  | 0.9815950920245399   | 0.95         |\n",
            "+-------------------+--------------+----------------------+----------------------+---------------------+---------------------+----------------------+----------------------+----------------------+----------------------+----------------------+---------------------+---------------------+---------------------+--------------------+--------------------+--------------------+---------------------+--------------------+----------------------+--------------------+--------------------+--------------+--------------+--------------------+--------------------+----------------------+----------------------+---------------------+----------------------+--------------+\n",
            "| subsidies_flag(1) | 0.03125      | 0.058823529411764705 | 0.043478260869565216 | 0.06666666666666667 | 0.06666666666666667 | 0.002881844380403458 | 0.007194244604316547 | 0.007042253521126761 | 0.014492753623188406 | 0.004975124378109453 | 0.09769713886950454 | 0.10730804810360776 | 0.08788927335640138 | 0.0964332892998679 | 0.1781115879828326 | 0.3333333333333333 | 0.27956989247311825 | 0.0990990990990991 | 0.038461538461538464 | 0.3264094955489614 | 0.3333333333333333 | 0.1          | 0.5          | 0.1111111111111111 | 0.3029045643153527 | 0.024752475247524754 | 0.024793388429752067 | 0.03482587064676617 | 0.018404907975460124 | 0.05         |\n",
            "+-------------------+--------------+----------------------+----------------------+---------------------+---------------------+----------------------+----------------------+----------------------+----------------------+----------------------+---------------------+---------------------+---------------------+--------------------+--------------------+--------------------+---------------------+--------------------+----------------------+--------------------+--------------------+--------------+--------------+--------------------+--------------------+----------------------+----------------------+---------------------+----------------------+--------------+\n",
            "CPD of residfar:\n",
            "+-------------+-----------+\n",
            "| residfar(0) | 0.235907  |\n",
            "+-------------+-----------+\n",
            "| residfar(1) | 0.539748  |\n",
            "+-------------+-----------+\n",
            "| residfar(2) | 0.0927111 |\n",
            "+-------------+-----------+\n",
            "| residfar(3) | 0.0302498 |\n",
            "+-------------+-----------+\n",
            "| residfar(4) | 0.101383  |\n",
            "+-------------+-----------+\n",
            "CPD of yearbuilt:\n",
            "+--------------+---------------------+---------------------+---------------------+----------------------+----------------------+----------------------+\n",
            "| bldgclass    | bldgclass(0)        | bldgclass(1)        | bldgclass(2)        | bldgclass(3)         | bldgclass(4)         | bldgclass(5)         |\n",
            "+--------------+---------------------+---------------------+---------------------+----------------------+----------------------+----------------------+\n",
            "| yearbuilt(0) | 0.31958762886597936 | 0.387458006718925   | 0.2413211998651837  | 0.021199273167777106 | 0.04059040590405904  | 0.2323699421965318   |\n",
            "+--------------+---------------------+---------------------+---------------------+----------------------+----------------------+----------------------+\n",
            "| yearbuilt(1) | 0.16494845360824742 | 0.15453527435610304 | 0.1820020222446916  | 0.05572380375529982  | 0.033210332103321034 | 0.13872832369942195  |\n",
            "+--------------+---------------------+---------------------+---------------------+----------------------+----------------------+----------------------+\n",
            "| yearbuilt(2) | 0.2268041237113402  | 0.15789473684210525 | 0.24334344455679138 | 0.20109024833434283  | 0.01107011070110701  | 0.23121387283236994  |\n",
            "+--------------+---------------------+---------------------+---------------------+----------------------+----------------------+----------------------+\n",
            "| yearbuilt(3) | 0.14432989690721648 | 0.0761478163493841  | 0.25497135153353556 | 0.3143549364021805   | 0.02952029520295203  | 0.37572254335260113  |\n",
            "+--------------+---------------------+---------------------+---------------------+----------------------+----------------------+----------------------+\n",
            "| yearbuilt(4) | 0.14432989690721648 | 0.22396416573348266 | 0.07836198179979778 | 0.4076317383403998   | 0.8856088560885609   | 0.021965317919075144 |\n",
            "+--------------+---------------------+---------------------+---------------------+----------------------+----------------------+----------------------+\n",
            "CPD of vio_rt:\n",
            "+-----------+----------------------+-----------------------+---------------------+---------------------+---------------------+-----------------------+\n",
            "| bldgclass | bldgclass(0)         | bldgclass(1)          | bldgclass(2)        | bldgclass(3)        | bldgclass(4)        | bldgclass(5)          |\n",
            "+-----------+----------------------+-----------------------+---------------------+---------------------+---------------------+-----------------------+\n",
            "| vio_rt(0) | 0.7731958762886598   | 0.5296752519596865    | 0.2298618132794068  | 0.01029678982434888 | 0.04428044280442804 | 0.3861271676300578    |\n",
            "+-----------+----------------------+-----------------------+---------------------+---------------------+---------------------+-----------------------+\n",
            "| vio_rt(1) | 0.1958762886597938   | 0.2855543113101904    | 0.24671385237613752 | 0.07752877044215627 | 0.11070110701107011 | 0.24046242774566473   |\n",
            "+-----------+----------------------+-----------------------+---------------------+---------------------+---------------------+-----------------------+\n",
            "| vio_rt(2) | 0.010309278350515464 | 0.18253079507278835   | 0.2344118638355241  | 0.1889763779527559  | 0.13653136531365315 | 0.23583815028901733   |\n",
            "+-----------+----------------------+-----------------------+---------------------+---------------------+---------------------+-----------------------+\n",
            "| vio_rt(3) | 0.010309278350515464 | 0.0011198208286674132 | 0.213515335355578   | 0.25802543912780135 | 0.18450184501845018 | 0.13641618497109825   |\n",
            "+-----------+----------------------+-----------------------+---------------------+---------------------+---------------------+-----------------------+\n",
            "| vio_rt(4) | 0.010309278350515464 | 0.0011198208286674132 | 0.07549713515335356 | 0.46517262265293763 | 0.5239852398523985  | 0.0011560693641618498 |\n",
            "+-----------+----------------------+-----------------------+---------------------+---------------------+---------------------+-----------------------+\n",
            "CPD of unit_ratio:\n",
            "+---------------+----------------------+---------------------+---------------------+---------------------+---------------------+---------------------+\n",
            "| bldgclass     | bldgclass(0)         | bldgclass(1)        | bldgclass(2)        | bldgclass(3)        | bldgclass(4)        | bldgclass(5)        |\n",
            "+---------------+----------------------+---------------------+---------------------+---------------------+---------------------+---------------------+\n",
            "| unit_ratio(0) | 0.041237113402061855 | 0.07166853303471445 | 0.2034041118975396  | 0.06299212598425197 | 0.02952029520295203 | 0.24277456647398843 |\n",
            "+---------------+----------------------+---------------------+---------------------+---------------------+---------------------+---------------------+\n",
            "| unit_ratio(1) | 0.041237113402061855 | 0.12094064949608063 | 0.26002696326255476 | 0.17928528164748636 | 0.1881918819188192  | 0.1930635838150289  |\n",
            "+---------------+----------------------+---------------------+---------------------+---------------------+---------------------+---------------------+\n",
            "| unit_ratio(2) | 0.05154639175257732  | 0.1433370660694289  | 0.2387933940006741  | 0.20351302241066022 | 0.24354243542435425 | 0.16878612716763006 |\n",
            "+---------------+----------------------+---------------------+---------------------+---------------------+---------------------+---------------------+\n",
            "| unit_ratio(3) | 0.05154639175257732  | 0.2765957446808511  | 0.17778901247050893 | 0.3343428225317989  | 0.12915129151291513 | 0.16878612716763006 |\n",
            "+---------------+----------------------+---------------------+---------------------+---------------------+---------------------+---------------------+\n",
            "| unit_ratio(4) | 0.8144329896907216   | 0.387458006718925   | 0.11998651836872262 | 0.21986674742580253 | 0.4095940959409594  | 0.22658959537572254 |\n",
            "+---------------+----------------------+---------------------+---------------------+---------------------+---------------------+---------------------+\n",
            "CPD of landuse:\n",
            "+------------+---------------------+---------------------+---------------------+---------------------+---------------------+\n",
            "| residfar   | residfar(0)         | residfar(1)         | residfar(2)         | residfar(3)         | residfar(4)         |\n",
            "+------------+---------------------+---------------------+---------------------+---------------------+---------------------+\n",
            "| landuse(0) | 0.20541958041958042 | 0.09290766583827184 | 0.01220865704772475 | 0.02364864864864865 | 0.01116751269035533 |\n",
            "+------------+---------------------+---------------------+---------------------+---------------------+---------------------+\n",
            "| landuse(1) | 0.5323426573426573  | 0.6740584974192315  | 0.5294117647058824  | 0.19594594594594594 | 0.3604060913705584  |\n",
            "+------------+---------------------+---------------------+---------------------+---------------------+---------------------+\n",
            "| landuse(2) | 0.15952797202797203 | 0.09826037086599121 | 0.12985571587125416 | 0.5472972972972973  | 0.38781725888324875 |\n",
            "+------------+---------------------+---------------------+---------------------+---------------------+---------------------+\n",
            "| landuse(3) | 0.10270979020979021 | 0.13477346587650546 | 0.32852386237513875 | 0.23310810810810811 | 0.24060913705583756 |\n",
            "+------------+---------------------+---------------------+---------------------+---------------------+---------------------+\n",
            "(vio_rt _|_ residfar, unit_ratio, subsidies_flag, landuse, yearbuilt | bldgclass)\n",
            "{'bldgclass': set(['bldgclass', 'subsidies_flag', 'residfar', 'yearbuilt', 'vio_rt', 'unit_ratio', 'landuse'])}\n",
            "{'subsidies_flag': set(['bldgclass', 'subsidies_flag', 'residfar', 'yearbuilt', 'vio_rt', 'unit_ratio', 'landuse'])}\n",
            "{'residfar': set(['bldgclass', 'subsidies_flag', 'residfar', 'yearbuilt', 'vio_rt', 'unit_ratio', 'landuse'])}\n",
            "{'yearbuilt': set(['bldgclass', 'subsidies_flag', 'residfar', 'yearbuilt', 'vio_rt', 'unit_ratio', 'landuse'])}\n",
            "{'vio_rt': set(['bldgclass', 'subsidies_flag', 'residfar', 'yearbuilt', 'vio_rt', 'unit_ratio', 'landuse'])}\n",
            "{'unit_ratio': set(['bldgclass', 'subsidies_flag', 'residfar', 'yearbuilt', 'vio_rt', 'unit_ratio', 'landuse'])}\n",
            "{'landuse': set(['bldgclass', 'subsidies_flag', 'residfar', 'yearbuilt', 'vio_rt', 'unit_ratio', 'landuse'])}\n"
          ],
          "name": "stdout"
        }
      ]
    }
  ]
}