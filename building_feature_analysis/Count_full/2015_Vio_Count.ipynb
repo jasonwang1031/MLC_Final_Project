{
  "nbformat": 4,
  "nbformat_minor": 0,
  "metadata": {
    "colab": {
      "name": "2015_Vio_Count.ipynb",
      "version": "0.3.2",
      "provenance": [],
      "collapsed_sections": []
    },
    "kernelspec": {
      "name": "python2",
      "display_name": "Python 2"
    }
  },
  "cells": [
    {
      "cell_type": "code",
      "metadata": {
        "id": "maDxXMADfiDP",
        "colab_type": "code",
        "outputId": "1118395f-abcd-4916-da12-0f664d13c187",
        "colab": {
          "resources": {
            "http://localhost:8080/nbextensions/google.colab/files.js": {
              "data": "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",
              "ok": true,
              "headers": [
                [
                  "content-type",
                  "application/javascript"
                ]
              ],
              "status": 200,
              "status_text": ""
            }
          },
          "base_uri": "https://localhost:8080/",
          "height": 70
        }
      },
      "source": [
        "import numpy as np\n",
        "import pandas as pd\n",
        "\n",
        "from google.colab import files\n",
        "uploaded = files.upload()"
      ],
      "execution_count": 0,
      "outputs": [
        {
          "output_type": "display_data",
          "data": {
            "text/plain": [
              "<IPython.core.display.HTML object>"
            ],
            "text/html": [
              "\n",
              "     <input type=\"file\" id=\"files-2ae2f213-b8d4-4c2d-b92e-034fc2bb6f69\" name=\"files[]\" multiple disabled />\n",
              "     <output id=\"result-2ae2f213-b8d4-4c2d-b92e-034fc2bb6f69\">\n",
              "      Upload widget is only available when the cell has been executed in the\n",
              "      current browser session. Please rerun this cell to enable.\n",
              "      </output>\n",
              "      <script src=\"/nbextensions/google.colab/files.js\"></script> "
            ]
          },
          "metadata": {
            "tags": []
          }
        },
        {
          "output_type": "stream",
          "text": [
            "Saving data15smaller_4_2.csv to data15smaller_4_2.csv\n"
          ],
          "name": "stdout"
        }
      ]
    },
    {
      "cell_type": "code",
      "metadata": {
        "id": "Iu068N1KgOmh",
        "colab_type": "code",
        "outputId": "eee52141-de48-4003-a37b-40ace57da1e1",
        "colab": {
          "base_uri": "https://localhost:8080/",
          "height": 51
        }
      },
      "source": [
        "!unzip \"data16smaller_1.csv.zip\""
      ],
      "execution_count": 0,
      "outputs": [
        {
          "output_type": "stream",
          "text": [
            "Archive:  data18smaller_1.csv.zip\n",
            "  inflating: data18smaller_1.csv     \n"
          ],
          "name": "stdout"
        }
      ]
    },
    {
      "cell_type": "code",
      "metadata": {
        "id": "G54IzR7LgT6G",
        "colab_type": "code",
        "colab": {}
      },
      "source": [
        "data16smaller = pd.read_csv(\"data15smaller_3_2.csv\", low_memory = False, dtype = {'subsidies_flag':\"int64\"})\n",
        "data16smaller.head()"
      ],
      "execution_count": 0,
      "outputs": []
    },
    {
      "cell_type": "code",
      "metadata": {
        "id": "xnzsTU5ShUvj",
        "colab_type": "code",
        "outputId": "1904a6ad-c3ce-4753-8e62-b0428c1ffc1c",
        "colab": {
          "base_uri": "https://localhost:8080/",
          "height": 98
        }
      },
      "source": [
        "!pip install pgmpy==0.1.7\n",
        "from pgmpy.estimators import HillClimbSearch, BicScore, BayesianEstimator\n",
        "from pgmpy.models import BayesianModel\n",
        "from sklearn.model_selection import train_test_split\n",
        "from pgmpy.inference import VariableElimination"
      ],
      "execution_count": 0,
      "outputs": [
        {
          "output_type": "stream",
          "text": [
            "Requirement already satisfied: pgmpy==0.1.7 in /usr/local/lib/python2.7/dist-packages (0.1.7)\n",
            "Requirement already satisfied: scipy>=1.0.0 in /usr/local/lib/python2.7/dist-packages (from pgmpy==0.1.7) (1.2.1)\n",
            "Requirement already satisfied: networkx<1.12,>=1.11 in /usr/local/lib/python2.7/dist-packages (from pgmpy==0.1.7) (1.11)\n",
            "Requirement already satisfied: numpy>=1.14.0 in /usr/local/lib/python2.7/dist-packages (from pgmpy==0.1.7) (1.16.3)\n",
            "Requirement already satisfied: decorator>=3.4.0 in /usr/local/lib/python2.7/dist-packages (from networkx<1.12,>=1.11->pgmpy==0.1.7) (4.4.0)\n"
          ],
          "name": "stdout"
        }
      ]
    },
    {
      "cell_type": "code",
      "metadata": {
        "id": "wym8MrPPiiu0",
        "colab_type": "code",
        "colab": {}
      },
      "source": [
        "from collections import defaultdict\n",
        "from pgmpy.inference import VariableElimination\n",
        "def temp_predict(model,data):\n",
        "    missing_variables = list(set(model.nodes()) - set(data.columns))\n",
        "    pred_values = defaultdict(list)\n",
        "    model_inference = VariableElimination(model)\n",
        "    for index, data_point in data.iterrows():\n",
        "        states_dict = model_inference.map_query(variables=missing_variables, evidence=data_point.astype(int).to_dict())\n",
        "        for k, v in states_dict.items():\n",
        "            pred_values[k].append(v)\n",
        "    return pd.DataFrame(pred_values, index=data.index)"
      ],
      "execution_count": 0,
      "outputs": []
    },
    {
      "cell_type": "code",
      "metadata": {
        "id": "ka5rRPa6hELy",
        "colab_type": "code",
        "outputId": "3fed7217-4d94-444d-eb57-e614847f7826",
        "colab": {
          "base_uri": "https://localhost:8080/",
          "height": 53
        }
      },
      "source": [
        "data16train, data16test = train_test_split(data16smaller,random_state=9,test_size=0.2)\n",
        "hc = HillClimbSearch(data16train, scoring_method=BicScore(data16train))\n",
        "best_model = hc.estimate()\n",
        "print(best_model.edges())"
      ],
      "execution_count": 0,
      "outputs": [
        {
          "output_type": "stream",
          "text": [
            "[('bldgclass', 'unit_ratio'), ('bldgclass', 'subsidies_flag'), ('bldgclass', 'yearbuilt'), ('bldgclass', 'violations'), ('subsidies_flag', 'residfar'), ('residfar', 'yearbuilt'), ('yearbuilt', 'unit_ratio'), ('yearbuilt', 'violations'), ('landuse', 'residfar'), ('landuse', 'bldgclass')]\n"
          ],
          "name": "stdout"
        }
      ]
    },
    {
      "cell_type": "code",
      "metadata": {
        "id": "Swx2kWyJaypK",
        "colab_type": "code",
        "outputId": "a2119e40-c31d-42d1-dbc9-0bb8f704d14b",
        "colab": {
          "base_uri": "https://localhost:8080/",
          "height": 1695
        }
      },
      "source": [
        "best_model.fit(data16train, estimator=BayesianEstimator, prior_type='K2')\n",
        "\n",
        "for cpd in best_model.get_cpds():\n",
        "    print(\"CPD of {variable}:\".format(variable=cpd.variable))\n",
        "    print(cpd)\n",
        "    \n",
        "print best_model.local_independencies('violations')\n",
        "\n",
        "for thenode in best_model.nodes():\n",
        "    print best_model.active_trail_nodes(thenode)"
      ],
      "execution_count": 0,
      "outputs": [
        {
          "output_type": "stream",
          "text": [
            "CPD of bldgclass:\n",
            "+--------------+------------------------+-----------------------+------------------------+------------------------+\n",
            "| landuse      | landuse(0)             | landuse(1)            | landuse(2)             | landuse(3)             |\n",
            "+--------------+------------------------+-----------------------+------------------------+------------------------+\n",
            "| bldgclass(0) | 0.17737789203084833    | 7.019021548396153e-05 | 0.00019708316909735908 | 0.00018076644974692697 |\n",
            "+--------------+------------------------+-----------------------+------------------------+------------------------+\n",
            "| bldgclass(1) | 0.8213367609254498     | 7.019021548396153e-05 | 0.00019708316909735908 | 0.00018076644974692697 |\n",
            "+--------------+------------------------+-----------------------+------------------------+------------------------+\n",
            "| bldgclass(2) | 0.00032133676092544985 | 0.9589387239418825    | 0.00019708316909735908 | 0.50234996384671       |\n",
            "+--------------+------------------------+-----------------------+------------------------+------------------------+\n",
            "| bldgclass(3) | 0.00032133676092544985 | 7.019021548396153e-05 | 0.9631454473787938     | 0.2017353579175705     |\n",
            "+--------------+------------------------+-----------------------+------------------------+------------------------+\n",
            "| bldgclass(4) | 0.00032133676092544985 | 0.04078051519618165   | 0.036066219944816715   | 0.0007230657989877079  |\n",
            "+--------------+------------------------+-----------------------+------------------------+------------------------+\n",
            "| bldgclass(5) | 0.00032133676092544985 | 7.019021548396153e-05 | 0.00019708316909735908 | 0.2948300795372379     |\n",
            "+--------------+------------------------+-----------------------+------------------------+------------------------+\n",
            "CPD of subsidies_flag:\n",
            "+-------------------+-----------------------+------------------------+--------------------+--------------------+---------------------+---------------------+\n",
            "| bldgclass         | bldgclass(0)          | bldgclass(1)           | bldgclass(2)       | bldgclass(3)       | bldgclass(4)        | bldgclass(5)        |\n",
            "+-------------------+-----------------------+------------------------+--------------------+--------------------+---------------------+---------------------+\n",
            "| subsidies_flag(0) | 0.9981916817359855    | 0.9996089166992569     | 0.8842527826774527 | 0.7857737797767783 | 0.6792698826597132  | 0.9761029411764706  |\n",
            "+-------------------+-----------------------+------------------------+--------------------+--------------------+---------------------+---------------------+\n",
            "| subsidies_flag(1) | 0.0018083182640144665 | 0.00039108330074305825 | 0.1157472173225473 | 0.2142262202232217 | 0.32073011734028684 | 0.02389705882352941 |\n",
            "+-------------------+-----------------------+------------------------+--------------------+--------------------+---------------------+---------------------+\n",
            "CPD of residfar:\n",
            "+----------------+----------------------+-------------------+---------------------+---------------------+---------------------+---------------------+---------------------+---------------------+\n",
            "| landuse        | landuse(0)           | landuse(0)        | landuse(1)          | landuse(1)          | landuse(2)          | landuse(2)          | landuse(3)          | landuse(3)          |\n",
            "+----------------+----------------------+-------------------+---------------------+---------------------+---------------------+---------------------+---------------------+---------------------+\n",
            "| subsidies_flag | subsidies_flag(0)    | subsidies_flag(1) | subsidies_flag(0)   | subsidies_flag(1)   | subsidies_flag(0)   | subsidies_flag(1)   | subsidies_flag(0)   | subsidies_flag(1)   |\n",
            "+----------------+----------------------+-------------------+---------------------+---------------------+---------------------+---------------------+---------------------+---------------------+\n",
            "| residfar(0)    | 0.7325618772099004   | 0.2               | 0.2947787963332005  | 0.09320046893317702 | 0.16495362246176987 | 0.09366391184573003 | 0.1110193974411886  | 0.06086956521739131 |\n",
            "+----------------+----------------------+-------------------+---------------------+---------------------+---------------------+---------------------+---------------------+---------------------+\n",
            "| residfar(1)    | 0.20990035358405656  | 0.2               | 0.3882821841371064  | 0.3716295427901524  | 0.22787666081724742 | 0.29017447199265384 | 0.2443252166735452  | 0.1927536231884058  |\n",
            "+----------------+----------------------+-------------------+---------------------+---------------------+---------------------+---------------------+---------------------+---------------------+\n",
            "| residfar(2)    | 0.014786242365798778 | 0.2               | 0.06432841769629334 | 0.07151230949589683 | 0.07495612935572825 | 0.06152433425160698 | 0.09451093685513826 | 0.06521739130434782 |\n",
            "+----------------+----------------------+-------------------+---------------------+---------------------+---------------------+---------------------+---------------------+---------------------+\n",
            "| residfar(3)    | 0.03278688524590164  | 0.2               | 0.12347548824232762 | 0.2995310668229777  | 0.22311356229631488 | 0.3351698806244261  | 0.20264135369376807 | 0.43043478260869567 |\n",
            "+----------------+----------------------+-------------------+---------------------+---------------------+---------------------+---------------------+---------------------+---------------------+\n",
            "| residfar(4)    | 0.009964641594342655 | 0.2               | 0.12913511359107213 | 0.16412661195779601 | 0.3091000250689396  | 0.2194674012855831  | 0.34750309533635987 | 0.25072463768115943 |\n",
            "+----------------+----------------------+-------------------+---------------------+---------------------+---------------------+---------------------+---------------------+---------------------+\n",
            "CPD of yearbuilt:\n",
            "+--------------+---------------------+---------------------+---------------------+---------------------+---------------------+---------------------+---------------------+---------------------+--------------+----------------------+---------------------+---------------------+----------------------+---------------------+----------------------+----------------------+----------------------+----------------------+---------------------+---------------------+----------------------+----------------------+---------------------+----------------------+---------------------+----------------------+----------------------+----------------------+----------------------+----------------------+\n",
            "| bldgclass    | bldgclass(0)        | bldgclass(0)        | bldgclass(0)        | bldgclass(0)        | bldgclass(0)        | bldgclass(1)        | bldgclass(1)        | bldgclass(1)        | bldgclass(1) | bldgclass(1)         | bldgclass(2)        | bldgclass(2)        | bldgclass(2)         | bldgclass(2)        | bldgclass(2)         | bldgclass(3)         | bldgclass(3)         | bldgclass(3)         | bldgclass(3)        | bldgclass(3)        | bldgclass(4)         | bldgclass(4)         | bldgclass(4)        | bldgclass(4)         | bldgclass(4)        | bldgclass(5)         | bldgclass(5)         | bldgclass(5)         | bldgclass(5)         | bldgclass(5)         |\n",
            "+--------------+---------------------+---------------------+---------------------+---------------------+---------------------+---------------------+---------------------+---------------------+--------------+----------------------+---------------------+---------------------+----------------------+---------------------+----------------------+----------------------+----------------------+----------------------+---------------------+---------------------+----------------------+----------------------+---------------------+----------------------+---------------------+----------------------+----------------------+----------------------+----------------------+----------------------+\n",
            "| residfar     | residfar(0)         | residfar(1)         | residfar(2)         | residfar(3)         | residfar(4)         | residfar(0)         | residfar(1)         | residfar(2)         | residfar(3)  | residfar(4)          | residfar(0)         | residfar(1)         | residfar(2)          | residfar(3)         | residfar(4)          | residfar(0)          | residfar(1)          | residfar(2)          | residfar(3)         | residfar(4)         | residfar(0)          | residfar(1)          | residfar(2)         | residfar(3)          | residfar(4)         | residfar(0)          | residfar(1)          | residfar(2)          | residfar(3)          | residfar(4)          |\n",
            "+--------------+---------------------+---------------------+---------------------+---------------------+---------------------+---------------------+---------------------+---------------------+--------------+----------------------+---------------------+---------------------+----------------------+---------------------+----------------------+----------------------+----------------------+----------------------+---------------------+---------------------+----------------------+----------------------+---------------------+----------------------+---------------------+----------------------+----------------------+----------------------+----------------------+----------------------+\n",
            "| yearbuilt(0) | 0.1016597510373444  | 0.4576271186440678  | 0.38461538461538464 | 0.45454545454545453 | 0.5454545454545454  | 0.17718715393134    | 0.4593698175787728  | 0.35714285714285715 | 0.53         | 0.5517241379310345   | 0.08759506949908209 | 0.2523621370898471  | 0.2667269439421338   | 0.36294139060793595 | 0.4964729593550554   | 0.011029411764705883 | 0.03987240829346093  | 0.04265402843601896  | 0.07185990338164251 | 0.11927582534611289 | 0.003787878787878788 | 0.07540983606557378  | 0.2692307692307692  | 0.06611570247933884  | 0.13513513513513514 | 0.11635220125786164  | 0.20704845814977973  | 0.2713178294573643   | 0.4523809523809524   | 0.43630573248407645  |\n",
            "+--------------+---------------------+---------------------+---------------------+---------------------+---------------------+---------------------+---------------------+---------------------+--------------+----------------------+---------------------+---------------------+----------------------+---------------------+----------------------+----------------------+----------------------+----------------------+---------------------+---------------------+----------------------+----------------------+---------------------+----------------------+---------------------+----------------------+----------------------+----------------------+----------------------+----------------------+\n",
            "| yearbuilt(1) | 0.21161825726141079 | 0.1694915254237288  | 0.23076923076923078 | 0.09090909090909091 | 0.18181818181818182 | 0.1849390919158361  | 0.14593698175787728 | 0.16666666666666666 | 0.12         | 0.20689655172413793  | 0.14266981379491214 | 0.17969421061673252 | 0.24593128390596744  | 0.3400072806698216  | 0.3050050386294928   | 0.02696078431372549  | 0.058213716108452954 | 0.061611374407582936 | 0.14009661835748793 | 0.18796592119275826 | 0.011363636363636364 | 0.009836065573770493 | 0.11538461538461539 | 0.01652892561983471  | 0.24324324324324326 | 0.1949685534591195   | 0.14684287812041116  | 0.1821705426356589   | 0.16666666666666666  | 0.17197452229299362  |\n",
            "+--------------+---------------------+---------------------+---------------------+---------------------+---------------------+---------------------+---------------------+---------------------+--------------+----------------------+---------------------+---------------------+----------------------+---------------------+----------------------+----------------------+----------------------+----------------------+---------------------+---------------------+----------------------+----------------------+---------------------+----------------------+---------------------+----------------------+----------------------+----------------------+----------------------+----------------------+\n",
            "| yearbuilt(2) | 0.25311203319502074 | 0.13559322033898305 | 0.15384615384615385 | 0.09090909090909091 | 0.09090909090909091 | 0.17331118493909192 | 0.16583747927031509 | 0.11904761904761904 | 0.06         | 0.06896551724137931  | 0.26042486231313927 | 0.26404397869781826 | 0.23779385171790235  | 0.17692027666545324 | 0.12462210278804166  | 0.13970588235294118  | 0.16267942583732056  | 0.18009478672985782  | 0.2246376811594203  | 0.22417465388711394 | 0.007575757575757576 | 0.006557377049180328 | 0.23076923076923078 | 0.21487603305785125  | 0.06756756756756757 | 0.2641509433962264   | 0.23788546255506607  | 0.17054263565891473  | 0.17857142857142858  | 0.15286624203821655  |\n",
            "+--------------+---------------------+---------------------+---------------------+---------------------+---------------------+---------------------+---------------------+---------------------+--------------+----------------------+---------------------+---------------------+----------------------+---------------------+----------------------+----------------------+----------------------+----------------------+---------------------+---------------------+----------------------+----------------------+---------------------+----------------------+---------------------+----------------------+----------------------+----------------------+----------------------+----------------------+\n",
            "| yearbuilt(3) | 0.25933609958506226 | 0.11864406779661017 | 0.15384615384615385 | 0.18181818181818182 | 0.09090909090909091 | 0.16832779623477298 | 0.07296849087893864 | 0.07142857142857142 | 0.03         | 0.034482758620689655 | 0.32494099134539733 | 0.20563477065796254 | 0.19258589511754068  | 0.07207863123407353 | 0.06281491434329863  | 0.24019607843137256  | 0.23046251993620415  | 0.2559241706161137   | 0.24818840579710144 | 0.2220447284345048  | 0.06439393939393939  | 0.2819672131147541   | 0.11538461538461539 | 0.049586776859504134 | 0.08108108108108109 | 0.3836477987421384   | 0.37591776798825255  | 0.3488372093023256   | 0.15476190476190477  | 0.18471337579617833  |\n",
            "+--------------+---------------------+---------------------+---------------------+---------------------+---------------------+---------------------+---------------------+---------------------+--------------+----------------------+---------------------+---------------------+----------------------+---------------------+----------------------+----------------------+----------------------+----------------------+---------------------+---------------------+----------------------+----------------------+---------------------+----------------------+---------------------+----------------------+----------------------+----------------------+----------------------+----------------------+\n",
            "| yearbuilt(4) | 0.17427385892116182 | 0.11864406779661017 | 0.07692307692307693 | 0.18181818181818182 | 0.09090909090909091 | 0.296234772978959   | 0.1558872305140962  | 0.2857142857142857  | 0.26         | 0.13793103448275862  | 0.18436926304746917 | 0.09826490293763958 | 0.056962025316455694 | 0.04805242082271569 | 0.011084984884111521 | 0.5821078431372549   | 0.5087719298245614   | 0.4597156398104265   | 0.31521739130434784 | 0.24653887113951012 | 0.9128787878787878   | 0.6262295081967213   | 0.2692307692307692  | 0.6528925619834711   | 0.47297297297297297 | 0.040880503144654086 | 0.032305433186490456 | 0.027131782945736434 | 0.047619047619047616 | 0.054140127388535034 |\n",
            "+--------------+---------------------+---------------------+---------------------+---------------------+---------------------+---------------------+---------------------+---------------------+--------------+----------------------+---------------------+---------------------+----------------------+---------------------+----------------------+----------------------+----------------------+----------------------+---------------------+---------------------+----------------------+----------------------+---------------------+----------------------+---------------------+----------------------+----------------------+----------------------+----------------------+----------------------+\n",
            "CPD of unit_ratio:\n",
            "+---------------+----------------------+----------------------+----------------------+----------------------+----------------------+---------------------+---------------------+---------------------+---------------------+---------------------+---------------------+---------------------+---------------------+---------------------+---------------------+---------------------+---------------------+---------------------+---------------------+---------------------+---------------------+---------------------+---------------------+----------------------+---------------------+---------------------+---------------------+---------------------+---------------------+---------------------+\n",
            "| bldgclass     | bldgclass(0)         | bldgclass(0)         | bldgclass(0)         | bldgclass(0)         | bldgclass(0)         | bldgclass(1)        | bldgclass(1)        | bldgclass(1)        | bldgclass(1)        | bldgclass(1)        | bldgclass(2)        | bldgclass(2)        | bldgclass(2)        | bldgclass(2)        | bldgclass(2)        | bldgclass(3)        | bldgclass(3)        | bldgclass(3)        | bldgclass(3)        | bldgclass(3)        | bldgclass(4)        | bldgclass(4)        | bldgclass(4)        | bldgclass(4)         | bldgclass(4)        | bldgclass(5)        | bldgclass(5)        | bldgclass(5)        | bldgclass(5)        | bldgclass(5)        |\n",
            "+---------------+----------------------+----------------------+----------------------+----------------------+----------------------+---------------------+---------------------+---------------------+---------------------+---------------------+---------------------+---------------------+---------------------+---------------------+---------------------+---------------------+---------------------+---------------------+---------------------+---------------------+---------------------+---------------------+---------------------+----------------------+---------------------+---------------------+---------------------+---------------------+---------------------+---------------------+\n",
            "| yearbuilt     | yearbuilt(0)         | yearbuilt(1)         | yearbuilt(2)         | yearbuilt(3)         | yearbuilt(4)         | yearbuilt(0)        | yearbuilt(1)        | yearbuilt(2)        | yearbuilt(3)        | yearbuilt(4)        | yearbuilt(0)        | yearbuilt(1)        | yearbuilt(2)        | yearbuilt(3)        | yearbuilt(4)        | yearbuilt(0)        | yearbuilt(1)        | yearbuilt(2)        | yearbuilt(3)        | yearbuilt(4)        | yearbuilt(0)        | yearbuilt(1)        | yearbuilt(2)        | yearbuilt(3)         | yearbuilt(4)        | yearbuilt(0)        | yearbuilt(1)        | yearbuilt(2)        | yearbuilt(3)        | yearbuilt(4)        |\n",
            "+---------------+----------------------+----------------------+----------------------+----------------------+----------------------+---------------------+---------------------+---------------------+---------------------+---------------------+---------------------+---------------------+---------------------+---------------------+---------------------+---------------------+---------------------+---------------------+---------------------+---------------------+---------------------+---------------------+---------------------+----------------------+---------------------+---------------------+---------------------+---------------------+---------------------+---------------------+\n",
            "| unit_ratio(0) | 0.043478260869565216 | 0.059322033898305086 | 0.014925373134328358 | 0.10218978102189781  | 0.010526315789473684 | 0.05726872246696035 | 0.1029082774049217  | 0.11737089201877934 | 0.09014084507042254 | 0.02384500745156483 | 0.37415263503170787 | 0.2683585313174946  | 0.22356164383561644 | 0.2112722478576137  | 0.11510312707917499 | 0.22380952380952382 | 0.09915014164305949 | 0.08340353833192923 | 0.04292751583391977 | 0.09991273996509599 | 0.30612244897959184 | 0.20689655172413793 | 0.17073170731707318 | 0.7796610169491526   | 0.06329113924050633 | 0.22458628841607564 | 0.23465703971119134 | 0.34844192634560905 | 0.3432282003710575  | 0.25396825396825395 |\n",
            "+---------------+----------------------+----------------------+----------------------+----------------------+----------------------+---------------------+---------------------+---------------------+---------------------+---------------------+---------------------+---------------------+---------------------+---------------------+---------------------+---------------------+---------------------+---------------------+---------------------+---------------------+---------------------+---------------------+---------------------+----------------------+---------------------+---------------------+---------------------+---------------------+---------------------+---------------------+\n",
            "| unit_ratio(1) | 0.021739130434782608 | 0.01694915254237288  | 0.029850746268656716 | 0.021897810218978103 | 0.010526315789473684 | 0.06020558002936858 | 0.16778523489932887 | 0.13380281690140844 | 0.11549295774647887 | 0.07153502235469449 | 0.16663022086157883 | 0.2329913606911447  | 0.3136986301369863  | 0.3088332234673698  | 0.16367265469061876 | 0.11190476190476191 | 0.13739376770538245 | 0.11120471777590564 | 0.1442646023926812  | 0.1169284467713787  | 0.10204081632653061 | 0.10344827586206896 | 0.34146341463414637 | 0.1271186440677966   | 0.12115732368896925 | 0.18203309692671396 | 0.18050541516245489 | 0.1558073654390935  | 0.18552875695732837 | 0.1111111111111111  |\n",
            "+---------------+----------------------+----------------------+----------------------+----------------------+----------------------+---------------------+---------------------+---------------------+---------------------+---------------------+---------------------+---------------------+---------------------+---------------------+---------------------+---------------------+---------------------+---------------------+---------------------+---------------------+---------------------+---------------------+---------------------+----------------------+---------------------+---------------------+---------------------+---------------------+---------------------+---------------------+\n",
            "| unit_ratio(2) | 0.03260869565217391  | 0.0423728813559322   | 0.06716417910447761  | 0.029197080291970802 | 0.021052631578947368 | 0.12187958883994127 | 0.15212527964205816 | 0.13849765258215962 | 0.2704225352112676  | 0.07898658718330849 | 0.16247539908156572 | 0.22138228941684665 | 0.26273972602739726 | 0.25873434410019774 | 0.14105123087159016 | 0.13333333333333333 | 0.17280453257790368 | 0.2358887952822241  | 0.18015482054890922 | 0.2181500872600349  | 0.22448979591836735 | 0.20689655172413793 | 0.36585365853658536 | 0.05084745762711865  | 0.22965641952983726 | 0.12293144208037825 | 0.16606498194945848 | 0.13031161473087818 | 0.1280148423005566  | 0.12698412698412698 |\n",
            "+---------------+----------------------+----------------------+----------------------+----------------------+----------------------+---------------------+---------------------+---------------------+---------------------+---------------------+---------------------+---------------------+---------------------+---------------------+---------------------+---------------------+---------------------+---------------------+---------------------+---------------------+---------------------+---------------------+---------------------+----------------------+---------------------+---------------------+---------------------+---------------------+---------------------+---------------------+\n",
            "| unit_ratio(3) | 0.06521739130434782  | 0.11016949152542373  | 0.06716417910447761  | 0.10948905109489052  | 0.042105263157894736 | 0.25697503671071953 | 0.16778523489932887 | 0.17136150234741784 | 0.2084507042253521  | 0.18628912071535023 | 0.14979225891099934 | 0.16441684665226783 | 0.12219178082191781 | 0.13579433091628212 | 0.2368596141051231  | 0.23333333333333334 | 0.24504249291784702 | 0.33361415332771693 | 0.386347642505278   | 0.3110820244328098  | 0.08163265306122448 | 0.13793103448275862 | 0.07317073170731707 | 0.025423728813559324 | 0.244122965641953   | 0.2033096926713948  | 0.16967509025270758 | 0.1501416430594901  | 0.11873840445269017 | 0.19047619047619047 |\n",
            "+---------------+----------------------+----------------------+----------------------+----------------------+----------------------+---------------------+---------------------+---------------------+---------------------+---------------------+---------------------+---------------------+---------------------+---------------------+---------------------+---------------------+---------------------+---------------------+---------------------+---------------------+---------------------+---------------------+---------------------+----------------------+---------------------+---------------------+---------------------+---------------------+---------------------+---------------------+\n",
            "| unit_ratio(4) | 0.8369565217391305   | 0.7711864406779662   | 0.8208955223880597   | 0.7372262773722628   | 0.9157894736842105   | 0.5036710719530103  | 0.40939597315436244 | 0.43896713615023475 | 0.3154929577464789  | 0.639344262295082   | 0.14694948611414826 | 0.11285097192224622 | 0.07780821917808219 | 0.08536585365853659 | 0.34331337325349304 | 0.2976190476190476  | 0.34560906515580736 | 0.2358887952822241  | 0.24630541871921183 | 0.25392670157068065 | 0.2857142857142857  | 0.3448275862068966  | 0.04878048780487805 | 0.01694915254237288  | 0.34177215189873417 | 0.26713947990543735 | 0.2490974729241877  | 0.21529745042492918 | 0.22448979591836735 | 0.31746031746031744 |\n",
            "+---------------+----------------------+----------------------+----------------------+----------------------+----------------------+---------------------+---------------------+---------------------+---------------------+---------------------+---------------------+---------------------+---------------------+---------------------+---------------------+---------------------+---------------------+---------------------+---------------------+---------------------+---------------------+---------------------+---------------------+----------------------+---------------------+---------------------+---------------------+---------------------+---------------------+---------------------+\n",
            "CPD of violations:\n",
            "+---------------+----------------------+----------------------+----------------------+----------------------+----------------------+-----------------------+-----------------------+-----------------------+--------------------+-----------------------+----------------------+----------------------+---------------------+----------------------+----------------------+---------------------+---------------------+---------------------+---------------------+---------------------+---------------------+---------------------+---------------------+--------------------+-----------------------+----------------------+----------------------+----------------------+--------------------+---------------------+\n",
            "| bldgclass     | bldgclass(0)         | bldgclass(0)         | bldgclass(0)         | bldgclass(0)         | bldgclass(0)         | bldgclass(1)          | bldgclass(1)          | bldgclass(1)          | bldgclass(1)       | bldgclass(1)          | bldgclass(2)         | bldgclass(2)         | bldgclass(2)        | bldgclass(2)         | bldgclass(2)         | bldgclass(3)        | bldgclass(3)        | bldgclass(3)        | bldgclass(3)        | bldgclass(3)        | bldgclass(4)        | bldgclass(4)        | bldgclass(4)        | bldgclass(4)       | bldgclass(4)          | bldgclass(5)         | bldgclass(5)         | bldgclass(5)         | bldgclass(5)       | bldgclass(5)        |\n",
            "+---------------+----------------------+----------------------+----------------------+----------------------+----------------------+-----------------------+-----------------------+-----------------------+--------------------+-----------------------+----------------------+----------------------+---------------------+----------------------+----------------------+---------------------+---------------------+---------------------+---------------------+---------------------+---------------------+---------------------+---------------------+--------------------+-----------------------+----------------------+----------------------+----------------------+--------------------+---------------------+\n",
            "| yearbuilt     | yearbuilt(0)         | yearbuilt(1)         | yearbuilt(2)         | yearbuilt(3)         | yearbuilt(4)         | yearbuilt(0)          | yearbuilt(1)          | yearbuilt(2)          | yearbuilt(3)       | yearbuilt(4)          | yearbuilt(0)         | yearbuilt(1)         | yearbuilt(2)        | yearbuilt(3)         | yearbuilt(4)         | yearbuilt(0)        | yearbuilt(1)        | yearbuilt(2)        | yearbuilt(3)        | yearbuilt(4)        | yearbuilt(0)        | yearbuilt(1)        | yearbuilt(2)        | yearbuilt(3)       | yearbuilt(4)          | yearbuilt(0)         | yearbuilt(1)         | yearbuilt(2)         | yearbuilt(3)       | yearbuilt(4)        |\n",
            "+---------------+----------------------+----------------------+----------------------+----------------------+----------------------+-----------------------+-----------------------+-----------------------+--------------------+-----------------------+----------------------+----------------------+---------------------+----------------------+----------------------+---------------------+---------------------+---------------------+---------------------+---------------------+---------------------+---------------------+---------------------+--------------------+-----------------------+----------------------+----------------------+----------------------+--------------------+---------------------+\n",
            "| violations(0) | 0.8111111111111111   | 0.8448275862068966   | 0.8863636363636364   | 0.7185185185185186   | 0.8602150537634409   | 0.7452135493372607    | 0.797752808988764     | 0.8466981132075472    | 0.830028328611898  | 0.8370702541106129    | 0.655436447166922    | 0.5594273365748245   | 0.5860745614035088  | 0.5989445910290238   | 0.7561625582944703   | 0.5526315789473685  | 0.4872159090909091  | 0.40675105485232066 | 0.4390415785764623  | 0.540174672489083   | 0.6170212765957447  | 0.6666666666666666  | 0.9230769230769231  | 0.25               | 0.925589836660617     | 0.7790973871733967   | 0.7890909090909091   | 0.7549857549857549   | 0.7839851024208566 | 0.8360655737704918  |\n",
            "+---------------+----------------------+----------------------+----------------------+----------------------+----------------------+-----------------------+-----------------------+-----------------------+--------------------+-----------------------+----------------------+----------------------+---------------------+----------------------+----------------------+---------------------+---------------------+---------------------+---------------------+---------------------+---------------------+---------------------+---------------------+--------------------+-----------------------+----------------------+----------------------+----------------------+--------------------+---------------------+\n",
            "| violations(1) | 0.17777777777777778  | 0.14655172413793102  | 0.10606060606060606  | 0.2740740740740741   | 0.12903225806451613  | 0.2533136966126657    | 0.2                   | 0.14858490566037735   | 0.1671388101983003 | 0.16143497757847533   | 0.3377816670312842   | 0.419773095623987    | 0.3925438596491228  | 0.3934696569920844   | 0.23917388407728182  | 0.41148325358851673 | 0.4786931818181818  | 0.5383966244725739  | 0.5003523608174771  | 0.40262008733624455 | 0.3617021276595745  | 0.25925925925925924 | 0.05128205128205128 | 0.4482758620689655 | 0.07259528130671507   | 0.2161520190023753   | 0.20363636363636364  | 0.24216524216524216  | 0.2122905027932961 | 0.14754098360655737 |\n",
            "+---------------+----------------------+----------------------+----------------------+----------------------+----------------------+-----------------------+-----------------------+-----------------------+--------------------+-----------------------+----------------------+----------------------+---------------------+----------------------+----------------------+---------------------+---------------------+---------------------+---------------------+---------------------+---------------------+---------------------+---------------------+--------------------+-----------------------+----------------------+----------------------+----------------------+--------------------+---------------------+\n",
            "| violations(2) | 0.011111111111111112 | 0.008620689655172414 | 0.007575757575757576 | 0.007407407407407408 | 0.010752688172043012 | 0.0014727540500736377 | 0.0022471910112359553 | 0.0047169811320754715 | 0.0028328611898017 | 0.0014947683109118087 | 0.006781885801793918 | 0.020799567801188548 | 0.02138157894736842 | 0.007585751978891821 | 0.004663557628247834 | 0.03588516746411483 | 0.03409090909090909 | 0.05485232067510549 | 0.06060606060606061 | 0.05720524017467249 | 0.02127659574468085 | 0.07407407407407407 | 0.02564102564102564 | 0.3017241379310345 | 0.0018148820326678765 | 0.004750593824228029 | 0.007272727272727273 | 0.002849002849002849 | 0.0037243947858473 | 0.01639344262295082 |\n",
            "+---------------+----------------------+----------------------+----------------------+----------------------+----------------------+-----------------------+-----------------------+-----------------------+--------------------+-----------------------+----------------------+----------------------+---------------------+----------------------+----------------------+---------------------+---------------------+---------------------+---------------------+---------------------+---------------------+---------------------+---------------------+--------------------+-----------------------+----------------------+----------------------+----------------------+--------------------+---------------------+\n",
            "CPD of landuse:\n",
            "+------------+----------+\n",
            "| landuse(0) | 0.111183 |\n",
            "+------------+----------+\n",
            "| landuse(1) | 0.509644 |\n",
            "+------------+----------+\n",
            "| landuse(2) | 0.181392 |\n",
            "+------------+----------+\n",
            "| landuse(3) | 0.197781 |\n",
            "+------------+----------+\n",
            "(violations _|_ residfar, unit_ratio, subsidies_flag, landuse | yearbuilt, bldgclass)\n",
            "{'bldgclass': set(['bldgclass', 'subsidies_flag', 'residfar', 'yearbuilt', 'unit_ratio', 'violations', 'landuse'])}\n",
            "{'subsidies_flag': set(['bldgclass', 'subsidies_flag', 'residfar', 'yearbuilt', 'unit_ratio', 'violations', 'landuse'])}\n",
            "{'residfar': set(['bldgclass', 'subsidies_flag', 'residfar', 'yearbuilt', 'unit_ratio', 'violations', 'landuse'])}\n",
            "{'yearbuilt': set(['bldgclass', 'subsidies_flag', 'residfar', 'yearbuilt', 'unit_ratio', 'violations', 'landuse'])}\n",
            "{'unit_ratio': set(['bldgclass', 'subsidies_flag', 'residfar', 'yearbuilt', 'unit_ratio', 'violations', 'landuse'])}\n",
            "{'violations': set(['bldgclass', 'subsidies_flag', 'residfar', 'yearbuilt', 'unit_ratio', 'violations', 'landuse'])}\n",
            "{'landuse': set(['bldgclass', 'subsidies_flag', 'residfar', 'yearbuilt', 'unit_ratio', 'violations', 'landuse'])}\n"
          ],
          "name": "stdout"
        }
      ]
    },
    {
      "cell_type": "code",
      "metadata": {
        "id": "wbU_FsR4iYE3",
        "colab_type": "code",
        "outputId": "1dc9e880-03f1-4097-93a9-052eedc04137",
        "colab": {
          "base_uri": "https://localhost:8080/",
          "height": 34
        }
      },
      "source": [
        "best_model.fit(data16train, estimator=BayesianEstimator, prior_type='K2')\n",
        "test_x = data16test.drop(columns=['violations'])\n",
        "predicted_test = temp_predict(best_model, test_x)\n",
        "print \"Out of sample:\",(data16test.loc[:,'violations']==predicted_test['violations']).mean()"
      ],
      "execution_count": 0,
      "outputs": [
        {
          "output_type": "stream",
          "text": [
            "Out of sample: 0.6324076724878328\n"
          ],
          "name": "stdout"
        }
      ]
    },
    {
      "cell_type": "code",
      "metadata": {
        "id": "y3vDZsNPV9tk",
        "colab_type": "code",
        "outputId": "f59bdece-6c68-4e31-85a6-a4e10cea321b",
        "colab": {
          "base_uri": "https://localhost:8080/",
          "height": 34
        }
      },
      "source": [
        "train_x = data16train.drop(columns=['violations'])\n",
        "predicted_train = temp_predict(best_model, train_x)\n",
        "print \"In of sample:\",(data16train.loc[:,'violations']==predicted_train['violations']).mean()"
      ],
      "execution_count": 0,
      "outputs": [
        {
          "output_type": "stream",
          "text": [
            "In of sample: 0.6352671701084428\n"
          ],
          "name": "stdout"
        }
      ]
    },
    {
      "cell_type": "code",
      "metadata": {
        "id": "sER6tUZw9Jwp",
        "colab_type": "code",
        "colab": {}
      },
      "source": [
        "data16smaller = pd.read_csv(\"data15smaller_3_2.csv\", low_memory = False, dtype = {'subsidies_flag':\"int64\"})\n",
        "data16smaller.head()"
      ],
      "execution_count": 0,
      "outputs": []
    },
    {
      "cell_type": "code",
      "metadata": {
        "id": "8lUkfriMqNqo",
        "colab_type": "code",
        "outputId": "7a46b39b-2e19-4c3b-e8b3-750dc7f7d10a",
        "colab": {
          "base_uri": "https://localhost:8080/",
          "height": 53
        }
      },
      "source": [
        "data16train, data16test = train_test_split(data16smaller,random_state=9,test_size=0.2)\n",
        "hc = HillClimbSearch(data16train, scoring_method=BicScore(data16train))\n",
        "best_model = hc.estimate()\n",
        "print(best_model.edges())"
      ],
      "execution_count": 0,
      "outputs": [
        {
          "output_type": "stream",
          "text": [
            "[('bldgclass', 'unit_ratio'), ('bldgclass', 'subsidies_flag'), ('bldgclass', 'yearbuilt'), ('bldgclass', 'vio_rt'), ('subsidies_flag', 'residfar'), ('residfar', 'yearbuilt'), ('yearbuilt', 'unit_ratio'), ('yearbuilt', 'vio_rt'), ('landuse', 'residfar'), ('landuse', 'bldgclass')]\n"
          ],
          "name": "stdout"
        }
      ]
    },
    {
      "cell_type": "code",
      "metadata": {
        "id": "mH8vaOQzfiJ5",
        "colab_type": "code",
        "outputId": "3c436df3-9b36-4832-ec38-3a8a196ea99a",
        "colab": {
          "base_uri": "https://localhost:8080/",
          "height": 51
        }
      },
      "source": [
        "\n",
        "\n",
        "best_model.fit(data16train, estimator=BayesianEstimator, prior_type='K2')\n",
        "\n",
        "train_x = data16train.drop(columns=['vio_rt'])\n",
        "predicted_train = temp_predict(best_model, train_x)\n",
        "print \"In of sample:\",(data16train.loc[:,'vio_rt']==predicted_train['vio_rt']).mean()\n",
        "\n",
        "test_x = data16test.drop(columns=['vio_rt'])\n",
        "predicted_test = temp_predict(best_model, test_x)\n",
        "print \"Out of sample:\",(data16test.loc[:,'vio_rt']==predicted_test['vio_rt']).mean()"
      ],
      "execution_count": 0,
      "outputs": [
        {
          "output_type": "stream",
          "text": [
            "In of sample: 0.3536022332772628\n",
            "Out of sample: 0.3509876896650444\n"
          ],
          "name": "stdout"
        }
      ]
    },
    {
      "cell_type": "code",
      "metadata": {
        "id": "jFKgBzM_ZckE",
        "colab_type": "code",
        "outputId": "3bc70265-8989-445c-bb80-929f63868035",
        "colab": {
          "base_uri": "https://localhost:8080/",
          "height": 1760
        }
      },
      "source": [
        "\n",
        "for cpd in best_model.get_cpds():\n",
        "    print(\"CPD of {variable}:\".format(variable=cpd.variable))\n",
        "    print(cpd)\n",
        "    \n",
        "print best_model.local_independencies('vio_rt')\n",
        "\n",
        "for thenode in best_model.nodes():\n",
        "    print best_model.active_trail_nodes(thenode)"
      ],
      "execution_count": 0,
      "outputs": [
        {
          "output_type": "stream",
          "text": [
            "CPD of bldgclass:\n",
            "+--------------+------------------------+-----------------------+------------------------+------------------------+\n",
            "| landuse      | landuse(0)             | landuse(1)            | landuse(2)             | landuse(3)             |\n",
            "+--------------+------------------------+-----------------------+------------------------+------------------------+\n",
            "| bldgclass(0) | 0.17737789203084833    | 7.019021548396153e-05 | 0.00019708316909735908 | 0.00018076644974692697 |\n",
            "+--------------+------------------------+-----------------------+------------------------+------------------------+\n",
            "| bldgclass(1) | 0.8213367609254498     | 7.019021548396153e-05 | 0.00019708316909735908 | 0.00018076644974692697 |\n",
            "+--------------+------------------------+-----------------------+------------------------+------------------------+\n",
            "| bldgclass(2) | 0.00032133676092544985 | 0.9589387239418825    | 0.00019708316909735908 | 0.50234996384671       |\n",
            "+--------------+------------------------+-----------------------+------------------------+------------------------+\n",
            "| bldgclass(3) | 0.00032133676092544985 | 7.019021548396153e-05 | 0.9631454473787938     | 0.2017353579175705     |\n",
            "+--------------+------------------------+-----------------------+------------------------+------------------------+\n",
            "| bldgclass(4) | 0.00032133676092544985 | 0.04078051519618165   | 0.036066219944816715   | 0.0007230657989877079  |\n",
            "+--------------+------------------------+-----------------------+------------------------+------------------------+\n",
            "| bldgclass(5) | 0.00032133676092544985 | 7.019021548396153e-05 | 0.00019708316909735908 | 0.2948300795372379     |\n",
            "+--------------+------------------------+-----------------------+------------------------+------------------------+\n",
            "CPD of subsidies_flag:\n",
            "+-------------------+-----------------------+------------------------+--------------------+--------------------+---------------------+---------------------+\n",
            "| bldgclass         | bldgclass(0)          | bldgclass(1)           | bldgclass(2)       | bldgclass(3)       | bldgclass(4)        | bldgclass(5)        |\n",
            "+-------------------+-----------------------+------------------------+--------------------+--------------------+---------------------+---------------------+\n",
            "| subsidies_flag(0) | 0.9981916817359855    | 0.9996089166992569     | 0.8842527826774527 | 0.7857737797767783 | 0.6792698826597132  | 0.9761029411764706  |\n",
            "+-------------------+-----------------------+------------------------+--------------------+--------------------+---------------------+---------------------+\n",
            "| subsidies_flag(1) | 0.0018083182640144665 | 0.00039108330074305825 | 0.1157472173225473 | 0.2142262202232217 | 0.32073011734028684 | 0.02389705882352941 |\n",
            "+-------------------+-----------------------+------------------------+--------------------+--------------------+---------------------+---------------------+\n",
            "CPD of residfar:\n",
            "+----------------+----------------------+-------------------+---------------------+---------------------+---------------------+---------------------+---------------------+---------------------+\n",
            "| landuse        | landuse(0)           | landuse(0)        | landuse(1)          | landuse(1)          | landuse(2)          | landuse(2)          | landuse(3)          | landuse(3)          |\n",
            "+----------------+----------------------+-------------------+---------------------+---------------------+---------------------+---------------------+---------------------+---------------------+\n",
            "| subsidies_flag | subsidies_flag(0)    | subsidies_flag(1) | subsidies_flag(0)   | subsidies_flag(1)   | subsidies_flag(0)   | subsidies_flag(1)   | subsidies_flag(0)   | subsidies_flag(1)   |\n",
            "+----------------+----------------------+-------------------+---------------------+---------------------+---------------------+---------------------+---------------------+---------------------+\n",
            "| residfar(0)    | 0.7325618772099004   | 0.2               | 0.2947787963332005  | 0.09320046893317702 | 0.16495362246176987 | 0.09366391184573003 | 0.1110193974411886  | 0.06086956521739131 |\n",
            "+----------------+----------------------+-------------------+---------------------+---------------------+---------------------+---------------------+---------------------+---------------------+\n",
            "| residfar(1)    | 0.20990035358405656  | 0.2               | 0.3882821841371064  | 0.3716295427901524  | 0.22787666081724742 | 0.29017447199265384 | 0.2443252166735452  | 0.1927536231884058  |\n",
            "+----------------+----------------------+-------------------+---------------------+---------------------+---------------------+---------------------+---------------------+---------------------+\n",
            "| residfar(2)    | 0.014786242365798778 | 0.2               | 0.06432841769629334 | 0.07151230949589683 | 0.07495612935572825 | 0.06152433425160698 | 0.09451093685513826 | 0.06521739130434782 |\n",
            "+----------------+----------------------+-------------------+---------------------+---------------------+---------------------+---------------------+---------------------+---------------------+\n",
            "| residfar(3)    | 0.03278688524590164  | 0.2               | 0.12347548824232762 | 0.2995310668229777  | 0.22311356229631488 | 0.3351698806244261  | 0.20264135369376807 | 0.43043478260869567 |\n",
            "+----------------+----------------------+-------------------+---------------------+---------------------+---------------------+---------------------+---------------------+---------------------+\n",
            "| residfar(4)    | 0.009964641594342655 | 0.2               | 0.12913511359107213 | 0.16412661195779601 | 0.3091000250689396  | 0.2194674012855831  | 0.34750309533635987 | 0.25072463768115943 |\n",
            "+----------------+----------------------+-------------------+---------------------+---------------------+---------------------+---------------------+---------------------+---------------------+\n",
            "CPD of yearbuilt:\n",
            "+--------------+---------------------+---------------------+---------------------+---------------------+---------------------+---------------------+---------------------+---------------------+--------------+----------------------+---------------------+---------------------+----------------------+---------------------+----------------------+----------------------+----------------------+----------------------+---------------------+---------------------+----------------------+----------------------+---------------------+----------------------+---------------------+----------------------+----------------------+----------------------+----------------------+----------------------+\n",
            "| bldgclass    | bldgclass(0)        | bldgclass(0)        | bldgclass(0)        | bldgclass(0)        | bldgclass(0)        | bldgclass(1)        | bldgclass(1)        | bldgclass(1)        | bldgclass(1) | bldgclass(1)         | bldgclass(2)        | bldgclass(2)        | bldgclass(2)         | bldgclass(2)        | bldgclass(2)         | bldgclass(3)         | bldgclass(3)         | bldgclass(3)         | bldgclass(3)        | bldgclass(3)        | bldgclass(4)         | bldgclass(4)         | bldgclass(4)        | bldgclass(4)         | bldgclass(4)        | bldgclass(5)         | bldgclass(5)         | bldgclass(5)         | bldgclass(5)         | bldgclass(5)         |\n",
            "+--------------+---------------------+---------------------+---------------------+---------------------+---------------------+---------------------+---------------------+---------------------+--------------+----------------------+---------------------+---------------------+----------------------+---------------------+----------------------+----------------------+----------------------+----------------------+---------------------+---------------------+----------------------+----------------------+---------------------+----------------------+---------------------+----------------------+----------------------+----------------------+----------------------+----------------------+\n",
            "| residfar     | residfar(0)         | residfar(1)         | residfar(2)         | residfar(3)         | residfar(4)         | residfar(0)         | residfar(1)         | residfar(2)         | residfar(3)  | residfar(4)          | residfar(0)         | residfar(1)         | residfar(2)          | residfar(3)         | residfar(4)          | residfar(0)          | residfar(1)          | residfar(2)          | residfar(3)         | residfar(4)         | residfar(0)          | residfar(1)          | residfar(2)         | residfar(3)          | residfar(4)         | residfar(0)          | residfar(1)          | residfar(2)          | residfar(3)          | residfar(4)          |\n",
            "+--------------+---------------------+---------------------+---------------------+---------------------+---------------------+---------------------+---------------------+---------------------+--------------+----------------------+---------------------+---------------------+----------------------+---------------------+----------------------+----------------------+----------------------+----------------------+---------------------+---------------------+----------------------+----------------------+---------------------+----------------------+---------------------+----------------------+----------------------+----------------------+----------------------+----------------------+\n",
            "| yearbuilt(0) | 0.1016597510373444  | 0.4576271186440678  | 0.38461538461538464 | 0.45454545454545453 | 0.5454545454545454  | 0.17718715393134    | 0.4593698175787728  | 0.35714285714285715 | 0.53         | 0.5517241379310345   | 0.08759506949908209 | 0.2523621370898471  | 0.2667269439421338   | 0.36294139060793595 | 0.4964729593550554   | 0.011029411764705883 | 0.03987240829346093  | 0.04265402843601896  | 0.07185990338164251 | 0.11927582534611289 | 0.003787878787878788 | 0.07540983606557378  | 0.2692307692307692  | 0.06611570247933884  | 0.13513513513513514 | 0.11635220125786164  | 0.20704845814977973  | 0.2713178294573643   | 0.4523809523809524   | 0.43630573248407645  |\n",
            "+--------------+---------------------+---------------------+---------------------+---------------------+---------------------+---------------------+---------------------+---------------------+--------------+----------------------+---------------------+---------------------+----------------------+---------------------+----------------------+----------------------+----------------------+----------------------+---------------------+---------------------+----------------------+----------------------+---------------------+----------------------+---------------------+----------------------+----------------------+----------------------+----------------------+----------------------+\n",
            "| yearbuilt(1) | 0.21161825726141079 | 0.1694915254237288  | 0.23076923076923078 | 0.09090909090909091 | 0.18181818181818182 | 0.1849390919158361  | 0.14593698175787728 | 0.16666666666666666 | 0.12         | 0.20689655172413793  | 0.14266981379491214 | 0.17969421061673252 | 0.24593128390596744  | 0.3400072806698216  | 0.3050050386294928   | 0.02696078431372549  | 0.058213716108452954 | 0.061611374407582936 | 0.14009661835748793 | 0.18796592119275826 | 0.011363636363636364 | 0.009836065573770493 | 0.11538461538461539 | 0.01652892561983471  | 0.24324324324324326 | 0.1949685534591195   | 0.14684287812041116  | 0.1821705426356589   | 0.16666666666666666  | 0.17197452229299362  |\n",
            "+--------------+---------------------+---------------------+---------------------+---------------------+---------------------+---------------------+---------------------+---------------------+--------------+----------------------+---------------------+---------------------+----------------------+---------------------+----------------------+----------------------+----------------------+----------------------+---------------------+---------------------+----------------------+----------------------+---------------------+----------------------+---------------------+----------------------+----------------------+----------------------+----------------------+----------------------+\n",
            "| yearbuilt(2) | 0.25311203319502074 | 0.13559322033898305 | 0.15384615384615385 | 0.09090909090909091 | 0.09090909090909091 | 0.17331118493909192 | 0.16583747927031509 | 0.11904761904761904 | 0.06         | 0.06896551724137931  | 0.26042486231313927 | 0.26404397869781826 | 0.23779385171790235  | 0.17692027666545324 | 0.12462210278804166  | 0.13970588235294118  | 0.16267942583732056  | 0.18009478672985782  | 0.2246376811594203  | 0.22417465388711394 | 0.007575757575757576 | 0.006557377049180328 | 0.23076923076923078 | 0.21487603305785125  | 0.06756756756756757 | 0.2641509433962264   | 0.23788546255506607  | 0.17054263565891473  | 0.17857142857142858  | 0.15286624203821655  |\n",
            "+--------------+---------------------+---------------------+---------------------+---------------------+---------------------+---------------------+---------------------+---------------------+--------------+----------------------+---------------------+---------------------+----------------------+---------------------+----------------------+----------------------+----------------------+----------------------+---------------------+---------------------+----------------------+----------------------+---------------------+----------------------+---------------------+----------------------+----------------------+----------------------+----------------------+----------------------+\n",
            "| yearbuilt(3) | 0.25933609958506226 | 0.11864406779661017 | 0.15384615384615385 | 0.18181818181818182 | 0.09090909090909091 | 0.16832779623477298 | 0.07296849087893864 | 0.07142857142857142 | 0.03         | 0.034482758620689655 | 0.32494099134539733 | 0.20563477065796254 | 0.19258589511754068  | 0.07207863123407353 | 0.06281491434329863  | 0.24019607843137256  | 0.23046251993620415  | 0.2559241706161137   | 0.24818840579710144 | 0.2220447284345048  | 0.06439393939393939  | 0.2819672131147541   | 0.11538461538461539 | 0.049586776859504134 | 0.08108108108108109 | 0.3836477987421384   | 0.37591776798825255  | 0.3488372093023256   | 0.15476190476190477  | 0.18471337579617833  |\n",
            "+--------------+---------------------+---------------------+---------------------+---------------------+---------------------+---------------------+---------------------+---------------------+--------------+----------------------+---------------------+---------------------+----------------------+---------------------+----------------------+----------------------+----------------------+----------------------+---------------------+---------------------+----------------------+----------------------+---------------------+----------------------+---------------------+----------------------+----------------------+----------------------+----------------------+----------------------+\n",
            "| yearbuilt(4) | 0.17427385892116182 | 0.11864406779661017 | 0.07692307692307693 | 0.18181818181818182 | 0.09090909090909091 | 0.296234772978959   | 0.1558872305140962  | 0.2857142857142857  | 0.26         | 0.13793103448275862  | 0.18436926304746917 | 0.09826490293763958 | 0.056962025316455694 | 0.04805242082271569 | 0.011084984884111521 | 0.5821078431372549   | 0.5087719298245614   | 0.4597156398104265   | 0.31521739130434784 | 0.24653887113951012 | 0.9128787878787878   | 0.6262295081967213   | 0.2692307692307692  | 0.6528925619834711   | 0.47297297297297297 | 0.040880503144654086 | 0.032305433186490456 | 0.027131782945736434 | 0.047619047619047616 | 0.054140127388535034 |\n",
            "+--------------+---------------------+---------------------+---------------------+---------------------+---------------------+---------------------+---------------------+---------------------+--------------+----------------------+---------------------+---------------------+----------------------+---------------------+----------------------+----------------------+----------------------+----------------------+---------------------+---------------------+----------------------+----------------------+---------------------+----------------------+---------------------+----------------------+----------------------+----------------------+----------------------+----------------------+\n",
            "CPD of vio_rt:\n",
            "+-----------+----------------------+---------------------+----------------------+-----------------------+----------------------+-----------------------+-----------------------+----------------------+-----------------------+-----------------------+---------------------+---------------------+---------------------+---------------------+---------------------+---------------------+---------------------+---------------------+----------------------+----------------------+---------------------+----------------------+----------------------+----------------------+---------------------+----------------------+-----------------------+---------------------+-----------------------+----------------------+\n",
            "| bldgclass | bldgclass(0)         | bldgclass(0)        | bldgclass(0)         | bldgclass(0)          | bldgclass(0)         | bldgclass(1)          | bldgclass(1)          | bldgclass(1)         | bldgclass(1)          | bldgclass(1)          | bldgclass(2)        | bldgclass(2)        | bldgclass(2)        | bldgclass(2)        | bldgclass(2)        | bldgclass(3)        | bldgclass(3)        | bldgclass(3)        | bldgclass(3)         | bldgclass(3)         | bldgclass(4)        | bldgclass(4)         | bldgclass(4)         | bldgclass(4)         | bldgclass(4)        | bldgclass(5)         | bldgclass(5)          | bldgclass(5)        | bldgclass(5)          | bldgclass(5)         |\n",
            "+-----------+----------------------+---------------------+----------------------+-----------------------+----------------------+-----------------------+-----------------------+----------------------+-----------------------+-----------------------+---------------------+---------------------+---------------------+---------------------+---------------------+---------------------+---------------------+---------------------+----------------------+----------------------+---------------------+----------------------+----------------------+----------------------+---------------------+----------------------+-----------------------+---------------------+-----------------------+----------------------+\n",
            "| yearbuilt | yearbuilt(0)         | yearbuilt(1)        | yearbuilt(2)         | yearbuilt(3)          | yearbuilt(4)         | yearbuilt(0)          | yearbuilt(1)          | yearbuilt(2)         | yearbuilt(3)          | yearbuilt(4)          | yearbuilt(0)        | yearbuilt(1)        | yearbuilt(2)        | yearbuilt(3)        | yearbuilt(4)        | yearbuilt(0)        | yearbuilt(1)        | yearbuilt(2)        | yearbuilt(3)         | yearbuilt(4)         | yearbuilt(0)        | yearbuilt(1)         | yearbuilt(2)         | yearbuilt(3)         | yearbuilt(4)        | yearbuilt(0)         | yearbuilt(1)          | yearbuilt(2)        | yearbuilt(3)          | yearbuilt(4)         |\n",
            "+-----------+----------------------+---------------------+----------------------+-----------------------+----------------------+-----------------------+-----------------------+----------------------+-----------------------+-----------------------+---------------------+---------------------+---------------------+---------------------+---------------------+---------------------+---------------------+---------------------+----------------------+----------------------+---------------------+----------------------+----------------------+----------------------+---------------------+----------------------+-----------------------+---------------------+-----------------------+----------------------+\n",
            "| vio_rt(0) | 0.7391304347826086   | 0.7203389830508474  | 0.7835820895522388   | 0.7007299270072993    | 0.7684210526315789   | 0.5550660792951542    | 0.5480984340044742    | 0.44835680751173707  | 0.5211267605633803    | 0.5141579731743666    | 0.18499890662584736 | 0.15064794816414687 | 0.17506849315068493 | 0.16479894528675015 | 0.17232202262142382 | 0.04523809523809524 | 0.03541076487252125 | 0.03369839932603201 | 0.022519352568613652 | 0.003926701570680628 | 0.10204081632653061 | 0.034482758620689655 | 0.024390243902439025 | 0.01694915254237288  | 0.0108499095840868  | 0.3073286052009456   | 0.3176895306859206    | 0.40793201133144474 | 0.3562152133580705    | 0.31746031746031744  |\n",
            "+-----------+----------------------+---------------------+----------------------+-----------------------+----------------------+-----------------------+-----------------------+----------------------+-----------------------+-----------------------+---------------------+---------------------+---------------------+---------------------+---------------------+---------------------+---------------------+---------------------+----------------------+----------------------+---------------------+----------------------+----------------------+----------------------+---------------------+----------------------+-----------------------+---------------------+-----------------------+----------------------+\n",
            "| vio_rt(1) | 0.22826086956521738  | 0.2542372881355932  | 0.19402985074626866  | 0.2116788321167883    | 0.2                  | 0.2290748898678414    | 0.23042505592841164   | 0.29107981220657275  | 0.29295774647887324   | 0.26527570789865873   | 0.21539470806910124 | 0.20950323974082075 | 0.2232876712328767  | 0.2023731048121292  | 0.20026613439787092 | 0.16904761904761906 | 0.14305949008498584 | 0.14995787700084245 | 0.09289232934553132  | 0.027923211169284468 | 0.12244897959183673 | 0.1724137931034483   | 0.024390243902439025 | 0.025423728813559324 | 0.0216998191681736  | 0.27423167848699764  | 0.2490974729241877    | 0.24079320113314448 | 0.25788497217068646   | 0.31746031746031744  |\n",
            "+-----------+----------------------+---------------------+----------------------+-----------------------+----------------------+-----------------------+-----------------------+----------------------+-----------------------+-----------------------+---------------------+---------------------+---------------------+---------------------+---------------------+---------------------+---------------------+---------------------+----------------------+----------------------+---------------------+----------------------+----------------------+----------------------+---------------------+----------------------+-----------------------+---------------------+-----------------------+----------------------+\n",
            "| vio_rt(2) | 0.010869565217391304 | 0.00847457627118644 | 0.007462686567164179 | 0.0072992700729927005 | 0.010526315789473684 | 0.21292217327459617   | 0.21700223713646533   | 0.25586854460093894  | 0.18028169014084508   | 0.21758569299552907   | 0.25322545375027333 | 0.23785097192224622 | 0.23835616438356164 | 0.2050098879367172  | 0.2821024617431803  | 0.1761904761904762  | 0.22662889518413598 | 0.21566975568660487 | 0.1900070372976777   | 0.0868237347294939   | 0.30612244897959184 | 0.20689655172413793  | 0.04878048780487805  | 0.01694915254237288  | 0.07775768535262206 | 0.2789598108747045   | 0.26353790613718414   | 0.20113314447592068 | 0.18738404452690166   | 0.23809523809523808  |\n",
            "+-----------+----------------------+---------------------+----------------------+-----------------------+----------------------+-----------------------+-----------------------+----------------------+-----------------------+-----------------------+---------------------+---------------------+---------------------+---------------------+---------------------+---------------------+---------------------+---------------------+----------------------+----------------------+---------------------+----------------------+----------------------+----------------------+---------------------+----------------------+-----------------------+---------------------+-----------------------+----------------------+\n",
            "| vio_rt(3) | 0.010869565217391304 | 0.00847457627118644 | 0.007462686567164179 | 0.0072992700729927005 | 0.010526315789473684 | 0.0014684287812041115 | 0.0022371364653243847 | 0.002347417840375587 | 0.0028169014084507044 | 0.0014903129657228018 | 0.20511699103433195 | 0.24109071274298055 | 0.24356164383561643 | 0.21357943309162822 | 0.1483699268130406  | 0.2642857142857143  | 0.2847025495750708  | 0.2729570345408593  | 0.2413793103448276   | 0.19066317626527052  | 0.3673469387755102  | 0.3103448275862069   | 0.3902439024390244   | 0.01694915254237288  | 0.1410488245931284  | 0.13711583924349882  | 0.16606498194945848   | 0.14730878186968838 | 0.19666048237476808   | 0.1111111111111111   |\n",
            "+-----------+----------------------+---------------------+----------------------+-----------------------+----------------------+-----------------------+-----------------------+----------------------+-----------------------+-----------------------+---------------------+---------------------+---------------------+---------------------+---------------------+---------------------+---------------------+---------------------+----------------------+----------------------+---------------------+----------------------+----------------------+----------------------+---------------------+----------------------+-----------------------+---------------------+-----------------------+----------------------+\n",
            "| vio_rt(4) | 0.010869565217391304 | 0.00847457627118644 | 0.007462686567164179 | 0.072992700729927     | 0.010526315789473684 | 0.0014684287812041115 | 0.0022371364653243847 | 0.002347417840375587 | 0.0028169014084507044 | 0.0014903129657228018 | 0.1412639405204461  | 0.16090712742980562 | 0.11972602739726028 | 0.21423862887277523 | 0.19693945442448438 | 0.34523809523809523 | 0.3101983002832861  | 0.32771693344566133 | 0.45320197044334976  | 0.6906631762652705   | 0.10204081632653061 | 0.27586206896551724  | 0.5121951219512195   | 0.923728813559322    | 0.7486437613019892  | 0.002364066193853428 | 0.0036101083032490976 | 0.0028328611898017  | 0.0018552875695732839 | 0.015873015873015872 |\n",
            "+-----------+----------------------+---------------------+----------------------+-----------------------+----------------------+-----------------------+-----------------------+----------------------+-----------------------+-----------------------+---------------------+---------------------+---------------------+---------------------+---------------------+---------------------+---------------------+---------------------+----------------------+----------------------+---------------------+----------------------+----------------------+----------------------+---------------------+----------------------+-----------------------+---------------------+-----------------------+----------------------+\n",
            "CPD of unit_ratio:\n",
            "+---------------+----------------------+----------------------+----------------------+----------------------+----------------------+---------------------+---------------------+---------------------+---------------------+---------------------+---------------------+---------------------+---------------------+---------------------+---------------------+---------------------+---------------------+---------------------+---------------------+---------------------+---------------------+---------------------+---------------------+----------------------+---------------------+---------------------+---------------------+---------------------+---------------------+---------------------+\n",
            "| bldgclass     | bldgclass(0)         | bldgclass(0)         | bldgclass(0)         | bldgclass(0)         | bldgclass(0)         | bldgclass(1)        | bldgclass(1)        | bldgclass(1)        | bldgclass(1)        | bldgclass(1)        | bldgclass(2)        | bldgclass(2)        | bldgclass(2)        | bldgclass(2)        | bldgclass(2)        | bldgclass(3)        | bldgclass(3)        | bldgclass(3)        | bldgclass(3)        | bldgclass(3)        | bldgclass(4)        | bldgclass(4)        | bldgclass(4)        | bldgclass(4)         | bldgclass(4)        | bldgclass(5)        | bldgclass(5)        | bldgclass(5)        | bldgclass(5)        | bldgclass(5)        |\n",
            "+---------------+----------------------+----------------------+----------------------+----------------------+----------------------+---------------------+---------------------+---------------------+---------------------+---------------------+---------------------+---------------------+---------------------+---------------------+---------------------+---------------------+---------------------+---------------------+---------------------+---------------------+---------------------+---------------------+---------------------+----------------------+---------------------+---------------------+---------------------+---------------------+---------------------+---------------------+\n",
            "| yearbuilt     | yearbuilt(0)         | yearbuilt(1)         | yearbuilt(2)         | yearbuilt(3)         | yearbuilt(4)         | yearbuilt(0)        | yearbuilt(1)        | yearbuilt(2)        | yearbuilt(3)        | yearbuilt(4)        | yearbuilt(0)        | yearbuilt(1)        | yearbuilt(2)        | yearbuilt(3)        | yearbuilt(4)        | yearbuilt(0)        | yearbuilt(1)        | yearbuilt(2)        | yearbuilt(3)        | yearbuilt(4)        | yearbuilt(0)        | yearbuilt(1)        | yearbuilt(2)        | yearbuilt(3)         | yearbuilt(4)        | yearbuilt(0)        | yearbuilt(1)        | yearbuilt(2)        | yearbuilt(3)        | yearbuilt(4)        |\n",
            "+---------------+----------------------+----------------------+----------------------+----------------------+----------------------+---------------------+---------------------+---------------------+---------------------+---------------------+---------------------+---------------------+---------------------+---------------------+---------------------+---------------------+---------------------+---------------------+---------------------+---------------------+---------------------+---------------------+---------------------+----------------------+---------------------+---------------------+---------------------+---------------------+---------------------+---------------------+\n",
            "| unit_ratio(0) | 0.043478260869565216 | 0.059322033898305086 | 0.014925373134328358 | 0.10218978102189781  | 0.010526315789473684 | 0.05726872246696035 | 0.1029082774049217  | 0.11737089201877934 | 0.09014084507042254 | 0.02384500745156483 | 0.37415263503170787 | 0.2683585313174946  | 0.22356164383561644 | 0.2112722478576137  | 0.11510312707917499 | 0.22380952380952382 | 0.09915014164305949 | 0.08340353833192923 | 0.04292751583391977 | 0.09991273996509599 | 0.30612244897959184 | 0.20689655172413793 | 0.17073170731707318 | 0.7796610169491526   | 0.06329113924050633 | 0.22458628841607564 | 0.23465703971119134 | 0.34844192634560905 | 0.3432282003710575  | 0.25396825396825395 |\n",
            "+---------------+----------------------+----------------------+----------------------+----------------------+----------------------+---------------------+---------------------+---------------------+---------------------+---------------------+---------------------+---------------------+---------------------+---------------------+---------------------+---------------------+---------------------+---------------------+---------------------+---------------------+---------------------+---------------------+---------------------+----------------------+---------------------+---------------------+---------------------+---------------------+---------------------+---------------------+\n",
            "| unit_ratio(1) | 0.021739130434782608 | 0.01694915254237288  | 0.029850746268656716 | 0.021897810218978103 | 0.010526315789473684 | 0.06020558002936858 | 0.16778523489932887 | 0.13380281690140844 | 0.11549295774647887 | 0.07153502235469449 | 0.16663022086157883 | 0.2329913606911447  | 0.3136986301369863  | 0.3088332234673698  | 0.16367265469061876 | 0.11190476190476191 | 0.13739376770538245 | 0.11120471777590564 | 0.1442646023926812  | 0.1169284467713787  | 0.10204081632653061 | 0.10344827586206896 | 0.34146341463414637 | 0.1271186440677966   | 0.12115732368896925 | 0.18203309692671396 | 0.18050541516245489 | 0.1558073654390935  | 0.18552875695732837 | 0.1111111111111111  |\n",
            "+---------------+----------------------+----------------------+----------------------+----------------------+----------------------+---------------------+---------------------+---------------------+---------------------+---------------------+---------------------+---------------------+---------------------+---------------------+---------------------+---------------------+---------------------+---------------------+---------------------+---------------------+---------------------+---------------------+---------------------+----------------------+---------------------+---------------------+---------------------+---------------------+---------------------+---------------------+\n",
            "| unit_ratio(2) | 0.03260869565217391  | 0.0423728813559322   | 0.06716417910447761  | 0.029197080291970802 | 0.021052631578947368 | 0.12187958883994127 | 0.15212527964205816 | 0.13849765258215962 | 0.2704225352112676  | 0.07898658718330849 | 0.16247539908156572 | 0.22138228941684665 | 0.26273972602739726 | 0.25873434410019774 | 0.14105123087159016 | 0.13333333333333333 | 0.17280453257790368 | 0.2358887952822241  | 0.18015482054890922 | 0.2181500872600349  | 0.22448979591836735 | 0.20689655172413793 | 0.36585365853658536 | 0.05084745762711865  | 0.22965641952983726 | 0.12293144208037825 | 0.16606498194945848 | 0.13031161473087818 | 0.1280148423005566  | 0.12698412698412698 |\n",
            "+---------------+----------------------+----------------------+----------------------+----------------------+----------------------+---------------------+---------------------+---------------------+---------------------+---------------------+---------------------+---------------------+---------------------+---------------------+---------------------+---------------------+---------------------+---------------------+---------------------+---------------------+---------------------+---------------------+---------------------+----------------------+---------------------+---------------------+---------------------+---------------------+---------------------+---------------------+\n",
            "| unit_ratio(3) | 0.06521739130434782  | 0.11016949152542373  | 0.06716417910447761  | 0.10948905109489052  | 0.042105263157894736 | 0.25697503671071953 | 0.16778523489932887 | 0.17136150234741784 | 0.2084507042253521  | 0.18628912071535023 | 0.14979225891099934 | 0.16441684665226783 | 0.12219178082191781 | 0.13579433091628212 | 0.2368596141051231  | 0.23333333333333334 | 0.24504249291784702 | 0.33361415332771693 | 0.386347642505278   | 0.3110820244328098  | 0.08163265306122448 | 0.13793103448275862 | 0.07317073170731707 | 0.025423728813559324 | 0.244122965641953   | 0.2033096926713948  | 0.16967509025270758 | 0.1501416430594901  | 0.11873840445269017 | 0.19047619047619047 |\n",
            "+---------------+----------------------+----------------------+----------------------+----------------------+----------------------+---------------------+---------------------+---------------------+---------------------+---------------------+---------------------+---------------------+---------------------+---------------------+---------------------+---------------------+---------------------+---------------------+---------------------+---------------------+---------------------+---------------------+---------------------+----------------------+---------------------+---------------------+---------------------+---------------------+---------------------+---------------------+\n",
            "| unit_ratio(4) | 0.8369565217391305   | 0.7711864406779662   | 0.8208955223880597   | 0.7372262773722628   | 0.9157894736842105   | 0.5036710719530103  | 0.40939597315436244 | 0.43896713615023475 | 0.3154929577464789  | 0.639344262295082   | 0.14694948611414826 | 0.11285097192224622 | 0.07780821917808219 | 0.08536585365853659 | 0.34331337325349304 | 0.2976190476190476  | 0.34560906515580736 | 0.2358887952822241  | 0.24630541871921183 | 0.25392670157068065 | 0.2857142857142857  | 0.3448275862068966  | 0.04878048780487805 | 0.01694915254237288  | 0.34177215189873417 | 0.26713947990543735 | 0.2490974729241877  | 0.21529745042492918 | 0.22448979591836735 | 0.31746031746031744 |\n",
            "+---------------+----------------------+----------------------+----------------------+----------------------+----------------------+---------------------+---------------------+---------------------+---------------------+---------------------+---------------------+---------------------+---------------------+---------------------+---------------------+---------------------+---------------------+---------------------+---------------------+---------------------+---------------------+---------------------+---------------------+----------------------+---------------------+---------------------+---------------------+---------------------+---------------------+---------------------+\n",
            "CPD of landuse:\n",
            "+------------+----------+\n",
            "| landuse(0) | 0.111183 |\n",
            "+------------+----------+\n",
            "| landuse(1) | 0.509644 |\n",
            "+------------+----------+\n",
            "| landuse(2) | 0.181392 |\n",
            "+------------+----------+\n",
            "| landuse(3) | 0.197781 |\n",
            "+------------+----------+\n",
            "(vio_rt _|_ residfar, unit_ratio, subsidies_flag, landuse | yearbuilt, bldgclass)\n",
            "{'bldgclass': set(['bldgclass', 'subsidies_flag', 'residfar', 'yearbuilt', 'vio_rt', 'unit_ratio', 'landuse'])}\n",
            "{'subsidies_flag': set(['bldgclass', 'subsidies_flag', 'residfar', 'yearbuilt', 'vio_rt', 'unit_ratio', 'landuse'])}\n",
            "{'residfar': set(['bldgclass', 'subsidies_flag', 'residfar', 'yearbuilt', 'vio_rt', 'unit_ratio', 'landuse'])}\n",
            "{'yearbuilt': set(['bldgclass', 'subsidies_flag', 'residfar', 'yearbuilt', 'vio_rt', 'unit_ratio', 'landuse'])}\n",
            "{'vio_rt': set(['bldgclass', 'subsidies_flag', 'residfar', 'yearbuilt', 'vio_rt', 'unit_ratio', 'landuse'])}\n",
            "{'unit_ratio': set(['bldgclass', 'subsidies_flag', 'residfar', 'yearbuilt', 'vio_rt', 'unit_ratio', 'landuse'])}\n",
            "{'landuse': set(['bldgclass', 'subsidies_flag', 'residfar', 'yearbuilt', 'vio_rt', 'unit_ratio', 'landuse'])}\n"
          ],
          "name": "stdout"
        }
      ]
    }
  ]
}