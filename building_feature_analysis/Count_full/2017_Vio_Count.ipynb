{
  "nbformat": 4,
  "nbformat_minor": 0,
  "metadata": {
    "colab": {
      "name": "2017_Vio_Count.ipynb",
      "version": "0.3.2",
      "provenance": [],
      "collapsed_sections": []
    },
    "kernelspec": {
      "name": "python2",
      "display_name": "Python 2"
    }
  },
  "cells": [
    {
      "cell_type": "code",
      "metadata": {
        "id": "maDxXMADfiDP",
        "colab_type": "code",
        "outputId": "842927cb-81be-49b4-d414-3de3274c7c8e",
        "colab": {
          "resources": {
            "http://localhost:8080/nbextensions/google.colab/files.js": {
              "data": "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",
              "ok": true,
              "headers": [
                [
                  "content-type",
                  "application/javascript"
                ]
              ],
              "status": 200,
              "status_text": ""
            }
          },
          "base_uri": "https://localhost:8080/",
          "height": 71
        }
      },
      "source": [
        "import numpy as np\n",
        "import pandas as pd\n",
        "\n",
        "from google.colab import files\n",
        "uploaded = files.upload()"
      ],
      "execution_count": 0,
      "outputs": [
        {
          "output_type": "display_data",
          "data": {
            "text/plain": [
              "<IPython.core.display.HTML object>"
            ],
            "text/html": [
              "\n",
              "     <input type=\"file\" id=\"files-f6226718-b025-4793-a5a6-5596d37342ef\" name=\"files[]\" multiple disabled />\n",
              "     <output id=\"result-f6226718-b025-4793-a5a6-5596d37342ef\">\n",
              "      Upload widget is only available when the cell has been executed in the\n",
              "      current browser session. Please rerun this cell to enable.\n",
              "      </output>\n",
              "      <script src=\"/nbextensions/google.colab/files.js\"></script> "
            ]
          },
          "metadata": {
            "tags": []
          }
        },
        {
          "output_type": "stream",
          "text": [
            "Saving data17smaller_4_2.csv to data17smaller_4_2.csv\n"
          ],
          "name": "stdout"
        }
      ]
    },
    {
      "cell_type": "code",
      "metadata": {
        "id": "Iu068N1KgOmh",
        "colab_type": "code",
        "outputId": "80ea55da-cbe6-4e25-b251-a332f390ce43",
        "colab": {
          "base_uri": "https://localhost:8080/",
          "height": 51
        }
      },
      "source": [
        "!unzip \"data17smaller_1.csv.zip\""
      ],
      "execution_count": 0,
      "outputs": [
        {
          "output_type": "stream",
          "text": [
            "Archive:  data17smaller_1.csv.zip\n",
            "replace data17smaller_1.csv? [y]es, [n]o, [A]ll, [N]one, [r]ename: "
          ],
          "name": "stdout"
        }
      ]
    },
    {
      "cell_type": "code",
      "metadata": {
        "id": "G54IzR7LgT6G",
        "colab_type": "code",
        "colab": {}
      },
      "source": [
        "data17smaller = pd.read_csv(\"data17smaller_3_2.csv\", low_memory = False, dtype = {'subsidies_flag':\"int64\"})\n"
      ],
      "execution_count": 0,
      "outputs": []
    },
    {
      "cell_type": "code",
      "metadata": {
        "id": "xnzsTU5ShUvj",
        "colab_type": "code",
        "outputId": "d77ca626-6f68-4193-9ad3-e8e9da319bf9",
        "colab": {
          "base_uri": "https://localhost:8080/",
          "height": 122
        }
      },
      "source": [
        "!pip install pgmpy==0.1.7\n",
        "from pgmpy.estimators import HillClimbSearch, BicScore, BayesianEstimator\n",
        "from pgmpy.models import BayesianModel\n",
        "from sklearn.model_selection import train_test_split\n",
        "from pgmpy.inference import VariableElimination"
      ],
      "execution_count": 0,
      "outputs": [
        {
          "output_type": "stream",
          "text": [
            "Requirement already satisfied: pgmpy==0.1.7 in /usr/local/lib/python2.7/dist-packages (0.1.7)\n",
            "Requirement already satisfied: scipy>=1.0.0 in /usr/local/lib/python2.7/dist-packages (from pgmpy==0.1.7) (1.2.1)\n",
            "Requirement already satisfied: networkx<1.12,>=1.11 in /usr/local/lib/python2.7/dist-packages (from pgmpy==0.1.7) (1.11)\n",
            "Requirement already satisfied: numpy>=1.14.0 in /usr/local/lib/python2.7/dist-packages (from pgmpy==0.1.7) (1.16.3)\n",
            "Requirement already satisfied: decorator>=3.4.0 in /usr/local/lib/python2.7/dist-packages (from networkx<1.12,>=1.11->pgmpy==0.1.7) (4.4.0)\n"
          ],
          "name": "stdout"
        }
      ]
    },
    {
      "cell_type": "code",
      "metadata": {
        "id": "wym8MrPPiiu0",
        "colab_type": "code",
        "colab": {}
      },
      "source": [
        "from collections import defaultdict\n",
        "from pgmpy.inference import VariableElimination\n",
        "def temp_predict(model,data):\n",
        "    missing_variables = list(set(model.nodes()) - set(data.columns))\n",
        "    pred_values = defaultdict(list)\n",
        "    model_inference = VariableElimination(model)\n",
        "    count = 0\n",
        "    for index, data_point in data.iterrows():\n",
        "        count = count+1\n",
        "        if count %1000 == 1:\n",
        "          print count\n",
        "        states_dict = model_inference.map_query(variables=missing_variables, evidence=data_point.astype(int).to_dict())\n",
        "        for k, v in states_dict.items():\n",
        "            pred_values[k].append(v)\n",
        "    return pd.DataFrame(pred_values, index=data.index)"
      ],
      "execution_count": 0,
      "outputs": []
    },
    {
      "cell_type": "code",
      "metadata": {
        "id": "ka5rRPa6hELy",
        "colab_type": "code",
        "outputId": "9a48b9ce-2774-4b22-d52a-041ba2092365",
        "colab": {
          "base_uri": "https://localhost:8080/",
          "height": 54
        }
      },
      "source": [
        "data17train, data17test = train_test_split(data17smaller,random_state=33,test_size=0.2)\n",
        "hc = HillClimbSearch(data17train, scoring_method=BicScore(data17train))\n",
        "best_model = hc.estimate()\n",
        "print(best_model.edges())"
      ],
      "execution_count": 0,
      "outputs": [
        {
          "output_type": "stream",
          "text": [
            "[('bldgclass', 'unit_ratio'), ('bldgclass', 'subsidies_flag'), ('bldgclass', 'landuse'), ('residfar', 'subsidies_flag'), ('yearbuilt', 'residfar'), ('yearbuilt', 'unit_ratio'), ('yearbuilt', 'violations'), ('yearbuilt', 'landuse'), ('yearbuilt', 'bldgclass'), ('violations', 'bldgclass'), ('landuse', 'residfar')]\n"
          ],
          "name": "stdout"
        }
      ]
    },
    {
      "cell_type": "code",
      "metadata": {
        "id": "pSV9jCTfaNih",
        "colab_type": "code",
        "outputId": "96ea15f3-fc9c-4ef0-9424-08ab725a8314",
        "colab": {
          "base_uri": "https://localhost:8080/",
          "height": 1805
        }
      },
      "source": [
        "best_model.fit(data17train, estimator=BayesianEstimator, prior_type='K2')\n",
        "\n",
        "for cpd in best_model.get_cpds():\n",
        "    print(\"CPD of {variable}:\".format(variable=cpd.variable))\n",
        "    print(cpd)\n",
        "    \n",
        "print best_model.local_independencies('violations')\n",
        "\n",
        "for thenode in best_model.nodes():\n",
        "    print best_model.active_trail_nodes(thenode)"
      ],
      "execution_count": 0,
      "outputs": [
        {
          "output_type": "stream",
          "text": [
            "CPD of bldgclass:\n",
            "+--------------+---------------------+-----------------------+----------------------+----------------------+----------------------+----------------------+----------------------+----------------------+----------------------+-----------------------+---------------------+----------------------+----------------------+----------------------+----------------------+\n",
            "| violations   | violations(0)       | violations(0)         | violations(0)        | violations(0)        | violations(0)        | violations(1)        | violations(1)        | violations(1)        | violations(1)        | violations(1)         | violations(2)       | violations(2)        | violations(2)        | violations(2)        | violations(2)        |\n",
            "+--------------+---------------------+-----------------------+----------------------+----------------------+----------------------+----------------------+----------------------+----------------------+----------------------+-----------------------+---------------------+----------------------+----------------------+----------------------+----------------------+\n",
            "| yearbuilt    | yearbuilt(0)        | yearbuilt(1)          | yearbuilt(2)         | yearbuilt(3)         | yearbuilt(4)         | yearbuilt(0)         | yearbuilt(1)         | yearbuilt(2)         | yearbuilt(3)         | yearbuilt(4)          | yearbuilt(0)        | yearbuilt(1)         | yearbuilt(2)         | yearbuilt(3)         | yearbuilt(4)         |\n",
            "+--------------+---------------------+-----------------------+----------------------+----------------------+----------------------+----------------------+----------------------+----------------------+----------------------+-----------------------+---------------------+----------------------+----------------------+----------------------+----------------------+\n",
            "| bldgclass(0) | 0.01651809124278972 | 0.03336921420882669   | 0.04065311562812396  | 0.03434206052363142  | 0.028488372093023257 | 0.011780104712041885 | 0.007585899152164213 | 0.010351966873706004 | 0.009717314487632508 | 0.0062678062678062675 | 0.01282051282051282 | 0.006944444444444444 | 0.00909090909090909  | 0.005208333333333333 | 0.004405286343612335 |\n",
            "+--------------+---------------------+-----------------------+----------------------+----------------------+----------------------+----------------------+----------------------+----------------------+----------------------+-----------------------+---------------------+----------------------+----------------------+----------------------+----------------------+\n",
            "| bldgclass(1) | 0.12873623492396435 | 0.12988876928597057   | 0.11629456847717427  | 0.08602516150969058  | 0.16686046511627908  | 0.062390924956369984 | 0.03614457831325301  | 0.03602484472049689  | 0.026501766784452298 | 0.05868945868945869   | 0.02564102564102564 | 0.006944444444444444 | 0.00909090909090909  | 0.005208333333333333 | 0.004405286343612335 |\n",
            "+--------------+---------------------+-----------------------+----------------------+----------------------+----------------------+----------------------+----------------------+----------------------+----------------------+-----------------------+---------------------+----------------------+----------------------+----------------------+----------------------+\n",
            "| bldgclass(2) | 0.7199790246460409  | 0.6519555077143883    | 0.6044651782739087   | 0.5491329479768786   | 0.3061046511627907   | 0.7787958115183246   | 0.7443105756358769   | 0.6368530020703934   | 0.571113074204947    | 0.26894586894586897   | 0.5897435897435898  | 0.7777777777777778   | 0.5727272727272728   | 0.15104166666666666  | 0.00881057268722467  |\n",
            "+--------------+---------------------+-----------------------+----------------------+----------------------+----------------------+----------------------+----------------------+----------------------+----------------------+-----------------------+---------------------+----------------------+----------------------+----------------------+----------------------+\n",
            "| bldgclass(3) | 0.04876769795490299 | 0.10764262648008611   | 0.14761746084638455  | 0.18905134308058483  | 0.34011627906976744  | 0.09467713787085515  | 0.17090584560464078  | 0.26873706004140785  | 0.32287985865724383  | 0.5977207977207977    | 0.3333333333333333  | 0.19444444444444445  | 0.39545454545454545  | 0.4166666666666667   | 0.973568281938326    |\n",
            "+--------------+---------------------+-----------------------+----------------------+----------------------+----------------------+----------------------+----------------------+----------------------+----------------------+-----------------------+---------------------+----------------------+----------------------+----------------------+----------------------+\n",
            "| bldgclass(4) | 0.00865233350812795 | 0.0057409400789379264 | 0.005998000666444518 | 0.010540632437946278 | 0.1433139534883721   | 0.006108202443280977 | 0.007585899152164213 | 0.005797101449275362 | 0.009275618374558304 | 0.062108262108262105  | 0.01282051282051282 | 0.006944444444444444 | 0.004545454545454545 | 0.4114583333333333   | 0.004405286343612335 |\n",
            "+--------------+---------------------+-----------------------+----------------------+----------------------+----------------------+----------------------+----------------------+----------------------+----------------------+-----------------------+---------------------+----------------------+----------------------+----------------------+----------------------+\n",
            "| bldgclass(5) | 0.0773466177241741  | 0.07140294223179046   | 0.08497167610796401  | 0.13090785447126826  | 0.015116279069767442 | 0.0462478184991274   | 0.03346720214190094  | 0.0422360248447205   | 0.06051236749116608  | 0.0062678062678062675 | 0.02564102564102564 | 0.006944444444444444 | 0.00909090909090909  | 0.010416666666666666 | 0.004405286343612335 |\n",
            "+--------------+---------------------+-----------------------+----------------------+----------------------+----------------------+----------------------+----------------------+----------------------+----------------------+-----------------------+---------------------+----------------------+----------------------+----------------------+----------------------+\n",
            "CPD of subsidies_flag:\n",
            "+-------------------+-----------------------+----------------------+--------------------+---------------------+---------------------+-----------------------+----------------------+----------------------+--------------+---------------------+----------------------+---------------------+---------------------+---------------------+---------------------+---------------------+--------------------+---------------------+---------------------+---------------------+--------------------+--------------------+---------------------+--------------+---------------------+----------------------+----------------------+----------------------+---------------------+----------------------+\n",
            "| bldgclass         | bldgclass(0)          | bldgclass(0)         | bldgclass(0)       | bldgclass(0)        | bldgclass(0)        | bldgclass(1)          | bldgclass(1)         | bldgclass(1)         | bldgclass(1) | bldgclass(1)        | bldgclass(2)         | bldgclass(2)        | bldgclass(2)        | bldgclass(2)        | bldgclass(2)        | bldgclass(3)        | bldgclass(3)       | bldgclass(3)        | bldgclass(3)        | bldgclass(3)        | bldgclass(4)       | bldgclass(4)       | bldgclass(4)        | bldgclass(4) | bldgclass(4)        | bldgclass(5)         | bldgclass(5)         | bldgclass(5)         | bldgclass(5)        | bldgclass(5)         |\n",
            "+-------------------+-----------------------+----------------------+--------------------+---------------------+---------------------+-----------------------+----------------------+----------------------+--------------+---------------------+----------------------+---------------------+---------------------+---------------------+---------------------+---------------------+--------------------+---------------------+---------------------+---------------------+--------------------+--------------------+---------------------+--------------+---------------------+----------------------+----------------------+----------------------+---------------------+----------------------+\n",
            "| residfar          | residfar(0)           | residfar(1)          | residfar(2)        | residfar(3)         | residfar(4)         | residfar(0)           | residfar(1)          | residfar(2)          | residfar(3)  | residfar(4)         | residfar(0)          | residfar(1)         | residfar(2)         | residfar(3)         | residfar(4)         | residfar(0)         | residfar(1)        | residfar(2)         | residfar(3)         | residfar(4)         | residfar(0)        | residfar(1)        | residfar(2)         | residfar(3)  | residfar(4)         | residfar(0)          | residfar(1)          | residfar(2)          | residfar(3)         | residfar(4)          |\n",
            "+-------------------+-----------------------+----------------------+--------------------+---------------------+---------------------+-----------------------+----------------------+----------------------+--------------+---------------------+----------------------+---------------------+---------------------+---------------------+---------------------+---------------------+--------------------+---------------------+---------------------+---------------------+--------------------+--------------------+---------------------+--------------+---------------------+----------------------+----------------------+----------------------+---------------------+----------------------+\n",
            "| subsidies_flag(0) | 0.9979757085020243    | 0.9807692307692307   | 0.8888888888888888 | 0.9285714285714286  | 0.9090909090909091  | 0.9994269340974212    | 0.9983079526226735   | 0.975609756097561    | 0.99         | 0.9642857142857143  | 0.9602498580352072   | 0.8644851502756535  | 0.862037037037037   | 0.7591397849462366  | 0.8762919896640827  | 0.8442437923250564  | 0.7256235827664399 | 0.8181818181818182  | 0.6724458204334365  | 0.8174603174603174  | 0.9341317365269461 | 0.6348684210526315 | 0.42105263157894735 | 0.6          | 0.7761194029850746  | 0.9971098265895953   | 0.9745222929936306   | 0.9549180327868853   | 0.9540229885057471  | 0.9746031746031746   |\n",
            "+-------------------+-----------------------+----------------------+--------------------+---------------------+---------------------+-----------------------+----------------------+----------------------+--------------+---------------------+----------------------+---------------------+---------------------+---------------------+---------------------+---------------------+--------------------+---------------------+---------------------+---------------------+--------------------+--------------------+---------------------+--------------+---------------------+----------------------+----------------------+----------------------+---------------------+----------------------+\n",
            "| subsidies_flag(1) | 0.0020242914979757085 | 0.019230769230769232 | 0.1111111111111111 | 0.07142857142857142 | 0.09090909090909091 | 0.0005730659025787965 | 0.001692047377326565 | 0.024390243902439025 | 0.01         | 0.03571428571428571 | 0.039750141964792735 | 0.13551484972434644 | 0.13796296296296295 | 0.24086021505376345 | 0.12370801033591731 | 0.15575620767494355 | 0.2743764172335601 | 0.18181818181818182 | 0.32755417956656346 | 0.18253968253968253 | 0.0658682634730539 | 0.3651315789473684 | 0.5789473684210527  | 0.4          | 0.22388059701492538 | 0.002890173410404624 | 0.025477707006369428 | 0.045081967213114756 | 0.04597701149425287 | 0.025396825396825397 |\n",
            "+-------------------+-----------------------+----------------------+--------------------+---------------------+---------------------+-----------------------+----------------------+----------------------+--------------+---------------------+----------------------+---------------------+---------------------+---------------------+---------------------+---------------------+--------------------+---------------------+---------------------+---------------------+--------------------+--------------------+---------------------+--------------+---------------------+----------------------+----------------------+----------------------+---------------------+----------------------+\n",
            "CPD of residfar:\n",
            "+-------------+----------------------+----------------------+----------------------+----------------------+-----------------------+---------------------+---------------------+---------------------+---------------------+---------------------+---------------------+---------------------+---------------------+---------------------+---------------------+----------------------+---------------------+---------------------+---------------------+---------------------+\n",
            "| landuse     | landuse(0)           | landuse(0)           | landuse(0)           | landuse(0)           | landuse(0)            | landuse(1)          | landuse(1)          | landuse(1)          | landuse(1)          | landuse(1)          | landuse(2)          | landuse(2)          | landuse(2)          | landuse(2)          | landuse(2)          | landuse(3)           | landuse(3)          | landuse(3)          | landuse(3)          | landuse(3)          |\n",
            "+-------------+----------------------+----------------------+----------------------+----------------------+-----------------------+---------------------+---------------------+---------------------+---------------------+---------------------+---------------------+---------------------+---------------------+---------------------+---------------------+----------------------+---------------------+---------------------+---------------------+---------------------+\n",
            "| yearbuilt   | yearbuilt(0)         | yearbuilt(1)         | yearbuilt(2)         | yearbuilt(3)         | yearbuilt(4)          | yearbuilt(0)        | yearbuilt(1)        | yearbuilt(2)        | yearbuilt(3)        | yearbuilt(4)        | yearbuilt(0)        | yearbuilt(1)        | yearbuilt(2)        | yearbuilt(3)        | yearbuilt(4)        | yearbuilt(0)         | yearbuilt(1)        | yearbuilt(2)        | yearbuilt(3)        | yearbuilt(4)        |\n",
            "+-------------+----------------------+----------------------+----------------------+----------------------+-----------------------+---------------------+---------------------+---------------------+---------------------+---------------------+---------------------+---------------------+---------------------+---------------------+---------------------+----------------------+---------------------+---------------------+---------------------+---------------------+\n",
            "| residfar(0) | 0.418732782369146    | 0.7418772563176895   | 0.8139931740614335   | 0.8901601830663616   | 0.8373570520965693    | 0.07864832535885168 | 0.15780204297287778 | 0.29161118508655126 | 0.4049282824567856  | 0.4845309381237525  | 0.02702702702702703 | 0.02486678507992895 | 0.09041394335511982 | 0.1537842190016103  | 0.2611374407582938  | 0.036813186813186814 | 0.07717569786535304 | 0.17256637168141592 | 0.1878121878121878  | 0.08604206500956023 |\n",
            "+-------------+----------------------+----------------------+----------------------+----------------------+-----------------------+---------------------+---------------------+---------------------+---------------------+---------------------+---------------------+---------------------+---------------------+---------------------+---------------------+----------------------+---------------------+---------------------+---------------------+---------------------+\n",
            "| residfar(1) | 0.42699724517906334  | 0.19133574007220217  | 0.1621160409556314   | 0.08924485125858124  | 0.11944091486658195   | 0.3806818181818182  | 0.31525184924269106 | 0.4284287616511318  | 0.41118058109599115 | 0.3582834331337325  | 0.16216216216216217 | 0.13143872113676733 | 0.17538126361655773 | 0.2753623188405797  | 0.295260663507109   | 0.13901098901098902  | 0.2044334975369458  | 0.3168141592920354  | 0.34765234765234765 | 0.2638623326959847  |\n",
            "+-------------+----------------------+----------------------+----------------------+----------------------+-----------------------+---------------------+---------------------+---------------------+---------------------+---------------------+---------------------+---------------------+---------------------+---------------------+---------------------+----------------------+---------------------+---------------------+---------------------+---------------------+\n",
            "| residfar(2) | 0.03994490358126722  | 0.018050541516245487 | 0.005119453924914676 | 0.006864988558352402 | 0.007623888182973317  | 0.08014354066985646 | 0.07643536456498767 | 0.06524633821571238 | 0.06583302684810592 | 0.0249500998003992  | 0.06418918918918919 | 0.06394316163410302 | 0.06100217864923747 | 0.07085346215780998 | 0.08246445497630332 | 0.06428571428571428  | 0.08620689655172414 | 0.0831858407079646  | 0.12687312687312688 | 0.05927342256214149 |\n",
            "+-------------+----------------------+----------------------+----------------------+----------------------+-----------------------+---------------------+---------------------+---------------------+---------------------+---------------------+---------------------+---------------------+---------------------+---------------------+---------------------+----------------------+---------------------+---------------------+---------------------+---------------------+\n",
            "| residfar(3) | 0.08402203856749312  | 0.032490974729241874 | 0.011945392491467578 | 0.009153318077803204 | 0.03176620076238882   | 0.1922846889952153  | 0.23952095808383234 | 0.131491344873502   | 0.06472968002942259 | 0.09580838323353294 | 0.27702702702702703 | 0.2966252220248668  | 0.33877995642701525 | 0.20933977455716588 | 0.1876777251184834  | 0.25054945054945055  | 0.2742200328407225  | 0.21150442477876105 | 0.16583416583416583 | 0.2332695984703633  |\n",
            "+-------------+----------------------+----------------------+----------------------+----------------------+-----------------------+---------------------+---------------------+---------------------+---------------------+---------------------+---------------------+---------------------+---------------------+---------------------+---------------------+----------------------+---------------------+---------------------+---------------------+---------------------+\n",
            "| residfar(4) | 0.030303030303030304 | 0.016245487364620937 | 0.006825938566552901 | 0.004576659038901602 | 0.0038119440914866584 | 0.2682416267942584  | 0.21098978513561112 | 0.08322237017310254 | 0.05332842956969474 | 0.03642714570858283 | 0.46959459459459457 | 0.48312611012433393 | 0.3344226579520697  | 0.29066022544283415 | 0.1734597156398104  | 0.5093406593406593   | 0.3579638752052545  | 0.215929203539823   | 0.17182817182817184 | 0.3575525812619503  |\n",
            "+-------------+----------------------+----------------------+----------------------+----------------------+-----------------------+---------------------+---------------------+---------------------+---------------------+---------------------+---------------------+---------------------+---------------------+---------------------+---------------------+----------------------+---------------------+---------------------+---------------------+---------------------+\n",
            "CPD of yearbuilt:\n",
            "+--------------+----------+\n",
            "| yearbuilt(0) | 0.222427 |\n",
            "+--------------+----------+\n",
            "| yearbuilt(1) | 0.185927 |\n",
            "+--------------+----------+\n",
            "| yearbuilt(2) | 0.202662 |\n",
            "+--------------+----------+\n",
            "| yearbuilt(3) | 0.194042 |\n",
            "+--------------+----------+\n",
            "| yearbuilt(4) | 0.194943 |\n",
            "+--------------+----------+\n",
            "CPD of unit_ratio:\n",
            "+---------------+----------------------+----------------------+----------------------+----------------------+----------------------+---------------------+---------------------+---------------------+---------------------+---------------------+---------------------+---------------------+---------------------+---------------------+---------------------+---------------------+---------------------+---------------------+----------------------+---------------------+--------------+---------------------+---------------------+---------------------+---------------------+---------------------+---------------------+---------------------+---------------------+---------------------+\n",
            "| bldgclass     | bldgclass(0)         | bldgclass(0)         | bldgclass(0)         | bldgclass(0)         | bldgclass(0)         | bldgclass(1)        | bldgclass(1)        | bldgclass(1)        | bldgclass(1)        | bldgclass(1)        | bldgclass(2)        | bldgclass(2)        | bldgclass(2)        | bldgclass(2)        | bldgclass(2)        | bldgclass(3)        | bldgclass(3)        | bldgclass(3)        | bldgclass(3)         | bldgclass(3)        | bldgclass(4) | bldgclass(4)        | bldgclass(4)        | bldgclass(4)        | bldgclass(4)        | bldgclass(5)        | bldgclass(5)        | bldgclass(5)        | bldgclass(5)        | bldgclass(5)        |\n",
            "+---------------+----------------------+----------------------+----------------------+----------------------+----------------------+---------------------+---------------------+---------------------+---------------------+---------------------+---------------------+---------------------+---------------------+---------------------+---------------------+---------------------+---------------------+---------------------+----------------------+---------------------+--------------+---------------------+---------------------+---------------------+---------------------+---------------------+---------------------+---------------------+---------------------+---------------------+\n",
            "| yearbuilt     | yearbuilt(0)         | yearbuilt(1)         | yearbuilt(2)         | yearbuilt(3)         | yearbuilt(4)         | yearbuilt(0)        | yearbuilt(1)        | yearbuilt(2)        | yearbuilt(3)        | yearbuilt(4)        | yearbuilt(0)        | yearbuilt(1)        | yearbuilt(2)        | yearbuilt(3)        | yearbuilt(4)        | yearbuilt(0)        | yearbuilt(1)        | yearbuilt(2)        | yearbuilt(3)         | yearbuilt(4)        | yearbuilt(0) | yearbuilt(1)        | yearbuilt(2)        | yearbuilt(3)        | yearbuilt(4)        | yearbuilt(0)        | yearbuilt(1)        | yearbuilt(2)        | yearbuilt(3)        | yearbuilt(4)        |\n",
            "+---------------+----------------------+----------------------+----------------------+----------------------+----------------------+---------------------+---------------------+---------------------+---------------------+---------------------+---------------------+---------------------+---------------------+---------------------+---------------------+---------------------+---------------------+---------------------+----------------------+---------------------+--------------+---------------------+---------------------+---------------------+---------------------+---------------------+---------------------+---------------------+---------------------+---------------------+\n",
            "| unit_ratio(0) | 0.03225806451612903  | 0.04424778761061947  | 0.013245033112582781 | 0.09523809523809523  | 0.008928571428571428 | 0.11912225705329153 | 0.14573991031390135 | 0.16136363636363638 | 0.35443037974683544 | 0.10735294117647058 | 0.42323651452282157 | 0.26229508196721313 | 0.22155172413793103 | 0.215039128955427   | 0.1340745585349902  | 0.2273781902552204  | 0.10799438990182328 | 0.08044030482641829 | 0.031409788166544925 | 0.09623259623259624 | 0.3          | 0.1111111111111111  | 0.11428571428571428 | 0.03759398496240601 | 0.06115702479338843 | 0.24444444444444444 | 0.20577617328519857 | 0.32409972299168976 | 0.3288973384030418  | 0.2878787878787879  |\n",
            "+---------------+----------------------+----------------------+----------------------+----------------------+----------------------+---------------------+---------------------+---------------------+---------------------+---------------------+---------------------+---------------------+---------------------+---------------------+---------------------+---------------------+---------------------+---------------------+----------------------+---------------------+--------------+---------------------+---------------------+---------------------+---------------------+---------------------+---------------------+---------------------+---------------------+---------------------+\n",
            "| unit_ratio(1) | 0.053763440860215055 | 0.07964601769911504  | 0.052980132450331126 | 0.031746031746031744 | 0.008928571428571428 | 0.15673981191222572 | 0.1860986547085202  | 0.19090909090909092 | 0.1550632911392405  | 0.08970588235294118 | 0.17689451845381088 | 0.24868018894137262 | 0.3114942528735632  | 0.3368492684586594  | 0.15696533682145192 | 0.09048723897911833 | 0.12903225806451613 | 0.1100762066045724  | 0.16289262235208182  | 0.11875511875511875 | 0.1          | 0.1111111111111111  | 0.4                 | 0.8646616541353384  | 0.13553719008264462 | 0.17777777777777778 | 0.19494584837545126 | 0.18559556786703602 | 0.16730038022813687 | 0.19696969696969696 |\n",
            "+---------------+----------------------+----------------------+----------------------+----------------------+----------------------+---------------------+---------------------+---------------------+---------------------+---------------------+---------------------+---------------------+---------------------+---------------------+---------------------+---------------------+---------------------+---------------------+----------------------+---------------------+--------------+---------------------+---------------------+---------------------+---------------------+---------------------+---------------------+---------------------+---------------------+---------------------+\n",
            "| unit_ratio(2) | 0.07526881720430108  | 0.035398230088495575 | 0.046357615894039736 | 0.07936507936507936  | 0.03571428571428571  | 0.13636363636363635 | 0.1591928251121076  | 0.1340909090909091  | 0.17088607594936708 | 0.14705882352941177 | 0.16531993885127758 | 0.23562100583495416 | 0.2824712643678161  | 0.23001020755358967 | 0.17266187050359713 | 0.14617169373549885 | 0.18513323983169705 | 0.2480948348856901  | 0.19211102994886778  | 0.20884520884520885 | 0.18         | 0.16666666666666666 | 0.3142857142857143  | 0.03007518796992481 | 0.18677685950413223 | 0.13580246913580246 | 0.18050541516245489 | 0.1329639889196676  | 0.1311787072243346  | 0.13636363636363635 |\n",
            "+---------------+----------------------+----------------------+----------------------+----------------------+----------------------+---------------------+---------------------+---------------------+---------------------+---------------------+---------------------+---------------------+---------------------+---------------------+---------------------+---------------------+---------------------+---------------------+----------------------+---------------------+--------------+---------------------+---------------------+---------------------+---------------------+---------------------+---------------------+---------------------+---------------------+---------------------+\n",
            "| unit_ratio(3) | 0.06451612903225806  | 0.1504424778761062   | 0.11920529801324503  | 0.16666666666666666  | 0.1875               | 0.2993730407523511  | 0.2040358744394619  | 0.20909090909090908 | 0.13924050632911392 | 0.24705882352941178 | 0.1268835990390915  | 0.16198944151153097 | 0.1267241379310345  | 0.13814222524668254 | 0.31654676258992803 | 0.21809744779582366 | 0.2314165497896213  | 0.31668077900084673 | 0.36888239590942296  | 0.3452088452088452  | 0.1          | 0.1388888888888889  | 0.05714285714285714 | 0.03759398496240601 | 0.315702479338843   | 0.19506172839506172 | 0.16967509025270758 | 0.1440443213296399  | 0.15399239543726237 | 0.19696969696969696 |\n",
            "+---------------+----------------------+----------------------+----------------------+----------------------+----------------------+---------------------+---------------------+---------------------+---------------------+---------------------+---------------------+---------------------+---------------------+---------------------+---------------------+---------------------+---------------------+---------------------+----------------------+---------------------+--------------+---------------------+---------------------+---------------------+---------------------+---------------------+---------------------+---------------------+---------------------+---------------------+\n",
            "| unit_ratio(4) | 0.7741935483870968   | 0.6902654867256637   | 0.7682119205298014   | 0.626984126984127    | 0.7589285714285714   | 0.2884012539184953  | 0.30493273542600896 | 0.30454545454545456 | 0.18037974683544303 | 0.4088235294117647  | 0.10766542913299847 | 0.09141428174492915 | 0.05775862068965517 | 0.07995916978564137 | 0.2197514715500327  | 0.31786542923433875 | 0.34642356241234223 | 0.2447078746824725  | 0.24470416362308253  | 0.23095823095823095 | 0.32         | 0.4722222222222222  | 0.11428571428571428 | 0.03007518796992481 | 0.30082644628099175 | 0.24691358024691357 | 0.2490974729241877  | 0.21329639889196675 | 0.21863117870722434 | 0.18181818181818182 |\n",
            "+---------------+----------------------+----------------------+----------------------+----------------------+----------------------+---------------------+---------------------+---------------------+---------------------+---------------------+---------------------+---------------------+---------------------+---------------------+---------------------+---------------------+---------------------+---------------------+----------------------+---------------------+--------------+---------------------+---------------------+---------------------+---------------------+---------------------+---------------------+---------------------+---------------------+---------------------+\n",
            "CPD of violations:\n",
            "+---------------+----------------------+----------------------+----------------------+---------------------+--------------------+\n",
            "| yearbuilt     | yearbuilt(0)         | yearbuilt(1)         | yearbuilt(2)         | yearbuilt(3)        | yearbuilt(4)       |\n",
            "+---------------+----------------------+----------------------+----------------------+---------------------+--------------------+\n",
            "| violations(0) | 0.6174420489544497   | 0.5394609268954819   | 0.5330012453300125   | 0.5455221107395021  | 0.6352875901609025 |\n",
            "+---------------+----------------------+----------------------+----------------------+---------------------+--------------------+\n",
            "| violations(1) | 0.3707245906954125   | 0.4335854178786116   | 0.4287493328589219   | 0.4197324414715719  | 0.3236545219160348 |\n",
            "+---------------+----------------------+----------------------+----------------------+---------------------+--------------------+\n",
            "| violations(2) | 0.011833360350137786 | 0.026953655225906537 | 0.038249421811065644 | 0.03474544778892605 | 0.0410578879230627 |\n",
            "+---------------+----------------------+----------------------+----------------------+---------------------+--------------------+\n",
            "CPD of landuse:\n",
            "+------------+----------------------+----------------------+----------------------+--------------+----------------------+-----------------------+-----------------------+----------------------+-----------------------+-----------------------+------------------------+------------------------+-----------------------+-----------------------+-----------------------+----------------------+-----------------------+----------------------+-----------------------+------------------------+---------------------+---------------------+----------------------+----------------------+-----------------------+-----------------------+-----------------------+----------------------+-----------------------+----------------------+\n",
            "| bldgclass  | bldgclass(0)         | bldgclass(0)         | bldgclass(0)         | bldgclass(0) | bldgclass(0)         | bldgclass(1)          | bldgclass(1)          | bldgclass(1)         | bldgclass(1)          | bldgclass(1)          | bldgclass(2)           | bldgclass(2)           | bldgclass(2)          | bldgclass(2)          | bldgclass(2)          | bldgclass(3)         | bldgclass(3)          | bldgclass(3)         | bldgclass(3)          | bldgclass(3)           | bldgclass(4)        | bldgclass(4)        | bldgclass(4)         | bldgclass(4)         | bldgclass(4)          | bldgclass(5)          | bldgclass(5)          | bldgclass(5)         | bldgclass(5)          | bldgclass(5)         |\n",
            "+------------+----------------------+----------------------+----------------------+--------------+----------------------+-----------------------+-----------------------+----------------------+-----------------------+-----------------------+------------------------+------------------------+-----------------------+-----------------------+-----------------------+----------------------+-----------------------+----------------------+-----------------------+------------------------+---------------------+---------------------+----------------------+----------------------+-----------------------+-----------------------+-----------------------+----------------------+-----------------------+----------------------+\n",
            "| yearbuilt  | yearbuilt(0)         | yearbuilt(1)         | yearbuilt(2)         | yearbuilt(3) | yearbuilt(4)         | yearbuilt(0)          | yearbuilt(1)          | yearbuilt(2)         | yearbuilt(3)          | yearbuilt(4)          | yearbuilt(0)           | yearbuilt(1)           | yearbuilt(2)          | yearbuilt(3)          | yearbuilt(4)          | yearbuilt(0)         | yearbuilt(1)          | yearbuilt(2)         | yearbuilt(3)          | yearbuilt(4)           | yearbuilt(0)        | yearbuilt(1)        | yearbuilt(2)         | yearbuilt(3)         | yearbuilt(4)          | yearbuilt(0)          | yearbuilt(1)          | yearbuilt(2)         | yearbuilt(3)          | yearbuilt(4)         |\n",
            "+------------+----------------------+----------------------+----------------------+--------------+----------------------+-----------------------+-----------------------+----------------------+-----------------------+-----------------------+------------------------+------------------------+-----------------------+-----------------------+-----------------------+----------------------+-----------------------+----------------------+-----------------------+------------------------+---------------------+---------------------+----------------------+----------------------+-----------------------+-----------------------+-----------------------+----------------------+-----------------------+----------------------+\n",
            "| landuse(0) | 0.967391304347826    | 0.9732142857142857   | 0.98                 | 0.976        | 0.972972972972973    | 0.9952904238618524    | 0.9932584269662922    | 0.9931662870159453   | 0.9904761904761905    | 0.9955817378497791    | 0.00021843599825251202 | 0.00027793218454697053 | 0.0002874389192296637 | 0.0003403675970047651 | 0.0006544502617801048 | 0.002325581395348837 | 0.0014044943820224719 | 0.000847457627118644 | 0.0007309941520467836 | 0.00040966816878328555 | 0.02040816326530612 | 0.02857142857142857 | 0.029411764705882353 | 0.007575757575757576 | 0.0016556291390728477 | 0.0024752475247524753 | 0.0036231884057971015 | 0.002777777777777778 | 0.0019047619047619048 | 0.015384615384615385 |\n",
            "+------------+----------------------+----------------------+----------------------+--------------+----------------------+-----------------------+-----------------------+----------------------+-----------------------+-----------------------+------------------------+------------------------+-----------------------+-----------------------+-----------------------+----------------------+-----------------------+----------------------+-----------------------+------------------------+---------------------+---------------------+----------------------+----------------------+-----------------------+-----------------------+-----------------------+----------------------+-----------------------+----------------------+\n",
            "| landuse(1) | 0.010869565217391304 | 0.008928571428571428 | 0.006666666666666667 | 0.008        | 0.009009009009009009 | 0.0015698587127158557 | 0.0022471910112359553 | 0.002277904328018223 | 0.0031746031746031746 | 0.0014727540500736377 | 0.7230231542158148     | 0.7846025569760978     | 0.8559931014659384    | 0.9128658951667801    | 0.9725130890052356    | 0.002325581395348837 | 0.0014044943820224719 | 0.000847457627118644 | 0.0007309941520467836 | 0.00040966816878328555 | 0.6326530612244898  | 0.37142857142857144 | 0.6764705882352942   | 0.25757575757575757  | 0.8526490066225165    | 0.0024752475247524753 | 0.0036231884057971015 | 0.002777777777777778 | 0.0019047619047619048 | 0.015384615384615385 |\n",
            "+------------+----------------------+----------------------+----------------------+--------------+----------------------+-----------------------+-----------------------+----------------------+-----------------------+-----------------------+------------------------+------------------------+-----------------------+-----------------------+-----------------------+----------------------+-----------------------+----------------------+-----------------------+------------------------+---------------------+---------------------+----------------------+----------------------+-----------------------+-----------------------+-----------------------+----------------------+-----------------------+----------------------+\n",
            "| landuse(2) | 0.010869565217391304 | 0.008928571428571428 | 0.006666666666666667 | 0.008        | 0.009009009009009009 | 0.0015698587127158557 | 0.0022471910112359553 | 0.002277904328018223 | 0.0031746031746031746 | 0.0014727540500736377 | 0.00021843599825251202 | 0.00027793218454697053 | 0.0002874389192296637 | 0.0003403675970047651 | 0.0006544502617801048 | 0.6441860465116279   | 0.7584269662921348    | 0.7677966101694915   | 0.8355263157894737    | 0.8287587054485867     | 0.32653061224489793 | 0.5714285714285714  | 0.2647058823529412   | 0.7272727272727273   | 0.1390728476821192    | 0.0024752475247524753 | 0.0036231884057971015 | 0.002777777777777778 | 0.0019047619047619048 | 0.015384615384615385 |\n",
            "+------------+----------------------+----------------------+----------------------+--------------+----------------------+-----------------------+-----------------------+----------------------+-----------------------+-----------------------+------------------------+------------------------+-----------------------+-----------------------+-----------------------+----------------------+-----------------------+----------------------+-----------------------+------------------------+---------------------+---------------------+----------------------+----------------------+-----------------------+-----------------------+-----------------------+----------------------+-----------------------+----------------------+\n",
            "| landuse(3) | 0.010869565217391304 | 0.008928571428571428 | 0.006666666666666667 | 0.008        | 0.009009009009009009 | 0.0015698587127158557 | 0.0022471910112359553 | 0.002277904328018223 | 0.0031746031746031746 | 0.0014727540500736377 | 0.2765399737876802     | 0.2148415786548082     | 0.14343202069560218   | 0.08645336963921035   | 0.02617801047120419   | 0.3511627906976744   | 0.23876404494382023   | 0.2305084745762712   | 0.16301169590643275   | 0.17042195821384679    | 0.02040816326530612 | 0.02857142857142857 | 0.029411764705882353 | 0.007575757575757576 | 0.006622516556291391  | 0.9925742574257426    | 0.9891304347826086    | 0.9916666666666667   | 0.9942857142857143    | 0.9538461538461539   |\n",
            "+------------+----------------------+----------------------+----------------------+--------------+----------------------+-----------------------+-----------------------+----------------------+-----------------------+-----------------------+------------------------+------------------------+-----------------------+-----------------------+-----------------------+----------------------+-----------------------+----------------------+-----------------------+------------------------+---------------------+---------------------+----------------------+----------------------+-----------------------+-----------------------+-----------------------+----------------------+-----------------------+----------------------+\n",
            "\n",
            "{'bldgclass': set(['bldgclass', 'subsidies_flag', 'residfar', 'yearbuilt', 'unit_ratio', 'violations', 'landuse'])}\n",
            "{'subsidies_flag': set(['bldgclass', 'subsidies_flag', 'residfar', 'yearbuilt', 'unit_ratio', 'violations', 'landuse'])}\n",
            "{'residfar': set(['bldgclass', 'subsidies_flag', 'residfar', 'yearbuilt', 'unit_ratio', 'violations', 'landuse'])}\n",
            "{'yearbuilt': set(['bldgclass', 'subsidies_flag', 'residfar', 'yearbuilt', 'unit_ratio', 'violations', 'landuse'])}\n",
            "{'unit_ratio': set(['bldgclass', 'subsidies_flag', 'residfar', 'yearbuilt', 'unit_ratio', 'violations', 'landuse'])}\n",
            "{'violations': set(['bldgclass', 'subsidies_flag', 'residfar', 'yearbuilt', 'unit_ratio', 'violations', 'landuse'])}\n",
            "{'landuse': set(['bldgclass', 'subsidies_flag', 'residfar', 'yearbuilt', 'unit_ratio', 'violations', 'landuse'])}\n"
          ],
          "name": "stdout"
        }
      ]
    },
    {
      "cell_type": "code",
      "metadata": {
        "id": "wbU_FsR4iYE3",
        "colab_type": "code",
        "outputId": "87e59e23-3718-4a21-b4c5-0f0b1f525d6c",
        "colab": {
          "base_uri": "https://localhost:8080/",
          "height": 34
        }
      },
      "source": [
        "best_model.fit(data17train, estimator=BayesianEstimator, prior_type='K2')\n",
        "test_x = data17test.drop(columns=['violations'])\n",
        "predicted_test = temp_predict(best_model, test_x)\n",
        "print \"Out of sample:\",(data17test.loc[:,'violations']==predicted_test['violations']).mean()"
      ],
      "execution_count": 0,
      "outputs": [
        {
          "output_type": "stream",
          "text": [
            "Out of sample: 0.5978935218583177\n"
          ],
          "name": "stdout"
        }
      ]
    },
    {
      "cell_type": "code",
      "metadata": {
        "id": "y3vDZsNPV9tk",
        "colab_type": "code",
        "outputId": "2fb4ed78-eb1b-42b8-9839-a4e0736feab7",
        "colab": {
          "base_uri": "https://localhost:8080/",
          "height": 34
        }
      },
      "source": [
        "train_x = data17train.drop(columns=['violations'])\n",
        "predicted_train = temp_predict(best_model, train_x)\n",
        "print \"In of sample:\",(data17train.loc[:,'violations']==predicted_train['violations']).mean()"
      ],
      "execution_count": 0,
      "outputs": [
        {
          "output_type": "stream",
          "text": [
            "In of sample: 0.5951084015728149\n"
          ],
          "name": "stdout"
        }
      ]
    },
    {
      "cell_type": "code",
      "metadata": {
        "id": "loj-_Z249lBj",
        "colab_type": "code",
        "colab": {}
      },
      "source": [
        "data17smaller = pd.read_csv(\"data17smaller_4_2.csv\", low_memory = False, dtype = {'subsidies_flag':\"int64\"})\n"
      ],
      "execution_count": 0,
      "outputs": []
    },
    {
      "cell_type": "code",
      "metadata": {
        "id": "T_BNYHGtpTw0",
        "colab_type": "code",
        "outputId": "7bc1b898-4d0f-4475-91c6-ce4eaad50fac",
        "colab": {
          "base_uri": "https://localhost:8080/",
          "height": 53
        }
      },
      "source": [
        "data17train, data17test = train_test_split(data17smaller,random_state=9,test_size=0.2)\n",
        "hc = HillClimbSearch(data17train, scoring_method=BicScore(data17train))\n",
        "best_model = hc.estimate()\n",
        "print(best_model.edges())\n"
      ],
      "execution_count": 0,
      "outputs": [
        {
          "output_type": "stream",
          "text": [
            "[('bldgclass', 'unit_ratio'), ('bldgclass', 'subsidies_flag'), ('bldgclass', 'yearbuilt'), ('bldgclass', 'vio_rt'), ('residfar', 'subsidies_flag'), ('residfar', 'landuse'), ('residfar', 'yearbuilt'), ('residfar', 'bldgclass'), ('yearbuilt', 'unit_ratio'), ('yearbuilt', 'vio_rt'), ('landuse', 'bldgclass')]\n"
          ],
          "name": "stdout"
        }
      ]
    },
    {
      "cell_type": "code",
      "metadata": {
        "id": "w2Rh1IOBfrbH",
        "colab_type": "code",
        "outputId": "f9666ea0-07ea-4d14-dc5f-004b551ce2bf",
        "colab": {
          "base_uri": "https://localhost:8080/",
          "height": 51
        }
      },
      "source": [
        "\n",
        "best_model.fit(data17train, estimator=BayesianEstimator, prior_type='K2')\n",
        "\n",
        "train_x = data17train.drop(columns=['vio_rt'])\n",
        "predicted_train = temp_predict(best_model, train_x)\n",
        "print \"In of sample:\",(data17train.loc[:,'vio_rt']==predicted_train['vio_rt']).mean()\n",
        "\n",
        "test_x = data17test.drop(columns=['vio_rt'])\n",
        "predicted_test = temp_predict(best_model, test_x)\n",
        "print \"Out of sample:\",(data17test.loc[:,'vio_rt']==predicted_test['vio_rt']).mean()"
      ],
      "execution_count": 0,
      "outputs": [
        {
          "output_type": "stream",
          "text": [
            "In of sample: 0.3487969409472963\n",
            "Out of sample: 0.34410618958303274\n"
          ],
          "name": "stdout"
        }
      ]
    },
    {
      "cell_type": "code",
      "metadata": {
        "id": "fLkeluzfZQUj",
        "colab_type": "code",
        "outputId": "b766ba62-2e02-488a-d0a1-7217d4954e97",
        "colab": {
          "base_uri": "https://localhost:8080/",
          "height": 1792
        }
      },
      "source": [
        "best_model.fit(data17train, estimator=BayesianEstimator, prior_type='K2')\n",
        "for cpd in best_model.get_cpds():\n",
        "    print(\"CPD of {variable}:\".format(variable=cpd.variable))\n",
        "    print(cpd)\n",
        "    \n",
        "print best_model.local_independencies('vio_rt')\n",
        "\n",
        "for thenode in best_model.nodes():\n",
        "    print best_model.active_trail_nodes(thenode)"
      ],
      "execution_count": 0,
      "outputs": [
        {
          "output_type": "stream",
          "text": [
            "CPD of bldgclass:\n",
            "+--------------+------------------------+-----------------------+---------------------+---------------------+----------------------+-----------------------+------------------------+-----------------------+-----------------------+-----------------------+-----------------------+-----------------------+-----------------------+-----------------------+-----------------------+-----------------------+-----------------------+-----------------------+-----------------------+-----------------------+\n",
            "| landuse      | landuse(0)             | landuse(0)            | landuse(0)          | landuse(0)          | landuse(0)           | landuse(1)            | landuse(1)             | landuse(1)            | landuse(1)            | landuse(1)            | landuse(2)            | landuse(2)            | landuse(2)            | landuse(2)            | landuse(2)            | landuse(3)            | landuse(3)            | landuse(3)            | landuse(3)            | landuse(3)            |\n",
            "+--------------+------------------------+-----------------------+---------------------+---------------------+----------------------+-----------------------+------------------------+-----------------------+-----------------------+-----------------------+-----------------------+-----------------------+-----------------------+-----------------------+-----------------------+-----------------------+-----------------------+-----------------------+-----------------------+-----------------------+\n",
            "| residfar     | residfar(0)            | residfar(1)           | residfar(2)         | residfar(3)         | residfar(4)          | residfar(0)           | residfar(1)            | residfar(2)           | residfar(3)           | residfar(4)           | residfar(0)           | residfar(1)           | residfar(2)           | residfar(3)           | residfar(4)           | residfar(0)           | residfar(1)           | residfar(2)           | residfar(3)           | residfar(4)           |\n",
            "+--------------+------------------------+-----------------------+---------------------+---------------------+----------------------+-----------------------+------------------------+-----------------------+-----------------------+-----------------------+-----------------------+-----------------------+-----------------------+-----------------------+-----------------------+-----------------------+-----------------------+-----------------------+-----------------------+-----------------------+\n",
            "| bldgclass(0) | 0.21026564610535795    | 0.07882534775888717   | 0.17647058823529413 | 0.09090909090909091 | 0.2608695652173913   | 0.0002787068004459309 | 0.00018982536066818528 | 0.0011210762331838565 | 0.0004757373929590866 | 0.0004985044865403788 | 0.0011587485515643105 | 0.0007955449482895784 | 0.0025974025974025974 | 0.0008230452674897119 | 0.0006901311249137336 | 0.0017301038062283738 | 0.0007564296520423601 | 0.0019723865877712033 | 0.0007429420505200594 | 0.0005030181086519115 |\n",
            "+--------------+------------------------+-----------------------+---------------------+---------------------+----------------------+-----------------------+------------------------+-----------------------+-----------------------+-----------------------+-----------------------+-----------------------+-----------------------+-----------------------+-----------------------+-----------------------+-----------------------+-----------------------+-----------------------+-----------------------+\n",
            "| bldgclass(1) | 0.7879333633498424     | 0.9149922720247295    | 0.7450980392156863  | 0.8727272727272727  | 0.6521739130434783   | 0.0002787068004459309 | 0.00018982536066818528 | 0.0011210762331838565 | 0.0004757373929590866 | 0.0004985044865403788 | 0.0011587485515643105 | 0.0007955449482895784 | 0.0025974025974025974 | 0.0008230452674897119 | 0.0006901311249137336 | 0.0017301038062283738 | 0.0007564296520423601 | 0.0019723865877712033 | 0.0007429420505200594 | 0.0005030181086519115 |\n",
            "+--------------+------------------------+-----------------------+---------------------+---------------------+----------------------+-----------------------+------------------------+-----------------------+-----------------------+-----------------------+-----------------------+-----------------------+-----------------------+-----------------------+-----------------------+-----------------------+-----------------------+-----------------------+-----------------------+-----------------------+\n",
            "| bldgclass(2) | 0.00045024763619990995 | 0.0015455950540958269 | 0.0196078431372549  | 0.00909090909090909 | 0.021739130434782608 | 0.9116499442586399    | 0.9629840546697038     | 0.9831838565022422    | 0.9586108468125595    | 0.9910269192422732    | 0.0011587485515643105 | 0.0007955449482895784 | 0.0025974025974025974 | 0.0008230452674897119 | 0.0006901311249137336 | 0.3044982698961938    | 0.394856278366112     | 0.3826429980276134    | 0.6077265973254086    | 0.5764587525150905    |\n",
            "+--------------+------------------------+-----------------------+---------------------+---------------------+----------------------+-----------------------+------------------------+-----------------------+-----------------------+-----------------------+-----------------------+-----------------------+-----------------------+-----------------------+-----------------------+-----------------------+-----------------------+-----------------------+-----------------------+-----------------------+\n",
            "| bldgclass(3) | 0.00045024763619990995 | 0.0015455950540958269 | 0.0196078431372549  | 0.00909090909090909 | 0.021739130434782608 | 0.0002787068004459309 | 0.00018982536066818528 | 0.0011210762331838565 | 0.0004757373929590866 | 0.0004985044865403788 | 0.9687137891077636    | 0.9045346062052506    | 0.9506493506493506    | 0.9711934156378601    | 0.961352657004831     | 0.10207612456747404   | 0.12783661119515885   | 0.10848126232741617   | 0.3179791976225854    | 0.25553319919517103   |\n",
            "+--------------+------------------------+-----------------------+---------------------+---------------------+----------------------+-----------------------+------------------------+-----------------------+-----------------------+-----------------------+-----------------------+-----------------------+-----------------------+-----------------------+-----------------------+-----------------------+-----------------------+-----------------------+-----------------------+-----------------------+\n",
            "| bldgclass(4) | 0.00045024763619990995 | 0.0015455950540958269 | 0.0196078431372549  | 0.00909090909090909 | 0.021739130434782608 | 0.08723522853957637   | 0.03625664388762339    | 0.01233183856502242   | 0.03948620361560418   | 0.006979062811565304  | 0.026651216685979143  | 0.09228321400159109   | 0.03896103896103896   | 0.02551440329218107   | 0.035886818495514144  | 0.0017301038062283738 | 0.0015128593040847202 | 0.0019723865877712033 | 0.0007429420505200594 | 0.0015090543259557343 |\n",
            "+--------------+------------------------+-----------------------+---------------------+---------------------+----------------------+-----------------------+------------------------+-----------------------+-----------------------+-----------------------+-----------------------+-----------------------+-----------------------+-----------------------+-----------------------+-----------------------+-----------------------+-----------------------+-----------------------+-----------------------+\n",
            "| bldgclass(5) | 0.00045024763619990995 | 0.0015455950540958269 | 0.0196078431372549  | 0.00909090909090909 | 0.021739130434782608 | 0.0002787068004459309 | 0.00018982536066818528 | 0.0011210762331838565 | 0.0004757373929590866 | 0.0004985044865403788 | 0.0011587485515643105 | 0.0007955449482895784 | 0.0025974025974025974 | 0.0008230452674897119 | 0.0006901311249137336 | 0.5882352941176471    | 0.4742813918305598    | 0.5029585798816568    | 0.07206537890044576   | 0.16549295774647887   |\n",
            "+--------------+------------------------+-----------------------+---------------------+---------------------+----------------------+-----------------------+------------------------+-----------------------+-----------------------+-----------------------+-----------------------+-----------------------+-----------------------+-----------------------+-----------------------+-----------------------+-----------------------+-----------------------+-----------------------+-----------------------+\n",
            "CPD of subsidies_flag:\n",
            "+-------------------+----------------------+----------------------+--------------+---------------------+---------------------+-----------------------+-----------------------+---------------------+----------------------+---------------------+---------------------+---------------------+---------------------+---------------------+--------------------+--------------------+--------------------+---------------------+--------------------+---------------------+---------------------+---------------------+--------------+---------------------+---------------------+----------------------+----------------------+--------------+---------------------+----------------------+\n",
            "| bldgclass         | bldgclass(0)         | bldgclass(0)         | bldgclass(0) | bldgclass(0)        | bldgclass(0)        | bldgclass(1)          | bldgclass(1)          | bldgclass(1)        | bldgclass(1)         | bldgclass(1)        | bldgclass(2)        | bldgclass(2)        | bldgclass(2)        | bldgclass(2)        | bldgclass(2)       | bldgclass(3)       | bldgclass(3)       | bldgclass(3)        | bldgclass(3)       | bldgclass(3)        | bldgclass(4)        | bldgclass(4)        | bldgclass(4) | bldgclass(4)        | bldgclass(4)        | bldgclass(5)         | bldgclass(5)         | bldgclass(5) | bldgclass(5)        | bldgclass(5)         |\n",
            "+-------------------+----------------------+----------------------+--------------+---------------------+---------------------+-----------------------+-----------------------+---------------------+----------------------+---------------------+---------------------+---------------------+---------------------+---------------------+--------------------+--------------------+--------------------+---------------------+--------------------+---------------------+---------------------+---------------------+--------------+---------------------+---------------------+----------------------+----------------------+--------------+---------------------+----------------------+\n",
            "| residfar          | residfar(0)          | residfar(1)          | residfar(2)  | residfar(3)         | residfar(4)         | residfar(0)           | residfar(1)           | residfar(2)         | residfar(3)          | residfar(4)         | residfar(0)         | residfar(1)         | residfar(2)         | residfar(3)         | residfar(4)        | residfar(0)        | residfar(1)        | residfar(2)         | residfar(3)        | residfar(4)         | residfar(0)         | residfar(1)         | residfar(2)  | residfar(3)         | residfar(4)         | residfar(0)          | residfar(1)          | residfar(2)  | residfar(3)         | residfar(4)          |\n",
            "+-------------------+----------------------+----------------------+--------------+---------------------+---------------------+-----------------------+-----------------------+---------------------+----------------------+---------------------+---------------------+---------------------+---------------------+---------------------+--------------------+--------------------+--------------------+---------------------+--------------------+---------------------+---------------------+---------------------+--------------+---------------------+---------------------+----------------------+----------------------+--------------+---------------------+----------------------+\n",
            "| subsidies_flag(0) | 0.9978632478632479   | 0.9807692307692307   | 0.9          | 0.9090909090909091  | 0.9230769230769231  | 0.9994288977727013    | 0.9983136593591906    | 0.9743589743589743  | 0.9896907216494846   | 0.967741935483871   | 0.9573542210617929  | 0.8745308310991957  | 0.8636788048552755  | 0.7677373808683374  | 0.8774728781110402 | 0.8547486033519553 | 0.7274119448698315 | 0.8242280285035629  | 0.6728855721393034 | 0.8227248816412415  | 0.9404761904761905  | 0.6168831168831169  | 0.5          | 0.5614035087719298  | 0.8382352941176471  | 0.9970674486803519   | 0.9777070063694268   | 0.9609375    | 0.9591836734693877  | 0.9757575757575757   |\n",
            "+-------------------+----------------------+----------------------+--------------+---------------------+---------------------+-----------------------+-----------------------+---------------------+----------------------+---------------------+---------------------+---------------------+---------------------+---------------------+--------------------+--------------------+--------------------+---------------------+--------------------+---------------------+---------------------+---------------------+--------------+---------------------+---------------------+----------------------+----------------------+--------------+---------------------+----------------------+\n",
            "| subsidies_flag(1) | 0.002136752136752137 | 0.019230769230769232 | 0.1          | 0.09090909090909091 | 0.07692307692307693 | 0.0005711022272986865 | 0.0016863406408094434 | 0.02564102564102564 | 0.010309278350515464 | 0.03225806451612903 | 0.04264577893820714 | 0.12546916890080428 | 0.13632119514472454 | 0.23226261913166255 | 0.1225271218889598 | 0.1452513966480447 | 0.2725880551301684 | 0.17577197149643706 | 0.3271144278606965 | 0.17727511835875856 | 0.05952380952380952 | 0.38311688311688313 | 0.5          | 0.43859649122807015 | 0.16176470588235295 | 0.002932551319648094 | 0.022292993630573247 | 0.0390625    | 0.04081632653061224 | 0.024242424242424242 |\n",
            "+-------------------+----------------------+----------------------+--------------+---------------------+---------------------+-----------------------+-----------------------+---------------------+----------------------+---------------------+---------------------+---------------------+---------------------+---------------------+--------------------+--------------------+--------------------+---------------------+--------------------+---------------------+---------------------+---------------------+--------------+---------------------+---------------------+----------------------+----------------------+--------------+---------------------+----------------------+\n",
            "CPD of residfar:\n",
            "+-------------+-----------+\n",
            "| residfar(0) | 0.260658  |\n",
            "+-------------+-----------+\n",
            "| residfar(1) | 0.305525  |\n",
            "+-------------+-----------+\n",
            "| residfar(2) | 0.0653538 |\n",
            "+-------------+-----------+\n",
            "| residfar(3) | 0.171319  |\n",
            "+-------------+-----------+\n",
            "| residfar(4) | 0.197143  |\n",
            "+-------------+-----------+\n",
            "CPD of yearbuilt:\n",
            "+--------------+---------------------+---------------------+---------------------+---------------------+--------------+---------------------+---------------------+---------------------+--------------+----------------------+---------------------+---------------------+----------------------+---------------------+----------------------+----------------------+---------------------+---------------------+---------------------+---------------------+-----------------------+----------------------+---------------------+----------------------+----------------------+---------------------+---------------------+---------------------+---------------------+---------------------+\n",
            "| bldgclass    | bldgclass(0)        | bldgclass(0)        | bldgclass(0)        | bldgclass(0)        | bldgclass(0) | bldgclass(1)        | bldgclass(1)        | bldgclass(1)        | bldgclass(1) | bldgclass(1)         | bldgclass(2)        | bldgclass(2)        | bldgclass(2)         | bldgclass(2)        | bldgclass(2)         | bldgclass(3)         | bldgclass(3)        | bldgclass(3)        | bldgclass(3)        | bldgclass(3)        | bldgclass(4)          | bldgclass(4)         | bldgclass(4)        | bldgclass(4)         | bldgclass(4)         | bldgclass(5)        | bldgclass(5)        | bldgclass(5)        | bldgclass(5)        | bldgclass(5)        |\n",
            "+--------------+---------------------+---------------------+---------------------+---------------------+--------------+---------------------+---------------------+---------------------+--------------+----------------------+---------------------+---------------------+----------------------+---------------------+----------------------+----------------------+---------------------+---------------------+---------------------+---------------------+-----------------------+----------------------+---------------------+----------------------+----------------------+---------------------+---------------------+---------------------+---------------------+---------------------+\n",
            "| residfar     | residfar(0)         | residfar(1)         | residfar(2)         | residfar(3)         | residfar(4)  | residfar(0)         | residfar(1)         | residfar(2)         | residfar(3)  | residfar(4)          | residfar(0)         | residfar(1)         | residfar(2)          | residfar(3)         | residfar(4)          | residfar(0)          | residfar(1)         | residfar(2)         | residfar(3)         | residfar(4)         | residfar(0)           | residfar(1)          | residfar(2)         | residfar(3)          | residfar(4)          | residfar(0)         | residfar(1)         | residfar(2)         | residfar(3)         | residfar(4)         |\n",
            "+--------------+---------------------+---------------------+---------------------+---------------------+--------------+---------------------+---------------------+---------------------+--------------+----------------------+---------------------+---------------------+----------------------+---------------------+----------------------+----------------------+---------------------+---------------------+---------------------+---------------------+-----------------------+----------------------+---------------------+----------------------+----------------------+---------------------+---------------------+---------------------+---------------------+---------------------+\n",
            "| yearbuilt(0) | 0.08280254777070063 | 0.41818181818181815 | 0.6153846153846154  | 0.6428571428571429  | 0.5625       | 0.15963511972633979 | 0.46812080536912754 | 0.5952380952380952  | 0.5          | 0.5882352941176471   | 0.08492753623188405 | 0.2502679528403001  | 0.2802607076350093   | 0.3734132581100141  | 0.504303474657316    | 0.012249443207126948 | 0.03972498090145149 | 0.04245283018867924 | 0.08007448789571694 | 0.12184873949579832 | 0.0058997050147492625 | 0.06752411575562701  | 0.10344827586206896 | 0.06837606837606838  | 0.15492957746478872  | 0.125               | 0.18700475435816163 | 0.2277992277992278  | 0.42574257425742573 | 0.4294294294294294  |\n",
            "+--------------+---------------------+---------------------+---------------------+---------------------+--------------+---------------------+---------------------+---------------------+--------------+----------------------+---------------------+---------------------+----------------------+---------------------+----------------------+----------------------+---------------------+---------------------+---------------------+---------------------+-----------------------+----------------------+---------------------+----------------------+----------------------+---------------------+---------------------+---------------------+---------------------+---------------------+\n",
            "| yearbuilt(1) | 0.1910828025477707  | 0.3090909090909091  | 0.15384615384615385 | 0.07142857142857142 | 0.25         | 0.18928164196123148 | 0.1610738255033557  | 0.11904761904761904 | 0.17         | 0.14705882352941177  | 0.13391304347826086 | 0.1761343336906038  | 0.25232774674115455  | 0.32651622002820874 | 0.29741791520561045  | 0.01893095768374165  | 0.06722689075630252 | 0.07547169811320754 | 0.13221601489757914 | 0.1722689075630252  | 0.008849557522123894  | 0.01929260450160772  | 0.10344827586206896 | 0.008547008547008548 | 0.39436619718309857  | 0.16279069767441862 | 0.1600633914421553  | 0.23938223938223938 | 0.16831683168316833 | 0.15915915915915915 |\n",
            "+--------------+---------------------+---------------------+---------------------+---------------------+--------------+---------------------+---------------------+---------------------+--------------+----------------------+---------------------+---------------------+----------------------+---------------------+----------------------+----------------------+---------------------+---------------------+---------------------+---------------------+-----------------------+----------------------+---------------------+----------------------+----------------------+---------------------+---------------------+---------------------+---------------------+---------------------+\n",
            "| yearbuilt(2) | 0.28874734607218683 | 0.12727272727272726 | 0.07692307692307693 | 0.07142857142857142 | 0.0625       | 0.1949828962371722  | 0.14597315436241612 | 0.07142857142857142 | 0.09         | 0.11764705882352941  | 0.26057971014492753 | 0.2590210789567703  | 0.22998137802607077  | 0.17489421720733428 | 0.11125278928912974  | 0.11469933184855234  | 0.14591291061879297 | 0.1792452830188679  | 0.24394785847299813 | 0.21271008403361344 | 0.0029498525073746312 | 0.012861736334405145 | 0.10344827586206896 | 0.20512820512820512  | 0.028169014084507043 | 0.2703488372093023  | 0.24722662440570523 | 0.15057915057915058 | 0.16831683168316833 | 0.13513513513513514 |\n",
            "+--------------+---------------------+---------------------+---------------------+---------------------+--------------+---------------------+---------------------+---------------------+--------------+----------------------+---------------------+---------------------+----------------------+---------------------+----------------------+----------------------+---------------------+---------------------+---------------------+---------------------+-----------------------+----------------------+---------------------+----------------------+----------------------+---------------------+---------------------+---------------------+---------------------+---------------------+\n",
            "| yearbuilt(3) | 0.2229299363057325  | 0.10909090909090909 | 0.07692307692307693 | 0.14285714285714285 | 0.0625       | 0.1573546180159635  | 0.06208053691275168 | 0.09523809523809523 | 0.03         | 0.029411764705882353 | 0.3173913043478261  | 0.20918185066095035 | 0.18901303538175046  | 0.07757404795486601 | 0.06184252470513229  | 0.22717149220489977  | 0.22994652406417113 | 0.24528301886792453 | 0.2377405338299193  | 0.21533613445378152 | 0.09734513274336283   | 0.29260450160771706  | 0.06896551724137931 | 0.07692307692307693  | 0.14084507042253522  | 0.40406976744186046 | 0.37083993660855785 | 0.3436293436293436  | 0.16831683168316833 | 0.22822822822822822 |\n",
            "+--------------+---------------------+---------------------+---------------------+---------------------+--------------+---------------------+---------------------+---------------------+--------------+----------------------+---------------------+---------------------+----------------------+---------------------+----------------------+----------------------+---------------------+---------------------+---------------------+---------------------+-----------------------+----------------------+---------------------+----------------------+----------------------+---------------------+---------------------+---------------------+---------------------+---------------------+\n",
            "| yearbuilt(4) | 0.21443736730360935 | 0.03636363636363636 | 0.07692307692307693 | 0.07142857142857142 | 0.0625       | 0.29874572405929306 | 0.16275167785234898 | 0.11904761904761904 | 0.21         | 0.11764705882352941  | 0.20318840579710146 | 0.10539478385137549 | 0.048417132216014895 | 0.04760225669957687 | 0.025183296142811604 | 0.6269487750556793   | 0.5171886936592819  | 0.45754716981132076 | 0.3060211049037865  | 0.2778361344537815  | 0.8849557522123894    | 0.6077170418006431   | 0.6206896551724138  | 0.6410256410256411   | 0.28169014084507044  | 0.0377906976744186  | 0.03486529318541997 | 0.03861003861003861 | 0.06930693069306931 | 0.04804804804804805 |\n",
            "+--------------+---------------------+---------------------+---------------------+---------------------+--------------+---------------------+---------------------+---------------------+--------------+----------------------+---------------------+---------------------+----------------------+---------------------+----------------------+----------------------+---------------------+---------------------+---------------------+---------------------+-----------------------+----------------------+---------------------+----------------------+----------------------+---------------------+---------------------+---------------------+---------------------+---------------------+\n",
            "CPD of vio_rt:\n",
            "+-----------+----------------------+----------------------+---------------------+----------------------+----------------------+-----------------------+----------------------+-----------------------+----------------------+-----------------------+---------------------+---------------------+---------------------+---------------------+---------------------+---------------------+----------------------+---------------------+----------------------+----------------------+---------------------+----------------------+----------------------+----------------------+----------------------+-----------------------+-----------------------+----------------------+-----------------------+----------------------+\n",
            "| bldgclass | bldgclass(0)         | bldgclass(0)         | bldgclass(0)        | bldgclass(0)         | bldgclass(0)         | bldgclass(1)          | bldgclass(1)         | bldgclass(1)          | bldgclass(1)         | bldgclass(1)          | bldgclass(2)        | bldgclass(2)        | bldgclass(2)        | bldgclass(2)        | bldgclass(2)        | bldgclass(3)        | bldgclass(3)         | bldgclass(3)        | bldgclass(3)         | bldgclass(3)         | bldgclass(4)        | bldgclass(4)         | bldgclass(4)         | bldgclass(4)         | bldgclass(4)         | bldgclass(5)          | bldgclass(5)          | bldgclass(5)         | bldgclass(5)          | bldgclass(5)         |\n",
            "+-----------+----------------------+----------------------+---------------------+----------------------+----------------------+-----------------------+----------------------+-----------------------+----------------------+-----------------------+---------------------+---------------------+---------------------+---------------------+---------------------+---------------------+----------------------+---------------------+----------------------+----------------------+---------------------+----------------------+----------------------+----------------------+----------------------+-----------------------+-----------------------+----------------------+-----------------------+----------------------+\n",
            "| yearbuilt | yearbuilt(0)         | yearbuilt(1)         | yearbuilt(2)        | yearbuilt(3)         | yearbuilt(4)         | yearbuilt(0)          | yearbuilt(1)         | yearbuilt(2)          | yearbuilt(3)         | yearbuilt(4)          | yearbuilt(0)        | yearbuilt(1)        | yearbuilt(2)        | yearbuilt(3)        | yearbuilt(4)        | yearbuilt(0)        | yearbuilt(1)         | yearbuilt(2)        | yearbuilt(3)         | yearbuilt(4)         | yearbuilt(0)        | yearbuilt(1)         | yearbuilt(2)         | yearbuilt(3)         | yearbuilt(4)         | yearbuilt(0)          | yearbuilt(1)          | yearbuilt(2)         | yearbuilt(3)          | yearbuilt(4)         |\n",
            "+-----------+----------------------+----------------------+---------------------+----------------------+----------------------+-----------------------+----------------------+-----------------------+----------------------+-----------------------+---------------------+---------------------+---------------------+---------------------+---------------------+---------------------+----------------------+---------------------+----------------------+----------------------+---------------------+----------------------+----------------------+----------------------+----------------------+-----------------------+-----------------------+----------------------+-----------------------+----------------------+\n",
            "| vio_rt(0) | 0.6477272727272727   | 0.6403508771929824   | 0.7397260273972602  | 0.7391304347826086   | 0.6698113207547169   | 0.5428134556574924    | 0.5186813186813187   | 0.49887640449438203   | 0.5171339563862928   | 0.47465437788018433   | 0.20772217428817946 | 0.18166573504751257 | 0.22958442313281022 | 0.20291363163371487 | 0.23378291586384073 | 0.06561085972850679 | 0.058997050147492625 | 0.04280821917808219 | 0.028530670470756064 | 0.006921824104234527 | 0.06666666666666667 | 0.024390243902439025 | 0.029411764705882353 | 0.006896551724137931 | 0.011627906976744186 | 0.3399014778325123    | 0.35986159169550175   | 0.42857142857142855  | 0.42702702702702705   | 0.25                 |\n",
            "+-----------+----------------------+----------------------+---------------------+----------------------+----------------------+-----------------------+----------------------+-----------------------+----------------------+-----------------------+---------------------+---------------------+---------------------+---------------------+---------------------+---------------------+----------------------+---------------------+----------------------+----------------------+---------------------+----------------------+----------------------+----------------------+----------------------+-----------------------+-----------------------+----------------------+-----------------------+----------------------+\n",
            "| vio_rt(1) | 0.3181818181818182   | 0.3333333333333333   | 0.23972602739726026 | 0.1565217391304348   | 0.3018867924528302   | 0.2217125382262997    | 0.25274725274725274  | 0.27415730337078653   | 0.2897196261682243   | 0.3102918586789555    | 0.22993960310612596 | 0.24259362772498602 | 0.24905550712002325 | 0.22164412070759626 | 0.1926782273603083  | 0.18099547511312217 | 0.15634218289085547  | 0.17722602739726026 | 0.12054208273894436  | 0.035423452768729644 | 0.15555555555555556 | 0.2682926829268293   | 0.4117647058823529   | 0.034482758620689655 | 0.04983388704318937  | 0.2561576354679803    | 0.24567474048442905   | 0.28285714285714286  | 0.23243243243243245   | 0.3382352941176471   |\n",
            "+-----------+----------------------+----------------------+---------------------+----------------------+----------------------+-----------------------+----------------------+-----------------------+----------------------+-----------------------+---------------------+---------------------+---------------------+---------------------+---------------------+---------------------+----------------------+---------------------+----------------------+----------------------+---------------------+----------------------+----------------------+----------------------+----------------------+-----------------------+-----------------------+----------------------+-----------------------+----------------------+\n",
            "| vio_rt(2) | 0.011363636363636364 | 0.008771929824561403 | 0.00684931506849315 | 0.008695652173913044 | 0.009433962264150943 | 0.2324159021406728    | 0.22417582417582418  | 0.22247191011235956   | 0.18691588785046728  | 0.2119815668202765    | 0.24698015530629852 | 0.23169368362213527 | 0.22173786689915723 | 0.207769684356573   | 0.28901734104046245 | 0.21040723981900453 | 0.24041297935103245  | 0.2243150684931507  | 0.17902995720399428  | 0.0745114006514658   | 0.28888888888888886 | 0.2682926829268293   | 0.11764705882352941  | 0.006896551724137931 | 0.10631229235880399  | 0.2660098522167488    | 0.2422145328719723    | 0.17714285714285713  | 0.2126126126126126    | 0.25                 |\n",
            "+-----------+----------------------+----------------------+---------------------+----------------------+----------------------+-----------------------+----------------------+-----------------------+----------------------+-----------------------+---------------------+---------------------+---------------------+---------------------+---------------------+---------------------+----------------------+---------------------+----------------------+----------------------+---------------------+----------------------+----------------------+----------------------+----------------------+-----------------------+-----------------------+----------------------+-----------------------+----------------------+\n",
            "| vio_rt(3) | 0.011363636363636364 | 0.008771929824561403 | 0.00684931506849315 | 0.008695652173913044 | 0.009433962264150943 | 0.0015290519877675841 | 0.002197802197802198 | 0.0022471910112359553 | 0.003115264797507788 | 0.0015360983102918587 | 0.19542709232096636 | 0.20262716601453326 | 0.2002324905550712  | 0.18557058619493583 | 0.15028901734104047 | 0.27149321266968324 | 0.26253687315634217  | 0.2679794520547945  | 0.2553495007132668   | 0.23086319218241041  | 0.2222222222222222  | 0.17073170731707318  | 0.08823529411764706  | 0.16551724137931034  | 0.132890365448505    | 0.1354679802955665    | 0.14878892733564014   | 0.10857142857142857  | 0.12612612612612611   | 0.14705882352941177  |\n",
            "+-----------+----------------------+----------------------+---------------------+----------------------+----------------------+-----------------------+----------------------+-----------------------+----------------------+-----------------------+---------------------+---------------------+---------------------+---------------------+---------------------+---------------------+----------------------+---------------------+----------------------+----------------------+---------------------+----------------------+----------------------+----------------------+----------------------+-----------------------+-----------------------+----------------------+-----------------------+----------------------+\n",
            "| vio_rt(4) | 0.011363636363636364 | 0.008771929824561403 | 0.00684931506849315 | 0.08695652173913043  | 0.009433962264150943 | 0.0015290519877675841 | 0.002197802197802198 | 0.0022471910112359553 | 0.003115264797507788 | 0.0015360983102918587 | 0.11993097497842968 | 0.14141978759083287 | 0.0993897122929381  | 0.18210197710718    | 0.13423249839434812 | 0.27149321266968324 | 0.28171091445427726  | 0.2876712328767123  | 0.4165477888730385   | 0.6522801302931596   | 0.26666666666666666 | 0.2682926829268293   | 0.35294117647058826  | 0.7862068965517242   | 0.6993355481727574   | 0.0024630541871921183 | 0.0034602076124567475 | 0.002857142857142857 | 0.0018018018018018018 | 0.014705882352941176 |\n",
            "+-----------+----------------------+----------------------+---------------------+----------------------+----------------------+-----------------------+----------------------+-----------------------+----------------------+-----------------------+---------------------+---------------------+---------------------+---------------------+---------------------+---------------------+----------------------+---------------------+----------------------+----------------------+---------------------+----------------------+----------------------+----------------------+----------------------+-----------------------+-----------------------+----------------------+-----------------------+----------------------+\n",
            "CPD of unit_ratio:\n",
            "+---------------+----------------------+---------------------+---------------------+----------------------+----------------------+---------------------+---------------------+---------------------+---------------------+---------------------+---------------------+---------------------+----------------------+---------------------+---------------------+---------------------+---------------------+---------------------+----------------------+---------------------+---------------------+---------------------+----------------------+----------------------+---------------------+---------------------+---------------------+---------------------+---------------------+---------------------+\n",
            "| bldgclass     | bldgclass(0)         | bldgclass(0)        | bldgclass(0)        | bldgclass(0)         | bldgclass(0)         | bldgclass(1)        | bldgclass(1)        | bldgclass(1)        | bldgclass(1)        | bldgclass(1)        | bldgclass(2)        | bldgclass(2)        | bldgclass(2)         | bldgclass(2)        | bldgclass(2)        | bldgclass(3)        | bldgclass(3)        | bldgclass(3)        | bldgclass(3)         | bldgclass(3)        | bldgclass(4)        | bldgclass(4)        | bldgclass(4)         | bldgclass(4)         | bldgclass(4)        | bldgclass(5)        | bldgclass(5)        | bldgclass(5)        | bldgclass(5)        | bldgclass(5)        |\n",
            "+---------------+----------------------+---------------------+---------------------+----------------------+----------------------+---------------------+---------------------+---------------------+---------------------+---------------------+---------------------+---------------------+----------------------+---------------------+---------------------+---------------------+---------------------+---------------------+----------------------+---------------------+---------------------+---------------------+----------------------+----------------------+---------------------+---------------------+---------------------+---------------------+---------------------+---------------------+\n",
            "| yearbuilt     | yearbuilt(0)         | yearbuilt(1)        | yearbuilt(2)        | yearbuilt(3)         | yearbuilt(4)         | yearbuilt(0)        | yearbuilt(1)        | yearbuilt(2)        | yearbuilt(3)        | yearbuilt(4)        | yearbuilt(0)        | yearbuilt(1)        | yearbuilt(2)         | yearbuilt(3)        | yearbuilt(4)        | yearbuilt(0)        | yearbuilt(1)        | yearbuilt(2)        | yearbuilt(3)         | yearbuilt(4)        | yearbuilt(0)        | yearbuilt(1)        | yearbuilt(2)         | yearbuilt(3)         | yearbuilt(4)        | yearbuilt(0)        | yearbuilt(1)        | yearbuilt(2)        | yearbuilt(3)        | yearbuilt(4)        |\n",
            "+---------------+----------------------+---------------------+---------------------+----------------------+----------------------+---------------------+---------------------+---------------------+---------------------+---------------------+---------------------+---------------------+----------------------+---------------------+---------------------+---------------------+---------------------+---------------------+----------------------+---------------------+---------------------+---------------------+----------------------+----------------------+---------------------+---------------------+---------------------+---------------------+---------------------+---------------------+\n",
            "| unit_ratio(0) | 0.03409090909090909  | 0.05263157894736842 | 0.0136986301369863  | 0.11304347826086956  | 0.009433962264150943 | 0.11009174311926606 | 0.14945054945054945 | 0.16179775280898875 | 0.3613707165109034  | 0.12442396313364056 | 0.42795513373597927 | 0.2680268306316378  | 0.22406277244986922  | 0.2098508498092265  | 0.12909441233140656 | 0.22850678733031674 | 0.11946902654867257 | 0.07876712328767123 | 0.028530670470756064 | 0.09324104234527687 | 0.26666666666666666 | 0.12195121951219512 | 0.11764705882352941  | 0.04827586206896552  | 0.0664451827242525  | 0.2315270935960591  | 0.1972318339100346  | 0.3057142857142857  | 0.3207207207207207  | 0.25                |\n",
            "+---------------+----------------------+---------------------+---------------------+----------------------+----------------------+---------------------+---------------------+---------------------+---------------------+---------------------+---------------------+---------------------+----------------------+---------------------+---------------------+---------------------+---------------------+---------------------+----------------------+---------------------+---------------------+---------------------+----------------------+----------------------+---------------------+---------------------+---------------------+---------------------+---------------------+---------------------+\n",
            "| unit_ratio(1) | 0.045454545454545456 | 0.07894736842105263 | 0.0410958904109589  | 0.017391304347826087 | 0.009433962264150943 | 0.1452599388379205  | 0.2021978021978022  | 0.17752808988764046 | 0.14953271028037382 | 0.07219662058371736 | 0.17730802415875754 | 0.2537730575740637  | 0.3092124382446963   | 0.3305584460631287  | 0.15093127809890816 | 0.10180995475113122 | 0.12536873156342182 | 0.11386986301369863 | 0.15977175463623394  | 0.11644951140065146 | 0.08888888888888889 | 0.12195121951219512 | 0.29411764705882354  | 0.8413793103448276   | 0.14285714285714285 | 0.15763546798029557 | 0.18685121107266436 | 0.19142857142857142 | 0.19099099099099098 | 0.23529411764705882 |\n",
            "+---------------+----------------------+---------------------+---------------------+----------------------+----------------------+---------------------+---------------------+---------------------+---------------------+---------------------+---------------------+---------------------+----------------------+---------------------+---------------------+---------------------+---------------------+---------------------+----------------------+---------------------+---------------------+---------------------+----------------------+----------------------+---------------------+---------------------+---------------------+---------------------+---------------------+---------------------+\n",
            "| unit_ratio(2) | 0.056818181818181816 | 0.05263157894736842 | 0.0410958904109589  | 0.10434782608695652  | 0.03773584905660377  | 0.14220183486238533 | 0.16263736263736264 | 0.11685393258426967 | 0.19314641744548286 | 0.14285714285714285 | 0.15811044003451252 | 0.23812185578535494 | 0.2772449869224063   | 0.23031564342698577 | 0.17726396917148363 | 0.1334841628959276  | 0.19321533923303835 | 0.24143835616438356 | 0.1890156918687589   | 0.21213355048859936 | 0.17777777777777778 | 0.1951219512195122  | 0.4411764705882353   | 0.04827586206896552  | 0.17940199335548174 | 0.14532019704433496 | 0.16262975778546712 | 0.12571428571428572 | 0.12972972972972974 | 0.10294117647058823 |\n",
            "+---------------+----------------------+---------------------+---------------------+----------------------+----------------------+---------------------+---------------------+---------------------+---------------------+---------------------+---------------------+---------------------+----------------------+---------------------+---------------------+---------------------+---------------------+---------------------+----------------------+---------------------+---------------------+---------------------+----------------------+----------------------+---------------------+---------------------+---------------------+---------------------+---------------------+---------------------+\n",
            "| unit_ratio(3) | 0.056818181818181816 | 0.16666666666666666 | 0.07534246575342465 | 0.19130434782608696  | 0.2169811320754717   | 0.3058103975535168  | 0.1912087912087912  | 0.23820224719101124 | 0.1308411214953271  | 0.2411674347158218  | 0.12899050905953408 | 0.15176076020122975 | 0.12728857890148212  | 0.15019077349982657 | 0.31856133590237634 | 0.2420814479638009  | 0.23008849557522124 | 0.3261986301369863  | 0.37660485021398005  | 0.3473127035830619  | 0.1111111111111111  | 0.12195121951219512 | 0.058823529411764705 | 0.034482758620689655 | 0.2956810631229236  | 0.20935960591133004 | 0.17993079584775087 | 0.15428571428571428 | 0.13693693693693693 | 0.25                |\n",
            "+---------------+----------------------+---------------------+---------------------+----------------------+----------------------+---------------------+---------------------+---------------------+---------------------+---------------------+---------------------+---------------------+----------------------+---------------------+---------------------+---------------------+---------------------+---------------------+----------------------+---------------------+---------------------+---------------------+----------------------+----------------------+---------------------+---------------------+---------------------+---------------------+---------------------+---------------------+\n",
            "| unit_ratio(4) | 0.8068181818181818   | 0.6491228070175439  | 0.8287671232876712  | 0.5739130434782609   | 0.7264150943396226   | 0.2966360856269113  | 0.2945054945054945  | 0.3056179775280899  | 0.16510903426791276 | 0.41935483870967744 | 0.10763589301121657 | 0.08831749580771381 | 0.062191223481546064 | 0.07908428720083246 | 0.2241490044958253  | 0.29411764705882354 | 0.33185840707964603 | 0.23972602739726026 | 0.24607703281027105  | 0.23086319218241041 | 0.35555555555555557 | 0.43902439024390244 | 0.08823529411764706  | 0.027586206896551724 | 0.31561461794019935 | 0.2561576354679803  | 0.27335640138408307 | 0.22285714285714286 | 0.22162162162162163 | 0.16176470588235295 |\n",
            "+---------------+----------------------+---------------------+---------------------+----------------------+----------------------+---------------------+---------------------+---------------------+---------------------+---------------------+---------------------+---------------------+----------------------+---------------------+---------------------+---------------------+---------------------+---------------------+----------------------+---------------------+---------------------+---------------------+----------------------+----------------------+---------------------+---------------------+---------------------+---------------------+---------------------+---------------------+\n",
            "CPD of landuse:\n",
            "+------------+---------------------+---------------------+---------------------+----------------------+----------------------+\n",
            "| residfar   | residfar(0)         | residfar(1)         | residfar(2)         | residfar(3)          | residfar(4)          |\n",
            "+------------+---------------------+---------------------+---------------------+----------------------+----------------------+\n",
            "| landuse(0) | 0.30650069156293225 | 0.07576115175831957 | 0.02534435261707989 | 0.022091310751104567 | 0.007496800146279028 |\n",
            "+------------+---------------------+---------------------+---------------------+----------------------+----------------------+\n",
            "| landuse(1) | 0.4955739972337483  | 0.6210762331838565  | 0.4887052341597796  | 0.4411950347149169   | 0.36588041689522766  |\n",
            "+------------+---------------------+---------------------+---------------------+----------------------+----------------------+\n",
            "| landuse(2) | 0.11867219917012448 | 0.14774604673117772 | 0.209366391184573   | 0.25457605722701454  | 0.26403364417626624  |\n",
            "+------------+---------------------+---------------------+---------------------+----------------------+----------------------+\n",
            "| landuse(3) | 0.07925311203319502 | 0.15541656832664622 | 0.27658402203856747 | 0.282137597306964    | 0.3625891387822271   |\n",
            "+------------+---------------------+---------------------+---------------------+----------------------+----------------------+\n",
            "(vio_rt _|_ residfar, unit_ratio, subsidies_flag, landuse | yearbuilt, bldgclass)\n",
            "{'bldgclass': set(['bldgclass', 'subsidies_flag', 'residfar', 'yearbuilt', 'vio_rt', 'unit_ratio', 'landuse'])}\n",
            "{'subsidies_flag': set(['bldgclass', 'subsidies_flag', 'residfar', 'yearbuilt', 'vio_rt', 'unit_ratio', 'landuse'])}\n",
            "{'residfar': set(['bldgclass', 'subsidies_flag', 'residfar', 'yearbuilt', 'vio_rt', 'unit_ratio', 'landuse'])}\n",
            "{'yearbuilt': set(['bldgclass', 'subsidies_flag', 'residfar', 'yearbuilt', 'vio_rt', 'unit_ratio', 'landuse'])}\n",
            "{'vio_rt': set(['bldgclass', 'subsidies_flag', 'residfar', 'yearbuilt', 'vio_rt', 'unit_ratio', 'landuse'])}\n",
            "{'unit_ratio': set(['bldgclass', 'subsidies_flag', 'residfar', 'yearbuilt', 'vio_rt', 'unit_ratio', 'landuse'])}\n",
            "{'landuse': set(['bldgclass', 'subsidies_flag', 'residfar', 'yearbuilt', 'vio_rt', 'unit_ratio', 'landuse'])}\n"
          ],
          "name": "stdout"
        }
      ]
    }
  ]
}