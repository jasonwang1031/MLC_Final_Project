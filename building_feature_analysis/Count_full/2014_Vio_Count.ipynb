{
  "nbformat": 4,
  "nbformat_minor": 0,
  "metadata": {
    "colab": {
      "name": "2014_Vio_Count.ipynb",
      "version": "0.3.2",
      "provenance": [],
      "collapsed_sections": []
    },
    "kernelspec": {
      "name": "python2",
      "display_name": "Python 2"
    }
  },
  "cells": [
    {
      "cell_type": "code",
      "metadata": {
        "id": "maDxXMADfiDP",
        "colab_type": "code",
        "outputId": "8853724c-347d-4761-a371-311e97b0ffe8",
        "colab": {
          "resources": {
            "http://localhost:8080/nbextensions/google.colab/files.js": {
              "data": "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",
              "ok": true,
              "headers": [
                [
                  "content-type",
                  "application/javascript"
                ]
              ],
              "status": 200,
              "status_text": ""
            }
          },
          "base_uri": "https://localhost:8080/",
          "height": 73
        }
      },
      "source": [
        "import numpy as np\n",
        "import pandas as pd\n",
        "\n",
        "from google.colab import files\n",
        "uploaded = files.upload()"
      ],
      "execution_count": 0,
      "outputs": [
        {
          "output_type": "display_data",
          "data": {
            "text/plain": [
              "<IPython.core.display.HTML object>"
            ],
            "text/html": [
              "\n",
              "     <input type=\"file\" id=\"files-4562052a-2bc2-4d1b-bd0e-81afe1f5a512\" name=\"files[]\" multiple disabled />\n",
              "     <output id=\"result-4562052a-2bc2-4d1b-bd0e-81afe1f5a512\">\n",
              "      Upload widget is only available when the cell has been executed in the\n",
              "      current browser session. Please rerun this cell to enable.\n",
              "      </output>\n",
              "      <script src=\"/nbextensions/google.colab/files.js\"></script> "
            ]
          },
          "metadata": {
            "tags": []
          }
        },
        {
          "output_type": "stream",
          "text": [
            "Saving data14smaller_3_2.csv to data14smaller_3_2.csv\n"
          ],
          "name": "stdout"
        }
      ]
    },
    {
      "cell_type": "code",
      "metadata": {
        "id": "Iu068N1KgOmh",
        "colab_type": "code",
        "outputId": "eee52141-de48-4003-a37b-40ace57da1e1",
        "colab": {
          "base_uri": "https://localhost:8080/",
          "height": 51
        }
      },
      "source": [
        "!unzip \"data16smaller_1.csv.zip\""
      ],
      "execution_count": 0,
      "outputs": [
        {
          "output_type": "stream",
          "text": [
            "Archive:  data18smaller_1.csv.zip\n",
            "  inflating: data18smaller_1.csv     \n"
          ],
          "name": "stdout"
        }
      ]
    },
    {
      "cell_type": "code",
      "metadata": {
        "id": "G54IzR7LgT6G",
        "colab_type": "code",
        "colab": {}
      },
      "source": [
        "data16smaller = pd.read_csv(\"data14smaller_3_2.csv\", low_memory = False, dtype = {'subsidies_flag':\"int64\"})\n",
        "data16smaller.head()"
      ],
      "execution_count": 0,
      "outputs": []
    },
    {
      "cell_type": "code",
      "metadata": {
        "id": "xnzsTU5ShUvj",
        "colab_type": "code",
        "outputId": "7bc8d94b-d887-4e89-f3f7-5deb637d6c42",
        "colab": {
          "base_uri": "https://localhost:8080/",
          "height": 329
        }
      },
      "source": [
        "!pip install pgmpy==0.1.7\n",
        "from pgmpy.estimators import HillClimbSearch, BicScore, BayesianEstimator\n",
        "from pgmpy.models import BayesianModel\n",
        "from sklearn.model_selection import train_test_split\n",
        "from pgmpy.inference import VariableElimination"
      ],
      "execution_count": 0,
      "outputs": [
        {
          "output_type": "stream",
          "text": [
            "Collecting pgmpy==0.1.7\n",
            "\u001b[?25l  Downloading https://files.pythonhosted.org/packages/98/dc/2cde83edf1e3b52407c9a106446708c31b0380bb832d3e472c853f3dd069/pgmpy-0.1.7.tar.gz (219kB)\n",
            "\u001b[K     |████████████████████████████████| 225kB 2.9MB/s \n",
            "\u001b[?25hCollecting networkx<1.12,>=1.11 (from pgmpy==0.1.7)\n",
            "\u001b[?25l  Downloading https://files.pythonhosted.org/packages/d3/2c/e473e54afc9fae58dfa97066ef6709a7e35a1dd1c28c5a3842989322be00/networkx-1.11-py2.py3-none-any.whl (1.3MB)\n",
            "\u001b[K     |████████████████████████████████| 1.3MB 43.7MB/s \n",
            "\u001b[?25hRequirement already satisfied: scipy>=1.0.0 in /usr/local/lib/python2.7/dist-packages (from pgmpy==0.1.7) (1.2.1)\n",
            "Requirement already satisfied: numpy>=1.14.0 in /usr/local/lib/python2.7/dist-packages (from pgmpy==0.1.7) (1.16.3)\n",
            "Requirement already satisfied: decorator>=3.4.0 in /usr/local/lib/python2.7/dist-packages (from networkx<1.12,>=1.11->pgmpy==0.1.7) (4.4.0)\n",
            "Building wheels for collected packages: pgmpy\n",
            "  Building wheel for pgmpy (setup.py) ... \u001b[?25l\u001b[?25hdone\n",
            "  Stored in directory: /root/.cache/pip/wheels/27/d5/45/f9bd7e0f7d3752b706163ce2a0333d29855828c3e57a003640\n",
            "Successfully built pgmpy\n",
            "Installing collected packages: networkx, pgmpy\n",
            "  Found existing installation: networkx 2.2\n",
            "    Uninstalling networkx-2.2:\n",
            "      Successfully uninstalled networkx-2.2\n",
            "Successfully installed networkx-1.11 pgmpy-0.1.7\n"
          ],
          "name": "stdout"
        }
      ]
    },
    {
      "cell_type": "code",
      "metadata": {
        "id": "wym8MrPPiiu0",
        "colab_type": "code",
        "colab": {}
      },
      "source": [
        "from collections import defaultdict\n",
        "from pgmpy.inference import VariableElimination\n",
        "def temp_predict(model,data):\n",
        "    missing_variables = list(set(model.nodes()) - set(data.columns))\n",
        "    pred_values = defaultdict(list)\n",
        "    model_inference = VariableElimination(model)\n",
        "    for index, data_point in data.iterrows():\n",
        "        states_dict = model_inference.map_query(variables=missing_variables, evidence=data_point.astype(int).to_dict())\n",
        "        for k, v in states_dict.items():\n",
        "            pred_values[k].append(v)\n",
        "    return pd.DataFrame(pred_values, index=data.index)"
      ],
      "execution_count": 0,
      "outputs": []
    },
    {
      "cell_type": "code",
      "metadata": {
        "id": "ka5rRPa6hELy",
        "colab_type": "code",
        "outputId": "556217ef-e658-4d11-a463-81d119b1c8d8",
        "colab": {
          "base_uri": "https://localhost:8080/",
          "height": 53
        }
      },
      "source": [
        "data16train, data16test = train_test_split(data16smaller,random_state=9,test_size=0.2)\n",
        "hc = HillClimbSearch(data16train, scoring_method=BicScore(data16train))\n",
        "best_model = hc.estimate()\n",
        "print(best_model.edges())"
      ],
      "execution_count": 0,
      "outputs": [
        {
          "output_type": "stream",
          "text": [
            "[('bldgclass', 'unit_ratio'), ('bldgclass', 'violations'), ('bldgclass', 'yearbuilt'), ('bldgclass', 'subsidies_flag'), ('residfar', 'subsidies_flag'), ('residfar', 'landuse'), ('residfar', 'yearbuilt'), ('residfar', 'bldgclass'), ('yearbuilt', 'unit_ratio'), ('yearbuilt', 'violations'), ('landuse', 'bldgclass')]\n"
          ],
          "name": "stdout"
        }
      ]
    },
    {
      "cell_type": "code",
      "metadata": {
        "id": "sSLa-jBBbSLs",
        "colab_type": "code",
        "outputId": "b8f65eb5-87c8-4f6a-a237-02e1a47e971e",
        "colab": {
          "base_uri": "https://localhost:8080/",
          "height": 1727
        }
      },
      "source": [
        "best_model.fit(data16train, estimator=BayesianEstimator, prior_type='K2')\n",
        "\n",
        "for cpd in best_model.get_cpds():\n",
        "    print(\"CPD of {variable}:\".format(variable=cpd.variable))\n",
        "    print(cpd)\n",
        "    \n",
        "print best_model.local_independencies('violations')\n",
        "\n",
        "for thenode in best_model.nodes():\n",
        "    print best_model.active_trail_nodes(thenode)"
      ],
      "execution_count": 0,
      "outputs": [
        {
          "output_type": "stream",
          "text": [
            "CPD of bldgclass:\n",
            "+--------------+-----------------------+-----------------------+----------------------+-------------+---------------------+------------------------+------------------------+----------------------+-----------------------+----------------------+-----------------------+-----------------------+----------------------+-----------------------+-----------------------+-----------------------+-----------------------+----------------------+-----------------------+-----------------------+\n",
            "| landuse      | landuse(0)            | landuse(0)            | landuse(0)           | landuse(0)  | landuse(0)          | landuse(1)             | landuse(1)             | landuse(1)           | landuse(1)            | landuse(1)           | landuse(2)            | landuse(2)            | landuse(2)           | landuse(2)            | landuse(2)            | landuse(3)            | landuse(3)            | landuse(3)           | landuse(3)            | landuse(3)            |\n",
            "+--------------+-----------------------+-----------------------+----------------------+-------------+---------------------+------------------------+------------------------+----------------------+-----------------------+----------------------+-----------------------+-----------------------+----------------------+-----------------------+-----------------------+-----------------------+-----------------------+----------------------+-----------------------+-----------------------+\n",
            "| residfar     | residfar(0)           | residfar(1)           | residfar(2)          | residfar(3) | residfar(4)         | residfar(0)            | residfar(1)            | residfar(2)          | residfar(3)           | residfar(4)          | residfar(0)           | residfar(1)           | residfar(2)          | residfar(3)           | residfar(4)           | residfar(0)           | residfar(1)           | residfar(2)          | residfar(3)           | residfar(4)           |\n",
            "+--------------+-----------------------+-----------------------+----------------------+-------------+---------------------+------------------------+------------------------+----------------------+-----------------------+----------------------+-----------------------+-----------------------+----------------------+-----------------------+-----------------------+-----------------------+-----------------------+----------------------+-----------------------+-----------------------+\n",
            "| bldgclass(0) | 0.20549199084668193   | 0.08857142857142856   | 0.17307692307692307  | 0.104       | 0.16216216216216217 | 0.00027344818156959256 | 0.00017911517105498835 | 0.001053740779768177 | 0.0005063291139240507 | 0.000554016620498615 | 0.0014204545454545455 | 0.0008333333333333334 | 0.003115264797507788 | 0.0008620689655172414 | 0.0007621951219512195 | 0.0017921146953405018 | 0.0008045052292839903 | 0.002053388090349076 | 0.0008230452674897119 | 0.0005834305717619603 |\n",
            "+--------------+-----------------------+-----------------------+----------------------+-------------+---------------------+------------------------+------------------------+----------------------+-----------------------+----------------------+-----------------------+-----------------------+----------------------+-----------------------+-----------------------+-----------------------+-----------------------+----------------------+-----------------------+-----------------------+\n",
            "| bldgclass(1) | 0.7926773455377575    | 0.9057142857142857    | 0.75                 | 0.864       | 0.7297297297297297  | 0.00027344818156959256 | 0.00017911517105498835 | 0.001053740779768177 | 0.0005063291139240507 | 0.000554016620498615 | 0.0014204545454545455 | 0.0008333333333333334 | 0.003115264797507788 | 0.0008620689655172414 | 0.0007621951219512195 | 0.0017921146953405018 | 0.0008045052292839903 | 0.002053388090349076 | 0.0008230452674897119 | 0.0005834305717619603 |\n",
            "+--------------+-----------------------+-----------------------+----------------------+-------------+---------------------+------------------------+------------------------+----------------------+-----------------------+----------------------+-----------------------+-----------------------+----------------------+-----------------------+-----------------------+-----------------------+-----------------------+----------------------+-----------------------+-----------------------+\n",
            "| bldgclass(2) | 0.0004576659038901602 | 0.0014285714285714286 | 0.019230769230769232 | 0.008       | 0.02702702702702703 | 0.9220672682526662     | 0.9614902382231775     | 0.9831401475237092   | 0.949873417721519     | 0.9811634349030471   | 0.0014204545454545455 | 0.0008333333333333334 | 0.003115264797507788 | 0.0008620689655172414 | 0.0007621951219512195 | 0.3100358422939068    | 0.4022526146419952    | 0.3593429158110883   | 0.5983539094650205    | 0.5781796966161027    |\n",
            "+--------------+-----------------------+-----------------------+----------------------+-------------+---------------------+------------------------+------------------------+----------------------+-----------------------+----------------------+-----------------------+-----------------------+----------------------+-----------------------+-----------------------+-----------------------+-----------------------+----------------------+-----------------------+-----------------------+\n",
            "| bldgclass(3) | 0.0004576659038901602 | 0.0014285714285714286 | 0.019230769230769232 | 0.008       | 0.02702702702702703 | 0.00027344818156959256 | 0.00017911517105498835 | 0.001053740779768177 | 0.0005063291139240507 | 0.000554016620498615 | 0.9616477272727273    | 0.9141666666666667    | 0.9439252336448598   | 0.9698275862068966    | 0.9748475609756098    | 0.08422939068100359   | 0.10217216411906678   | 0.11088295687885011  | 0.3226337448559671    | 0.2427071178529755    |\n",
            "+--------------+-----------------------+-----------------------+----------------------+-------------+---------------------+------------------------+------------------------+----------------------+-----------------------+----------------------+-----------------------+-----------------------+----------------------+-----------------------+-----------------------+-----------------------+-----------------------+----------------------+-----------------------+-----------------------+\n",
            "| bldgclass(4) | 0.0004576659038901602 | 0.0014285714285714286 | 0.019230769230769232 | 0.008       | 0.02702702702702703 | 0.07683893902105551    | 0.037793301092602545   | 0.012644889357218124 | 0.04810126582278481   | 0.01662049861495845  | 0.032670454545454544  | 0.0825                | 0.04361370716510903  | 0.026724137931034484  | 0.022103658536585365  | 0.0017921146953405018 | 0.002413515687851971  | 0.002053388090349076 | 0.0024691358024691358 | 0.002333722287047841  |\n",
            "+--------------+-----------------------+-----------------------+----------------------+-------------+---------------------+------------------------+------------------------+----------------------+-----------------------+----------------------+-----------------------+-----------------------+----------------------+-----------------------+-----------------------+-----------------------+-----------------------+----------------------+-----------------------+-----------------------+\n",
            "| bldgclass(5) | 0.0004576659038901602 | 0.0014285714285714286 | 0.019230769230769232 | 0.008       | 0.02702702702702703 | 0.00027344818156959256 | 0.00017911517105498835 | 0.001053740779768177 | 0.0005063291139240507 | 0.000554016620498615 | 0.0014204545454545455 | 0.0008333333333333334 | 0.003115264797507788 | 0.0008620689655172414 | 0.0007621951219512195 | 0.600358422939068     | 0.4915526950925181    | 0.5236139630390144   | 0.07489711934156379   | 0.17561260210035007   |\n",
            "+--------------+-----------------------+-----------------------+----------------------+-------------+---------------------+------------------------+------------------------+----------------------+-----------------------+----------------------+-----------------------+-----------------------+----------------------+-----------------------+-----------------------+-----------------------+-----------------------+----------------------+-----------------------+-----------------------+\n",
            "CPD of subsidies_flag:\n",
            "+-------------------+-----------------------+----------------------+--------------+---------------------+---------------------+-----------------------+-----------------------+--------------+----------------------+---------------------+----------------------+---------------------+---------------------+---------------------+---------------------+---------------------+---------------------+---------------------+--------------------+---------------------+---------------------+---------------------+--------------------+--------------+--------------------+----------------------+----------------------+--------------+----------------------+----------------------+\n",
            "| bldgclass         | bldgclass(0)          | bldgclass(0)         | bldgclass(0) | bldgclass(0)        | bldgclass(0)        | bldgclass(1)          | bldgclass(1)          | bldgclass(1) | bldgclass(1)         | bldgclass(1)        | bldgclass(2)         | bldgclass(2)        | bldgclass(2)        | bldgclass(2)        | bldgclass(2)        | bldgclass(3)        | bldgclass(3)        | bldgclass(3)        | bldgclass(3)       | bldgclass(3)        | bldgclass(4)        | bldgclass(4)        | bldgclass(4)       | bldgclass(4) | bldgclass(4)       | bldgclass(5)         | bldgclass(5)         | bldgclass(5) | bldgclass(5)         | bldgclass(5)         |\n",
            "+-------------------+-----------------------+----------------------+--------------+---------------------+---------------------+-----------------------+-----------------------+--------------+----------------------+---------------------+----------------------+---------------------+---------------------+---------------------+---------------------+---------------------+---------------------+---------------------+--------------------+---------------------+---------------------+---------------------+--------------------+--------------+--------------------+----------------------+----------------------+--------------+----------------------+----------------------+\n",
            "| residfar          | residfar(0)           | residfar(1)          | residfar(2)  | residfar(3)         | residfar(4)         | residfar(0)           | residfar(1)           | residfar(2)  | residfar(3)          | residfar(4)         | residfar(0)          | residfar(1)         | residfar(2)         | residfar(3)         | residfar(4)         | residfar(0)         | residfar(1)         | residfar(2)         | residfar(3)        | residfar(4)         | residfar(0)         | residfar(1)         | residfar(2)        | residfar(3)  | residfar(4)        | residfar(0)          | residfar(1)          | residfar(2)  | residfar(3)          | residfar(4)          |\n",
            "+-------------------+-----------------------+----------------------+--------------+---------------------+---------------------+-----------------------+-----------------------+--------------+----------------------+---------------------+----------------------+---------------------+---------------------+---------------------+---------------------+---------------------+---------------------+---------------------+--------------------+---------------------+---------------------+---------------------+--------------------+--------------+--------------------+----------------------+----------------------+--------------+----------------------+----------------------+\n",
            "| subsidies_flag(0) | 0.9977777777777778    | 0.9841269841269841   | 0.9          | 0.9285714285714286  | 0.8571428571428571  | 0.9994229659549914    | 0.9984251968503937    | 0.975        | 0.9908256880733946   | 0.9642857142857143  | 0.9605077574047954   | 0.9013292433537833  | 0.8898916967509025  | 0.8036880522474068  | 0.8769007965242578  | 0.8825966850828729  | 0.7785947712418301  | 0.834733893557423   | 0.7112722478576137 | 0.8442477876106195  | 0.9638157894736842  | 0.8076923076923077  | 0.4230769230769231 | 0.8125       | 0.9032258064516129 | 0.9940476190476191   | 0.9787581699346405   | 0.95703125   | 0.9565217391304348   | 0.9801324503311258   |\n",
            "+-------------------+-----------------------+----------------------+--------------+---------------------+---------------------+-----------------------+-----------------------+--------------+----------------------+---------------------+----------------------+---------------------+---------------------+---------------------+---------------------+---------------------+---------------------+---------------------+--------------------+---------------------+---------------------+---------------------+--------------------+--------------+--------------------+----------------------+----------------------+--------------+----------------------+----------------------+\n",
            "| subsidies_flag(1) | 0.0022222222222222222 | 0.015873015873015872 | 0.1          | 0.07142857142857142 | 0.14285714285714285 | 0.0005770340450086555 | 0.0015748031496062992 | 0.025        | 0.009174311926605505 | 0.03571428571428571 | 0.039492242595204514 | 0.09867075664621677 | 0.11010830324909747 | 0.19631194775259317 | 0.12309920347574221 | 0.11740331491712708 | 0.22140522875816993 | 0.16526610644257703 | 0.2887277521423863 | 0.15575221238938053 | 0.03618421052631579 | 0.19230769230769232 | 0.5769230769230769 | 0.1875       | 0.0967741935483871 | 0.005952380952380952 | 0.021241830065359478 | 0.04296875   | 0.043478260869565216 | 0.019867549668874173 |\n",
            "+-------------------+-----------------------+----------------------+--------------+---------------------+---------------------+-----------------------+-----------------------+--------------+----------------------+---------------------+----------------------+---------------------+---------------------+---------------------+---------------------+---------------------+---------------------+---------------------+--------------------+---------------------+---------------------+---------------------+--------------------+--------------+--------------------+----------------------+----------------------+--------------+----------------------+----------------------+\n",
            "CPD of residfar:\n",
            "+-------------+-----------+\n",
            "| residfar(0) | 0.263558  |\n",
            "+-------------+-----------+\n",
            "| residfar(1) | 0.323929  |\n",
            "+-------------+-----------+\n",
            "| residfar(2) | 0.0664756 |\n",
            "+-------------+-----------+\n",
            "| residfar(3) | 0.165705  |\n",
            "+-------------+-----------+\n",
            "| residfar(4) | 0.180333  |\n",
            "+-------------+-----------+\n",
            "CPD of yearbuilt:\n",
            "+--------------+---------------------+---------------------+---------------------+---------------------+--------------+---------------------+---------------------+----------------------+---------------------+---------------------+---------------------+---------------------+----------------------+---------------------+----------------------+----------------------+---------------------+----------------------+---------------------+---------------------+----------------------+----------------------+----------------------+----------------------+---------------------+---------------------+---------------------+---------------------+----------------------+---------------------+\n",
            "| bldgclass    | bldgclass(0)        | bldgclass(0)        | bldgclass(0)        | bldgclass(0)        | bldgclass(0) | bldgclass(1)        | bldgclass(1)        | bldgclass(1)         | bldgclass(1)        | bldgclass(1)        | bldgclass(2)        | bldgclass(2)        | bldgclass(2)         | bldgclass(2)        | bldgclass(2)         | bldgclass(3)         | bldgclass(3)        | bldgclass(3)         | bldgclass(3)        | bldgclass(3)        | bldgclass(4)         | bldgclass(4)         | bldgclass(4)         | bldgclass(4)         | bldgclass(4)        | bldgclass(5)        | bldgclass(5)        | bldgclass(5)        | bldgclass(5)         | bldgclass(5)        |\n",
            "+--------------+---------------------+---------------------+---------------------+---------------------+--------------+---------------------+---------------------+----------------------+---------------------+---------------------+---------------------+---------------------+----------------------+---------------------+----------------------+----------------------+---------------------+----------------------+---------------------+---------------------+----------------------+----------------------+----------------------+----------------------+---------------------+---------------------+---------------------+---------------------+----------------------+---------------------+\n",
            "| residfar     | residfar(0)         | residfar(1)         | residfar(2)         | residfar(3)         | residfar(4)  | residfar(0)         | residfar(1)         | residfar(2)          | residfar(3)         | residfar(4)         | residfar(0)         | residfar(1)         | residfar(2)          | residfar(3)         | residfar(4)          | residfar(0)          | residfar(1)         | residfar(2)          | residfar(3)         | residfar(4)         | residfar(0)          | residfar(1)          | residfar(2)          | residfar(3)          | residfar(4)         | residfar(0)         | residfar(1)         | residfar(2)         | residfar(3)          | residfar(4)         |\n",
            "+--------------+---------------------+---------------------+---------------------+---------------------+--------------+---------------------+---------------------+----------------------+---------------------+---------------------+---------------------+---------------------+----------------------+---------------------+----------------------+----------------------+---------------------+----------------------+---------------------+---------------------+----------------------+----------------------+----------------------+----------------------+---------------------+---------------------+---------------------+---------------------+----------------------+---------------------+\n",
            "| yearbuilt(0) | 0.07947019867549669 | 0.4090909090909091  | 0.46153846153846156 | 0.4117647058823529  | 0.6          | 0.18721198156682028 | 0.47492163009404387 | 0.37209302325581395  | 0.5625              | 0.5806451612903226  | 0.092728297632469   | 0.24220746039856925 | 0.29792979297929795  | 0.3626247122026094  | 0.48535262206148283  | 0.009628610729023384 | 0.03830480847595762 | 0.030555555555555555 | 0.07236842105263158 | 0.11307420494699646 | 0.003257328990228013 | 0.06349206349206349  | 0.10344827586206896  | 0.030534351145038167 | 0.13846153846153847 | 0.11799410029498525 | 0.17886178861788618 | 0.22007722007722008 | 0.3684210526315789   | 0.4459016393442623  |\n",
            "+--------------+---------------------+---------------------+---------------------+---------------------+--------------+---------------------+---------------------+----------------------+---------------------+---------------------+---------------------+---------------------+----------------------+---------------------+----------------------+----------------------+---------------------+----------------------+---------------------+---------------------+----------------------+----------------------+----------------------+----------------------+---------------------+---------------------+---------------------+---------------------+----------------------+---------------------+\n",
            "| yearbuilt(1) | 0.18984547461368653 | 0.19696969696969696 | 0.23076923076923078 | 0.11764705882352941 | 0.1          | 0.1860599078341014  | 0.14890282131661442 | 0.3953488372093023   | 0.15178571428571427 | 0.16129032258064516 | 0.15022547914317927 | 0.18071878725941065 | 0.24392439243924394  | 0.329623944742901   | 0.30560578661844484  | 0.017881705639614855 | 0.06275468622656886 | 0.06666666666666667  | 0.14407894736842106 | 0.1772673733804476  | 0.006514657980456026 | 0.015873015873015872 | 0.06896551724137931  | 0.03816793893129771  | 0.23076923076923078 | 0.22418879056047197 | 0.14146341463414633 | 0.16216216216216217 | 0.16842105263157894  | 0.1540983606557377  |\n",
            "+--------------+---------------------+---------------------+---------------------+---------------------+--------------+---------------------+---------------------+----------------------+---------------------+---------------------+---------------------+---------------------+----------------------+---------------------+----------------------+----------------------+---------------------+----------------------+---------------------+---------------------+----------------------+----------------------+----------------------+----------------------+---------------------+---------------------+---------------------+---------------------+----------------------+---------------------+\n",
            "| yearbuilt(2) | 0.2693156732891832  | 0.16666666666666666 | 0.15384615384615385 | 0.23529411764705882 | 0.1          | 0.18029953917050692 | 0.1536050156739812  | 0.11627906976744186  | 0.0625              | 0.12903225806451613 | 0.2666290868094701  | 0.27780616590018736 | 0.23402340234023403  | 0.17498081350729086 | 0.1298372513562387   | 0.1361760660247593   | 0.15810920945395274 | 0.2                  | 0.25921052631578945 | 0.2332155477031802  | 0.009771986970684038 | 0.015873015873015872 | 0.06896551724137931  | 0.19083969465648856  | 0.03076923076923077 | 0.28023598820059    | 0.26504065040650404 | 0.20077220077220076 | 0.21052631578947367  | 0.1737704918032787  |\n",
            "+--------------+---------------------+---------------------+---------------------+---------------------+--------------+---------------------+---------------------+----------------------+---------------------+---------------------+---------------------+---------------------+----------------------+---------------------+----------------------+----------------------+---------------------+----------------------+---------------------+---------------------+----------------------+----------------------+----------------------+----------------------+---------------------+---------------------+---------------------+---------------------+----------------------+---------------------+\n",
            "| yearbuilt(3) | 0.24724061810154527 | 0.12121212121212122 | 0.07692307692307693 | 0.11764705882352941 | 0.1          | 0.15552995391705068 | 0.05799373040752351 | 0.023255813953488372 | 0.03571428571428571 | 0.03225806451612903 | 0.2872040586245772  | 0.20916368591381365 | 0.1719171917191719   | 0.07444359171143515 | 0.06546112115732369  | 0.19807427785419532  | 0.2526487367563162  | 0.28888888888888886  | 0.23421052631578948 | 0.23792697290930506 | 0.009771986970684038 | 0.26666666666666666  | 0.034482758620689655 | 0.07633587786259542  | 0.12307692307692308 | 0.32448377581120946 | 0.3804878048780488  | 0.38996138996138996 | 0.23157894736842105  | 0.19344262295081968 |\n",
            "+--------------+---------------------+---------------------+---------------------+---------------------+--------------+---------------------+---------------------+----------------------+---------------------+---------------------+---------------------+---------------------+----------------------+---------------------+----------------------+----------------------+---------------------+----------------------+---------------------+---------------------+----------------------+----------------------+----------------------+----------------------+---------------------+---------------------+---------------------+---------------------+----------------------+---------------------+\n",
            "| yearbuilt(4) | 0.2141280353200883  | 0.10606060606060606 | 0.07692307692307693 | 0.11764705882352941 | 0.1          | 0.29089861751152074 | 0.164576802507837   | 0.09302325581395349  | 0.1875              | 0.0967741935483871  | 0.2032130777903044  | 0.09010390052801907 | 0.052205220522052204 | 0.05832693783576362 | 0.013743218806509945 | 0.6382393397524071   | 0.48818255908720454 | 0.41388888888888886  | 0.2901315789473684  | 0.23851590106007067 | 0.9706840390879479   | 0.638095238095238    | 0.7241379310344828   | 0.6641221374045801   | 0.47692307692307695 | 0.05309734513274336 | 0.03414634146341464 | 0.02702702702702703 | 0.021052631578947368 | 0.03278688524590164 |\n",
            "+--------------+---------------------+---------------------+---------------------+---------------------+--------------+---------------------+---------------------+----------------------+---------------------+---------------------+---------------------+---------------------+----------------------+---------------------+----------------------+----------------------+---------------------+----------------------+---------------------+---------------------+----------------------+----------------------+----------------------+----------------------+---------------------+---------------------+---------------------+---------------------+----------------------+---------------------+\n",
            "CPD of unit_ratio:\n",
            "+---------------+----------------------+----------------------+---------------------+---------------------+----------------------+---------------------+---------------------+---------------------+---------------------+----------------------+---------------------+---------------------+---------------------+---------------------+---------------------+---------------------+---------------------+---------------------+---------------------+---------------------+---------------------+---------------------+---------------------+----------------------+----------------------+---------------------+---------------------+---------------------+---------------------+---------------------+\n",
            "| bldgclass     | bldgclass(0)         | bldgclass(0)         | bldgclass(0)        | bldgclass(0)        | bldgclass(0)         | bldgclass(1)        | bldgclass(1)        | bldgclass(1)        | bldgclass(1)        | bldgclass(1)         | bldgclass(2)        | bldgclass(2)        | bldgclass(2)        | bldgclass(2)        | bldgclass(2)        | bldgclass(3)        | bldgclass(3)        | bldgclass(3)        | bldgclass(3)        | bldgclass(3)        | bldgclass(4)        | bldgclass(4)        | bldgclass(4)        | bldgclass(4)         | bldgclass(4)         | bldgclass(5)        | bldgclass(5)        | bldgclass(5)        | bldgclass(5)        | bldgclass(5)        |\n",
            "+---------------+----------------------+----------------------+---------------------+---------------------+----------------------+---------------------+---------------------+---------------------+---------------------+----------------------+---------------------+---------------------+---------------------+---------------------+---------------------+---------------------+---------------------+---------------------+---------------------+---------------------+---------------------+---------------------+---------------------+----------------------+----------------------+---------------------+---------------------+---------------------+---------------------+---------------------+\n",
            "| yearbuilt     | yearbuilt(0)         | yearbuilt(1)         | yearbuilt(2)        | yearbuilt(3)        | yearbuilt(4)         | yearbuilt(0)        | yearbuilt(1)        | yearbuilt(2)        | yearbuilt(3)        | yearbuilt(4)         | yearbuilt(0)        | yearbuilt(1)        | yearbuilt(2)        | yearbuilt(3)        | yearbuilt(4)        | yearbuilt(0)        | yearbuilt(1)        | yearbuilt(2)        | yearbuilt(3)        | yearbuilt(4)        | yearbuilt(0)        | yearbuilt(1)        | yearbuilt(2)        | yearbuilt(3)         | yearbuilt(4)         | yearbuilt(0)        | yearbuilt(1)        | yearbuilt(2)        | yearbuilt(3)        | yearbuilt(4)        |\n",
            "+---------------+----------------------+----------------------+---------------------+---------------------+----------------------+---------------------+---------------------+---------------------+---------------------+----------------------+---------------------+---------------------+---------------------+---------------------+---------------------+---------------------+---------------------+---------------------+---------------------+---------------------+---------------------+---------------------+---------------------+----------------------+----------------------+---------------------+---------------------+---------------------+---------------------+---------------------+\n",
            "| unit_ratio(0) | 0.024390243902439025 | 0.02857142857142857  | 0.02857142857142857 | 0.14516129032258066 | 0.009259259259259259 | 0.05655172413793103 | 0.11159737417943107 | 0.08665105386416862 | 0.08945686900958466 | 0.018808777429467086 | 0.3520256351567865  | 0.23676099747828525 | 0.21467688937568455 | 0.22573764664059723 | 0.1081441922563418  | 0.20708446866485014 | 0.08832807570977919 | 0.0735930735930736  | 0.03338391502276176 | 0.09086491739552964 | 0.21621621621621623 | 0.20689655172413793 | 0.05405405405405406 | 0.7547169811320755   | 0.06896551724137931  | 0.20899470899470898 | 0.25                | 0.3237597911227154  | 0.3060836501901141  | 0.20689655172413793 |\n",
            "+---------------+----------------------+----------------------+---------------------+---------------------+----------------------+---------------------+---------------------+---------------------+---------------------+----------------------+---------------------+---------------------+---------------------+---------------------+---------------------+---------------------+---------------------+---------------------+---------------------+---------------------+---------------------+---------------------+---------------------+----------------------+----------------------+---------------------+---------------------+---------------------+---------------------+---------------------+\n",
            "| unit_ratio(1) | 0.04878048780487805  | 0.009523809523809525 | 0.02857142857142857 | 0.03225806451612903 | 0.009259259259259259 | 0.07172413793103448 | 0.14442013129102846 | 0.1592505854800937  | 0.12779552715654952 | 0.054858934169279    | 0.16731517509727625 | 0.23031661529840292 | 0.2965498357064622  | 0.2915037326697476  | 0.1315086782376502  | 0.11716621253405994 | 0.13722397476340695 | 0.10909090909090909 | 0.15174506828528073 | 0.11078717201166181 | 0.08108108108108109 | 0.10344827586206896 | 0.3783783783783784  | 0.09433962264150944  | 0.048589341692789965 | 0.14814814814814814 | 0.17164179104477612 | 0.14882506527415143 | 0.19391634980988592 | 0.1724137931034483  |\n",
            "+---------------+----------------------+----------------------+---------------------+---------------------+----------------------+---------------------+---------------------+---------------------+---------------------+----------------------+---------------------+---------------------+---------------------+---------------------+---------------------+---------------------+---------------------+---------------------+---------------------+---------------------+---------------------+---------------------+---------------------+----------------------+----------------------+---------------------+---------------------+---------------------+---------------------+---------------------+\n",
            "| unit_ratio(2) | 0.036585365853658534 | 0.05714285714285714  | 0.04285714285714286 | 0.04032258064516129 | 0.018518518518518517 | 0.12275862068965518 | 0.11597374179431072 | 0.11475409836065574 | 0.2012779552715655  | 0.12225705329153605  | 0.15747310597390707 | 0.23732137853740543 | 0.27026286966046004 | 0.24920014219694275 | 0.14018691588785046 | 0.12534059945504086 | 0.1861198738170347  | 0.2354978354978355  | 0.18285280728376327 | 0.20942662779397472 | 0.21621621621621623 | 0.2413793103448276  | 0.35135135135135137 | 0.018867924528301886 | 0.25391849529780564  | 0.15873015873015872 | 0.17164179104477612 | 0.1618798955613577  | 0.1444866920152091  | 0.13793103448275862 |\n",
            "+---------------+----------------------+----------------------+---------------------+---------------------+----------------------+---------------------+---------------------+---------------------+---------------------+----------------------+---------------------+---------------------+---------------------+---------------------+---------------------+---------------------+---------------------+---------------------+---------------------+---------------------+---------------------+---------------------+---------------------+----------------------+----------------------+---------------------+---------------------+---------------------+---------------------+---------------------+\n",
            "| unit_ratio(3) | 0.14634146341463414  | 0.13333333333333333  | 0.07857142857142857 | 0.08870967741935484 | 0.1111111111111111   | 0.23724137931034484 | 0.16630196936542668 | 0.2154566744730679  | 0.2012779552715655  | 0.1896551724137931   | 0.16159304188601512 | 0.17960212944802464 | 0.12842278203723986 | 0.13011020263064343 | 0.24833110814419226 | 0.25885558583106266 | 0.2476340694006309  | 0.3333333333333333  | 0.38012139605462825 | 0.34110787172011664 | 0.16216216216216217 | 0.10344827586206896 | 0.05405405405405406 | 0.07547169811320754  | 0.2884012539184953   | 0.24338624338624337 | 0.1791044776119403  | 0.1514360313315927  | 0.14258555133079848 | 0.1724137931034483  |\n",
            "+---------------+----------------------+----------------------+---------------------+---------------------+----------------------+---------------------+---------------------+---------------------+---------------------+----------------------+---------------------+---------------------+---------------------+---------------------+---------------------+---------------------+---------------------+---------------------+---------------------+---------------------+---------------------+---------------------+---------------------+----------------------+----------------------+---------------------+---------------------+---------------------+---------------------+---------------------+\n",
            "| unit_ratio(4) | 0.7439024390243902   | 0.7714285714285715   | 0.8214285714285714  | 0.6935483870967742  | 0.8518518518518519   | 0.5117241379310344  | 0.4617067833698031  | 0.4238875878220141  | 0.3801916932907348  | 0.6144200626959248   | 0.16159304188601512 | 0.11599887923788176 | 0.09008762322015335 | 0.10344827586206896 | 0.3718291054739653  | 0.29155313351498635 | 0.34069400630914826 | 0.24848484848484848 | 0.251896813353566   | 0.2478134110787172  | 0.32432432432432434 | 0.3448275862068966  | 0.16216216216216217 | 0.05660377358490566  | 0.3401253918495298   | 0.24074074074074073 | 0.22761194029850745 | 0.21409921671018275 | 0.21292775665399238 | 0.3103448275862069  |\n",
            "+---------------+----------------------+----------------------+---------------------+---------------------+----------------------+---------------------+---------------------+---------------------+---------------------+----------------------+---------------------+---------------------+---------------------+---------------------+---------------------+---------------------+---------------------+---------------------+---------------------+---------------------+---------------------+---------------------+---------------------+----------------------+----------------------+---------------------+---------------------+---------------------+---------------------+---------------------+\n",
            "CPD of violations:\n",
            "+---------------+--------------+----------------------+----------------------+---------------------+----------------------+-----------------------+----------------------+----------------------+----------------------+-----------------------+-----------------------+----------------------+----------------------+----------------------+----------------------+----------------------+---------------------+---------------------+----------------------+---------------------+---------------------+----------------------+---------------------+---------------------+-----------------------+----------------------+-----------------------+----------------------+----------------------+----------------------+\n",
            "| bldgclass     | bldgclass(0) | bldgclass(0)         | bldgclass(0)         | bldgclass(0)        | bldgclass(0)         | bldgclass(1)          | bldgclass(1)         | bldgclass(1)         | bldgclass(1)         | bldgclass(1)          | bldgclass(2)          | bldgclass(2)         | bldgclass(2)         | bldgclass(2)         | bldgclass(2)         | bldgclass(3)         | bldgclass(3)        | bldgclass(3)        | bldgclass(3)         | bldgclass(3)        | bldgclass(4)        | bldgclass(4)         | bldgclass(4)        | bldgclass(4)        | bldgclass(4)          | bldgclass(5)         | bldgclass(5)          | bldgclass(5)         | bldgclass(5)         | bldgclass(5)         |\n",
            "+---------------+--------------+----------------------+----------------------+---------------------+----------------------+-----------------------+----------------------+----------------------+----------------------+-----------------------+-----------------------+----------------------+----------------------+----------------------+----------------------+----------------------+---------------------+---------------------+----------------------+---------------------+---------------------+----------------------+---------------------+---------------------+-----------------------+----------------------+-----------------------+----------------------+----------------------+----------------------+\n",
            "| yearbuilt     | yearbuilt(0) | yearbuilt(1)         | yearbuilt(2)         | yearbuilt(3)        | yearbuilt(4)         | yearbuilt(0)          | yearbuilt(1)         | yearbuilt(2)         | yearbuilt(3)         | yearbuilt(4)          | yearbuilt(0)          | yearbuilt(1)         | yearbuilt(2)         | yearbuilt(3)         | yearbuilt(4)         | yearbuilt(0)         | yearbuilt(1)        | yearbuilt(2)        | yearbuilt(3)         | yearbuilt(4)        | yearbuilt(0)        | yearbuilt(1)         | yearbuilt(2)        | yearbuilt(3)        | yearbuilt(4)          | yearbuilt(0)         | yearbuilt(1)          | yearbuilt(2)         | yearbuilt(3)         | yearbuilt(4)         |\n",
            "+---------------+--------------+----------------------+----------------------+---------------------+----------------------+-----------------------+----------------------+----------------------+----------------------+-----------------------+-----------------------+----------------------+----------------------+----------------------+----------------------+----------------------+---------------------+---------------------+----------------------+---------------------+---------------------+----------------------+---------------------+---------------------+-----------------------+----------------------+-----------------------+----------------------+----------------------+----------------------+\n",
            "| violations(0) | 0.825        | 0.8543689320388349   | 0.8623188405797102   | 0.819672131147541   | 0.7641509433962265   | 0.7786998616874136    | 0.7758241758241758   | 0.8352941176470589   | 0.7781350482315113   | 0.8427672955974843    | 0.6819326768948936    | 0.5663022147462854   | 0.6172602739726027   | 0.6342938456065457   | 0.7867647058823529   | 0.5424657534246575   | 0.48575949367088606 | 0.39028620988725066 | 0.49012158054711247  | 0.5374513618677043  | 0.5142857142857142  | 0.7407407407407407   | 0.9142857142857143  | 0.21153846153846154 | 0.9386792452830188    | 0.7845744680851063   | 0.793233082706767     | 0.7637795275590551   | 0.7938931297709924   | 0.8392857142857143   |\n",
            "+---------------+--------------+----------------------+----------------------+---------------------+----------------------+-----------------------+----------------------+----------------------+----------------------+-----------------------+-----------------------+----------------------+----------------------+----------------------+----------------------+----------------------+---------------------+---------------------+----------------------+---------------------+---------------------+----------------------+---------------------+---------------------+-----------------------+----------------------+-----------------------+----------------------+----------------------+----------------------+\n",
            "| violations(1) | 0.1625       | 0.13592233009708737  | 0.13043478260869565  | 0.1721311475409836  | 0.22641509433962265  | 0.21991701244813278   | 0.22197802197802197  | 0.1623529411764706   | 0.21864951768488747  | 0.15566037735849056   | 0.3107396381955576    | 0.4132324081861508   | 0.363013698630137    | 0.34863038064745644  | 0.21122994652406418  | 0.4383561643835616   | 0.47943037974683544 | 0.5550737207285342  | 0.4490881458966565   | 0.3939688715953307  | 0.45714285714285713 | 0.2222222222222222   | 0.05714285714285714 | 0.4423076923076923  | 0.059748427672955975  | 0.21010638297872342  | 0.20300751879699247   | 0.23097112860892388  | 0.20229007633587787  | 0.14285714285714285  |\n",
            "+---------------+--------------+----------------------+----------------------+---------------------+----------------------+-----------------------+----------------------+----------------------+----------------------+-----------------------+-----------------------+----------------------+----------------------+----------------------+----------------------+----------------------+---------------------+---------------------+----------------------+---------------------+---------------------+----------------------+---------------------+---------------------+-----------------------+----------------------+-----------------------+----------------------+----------------------+----------------------+\n",
            "| violations(2) | 0.0125       | 0.009708737864077669 | 0.007246376811594203 | 0.00819672131147541 | 0.009433962264150943 | 0.0013831258644536654 | 0.002197802197802198 | 0.002352941176470588 | 0.003215434083601286 | 0.0015723270440251573 | 0.0073276849095488894 | 0.020465377067563777 | 0.019726027397260273 | 0.017075773745997867 | 0.002005347593582888 | 0.019178082191780823 | 0.03481012658227848 | 0.05464006938421509 | 0.060790273556231005 | 0.06857976653696499 | 0.02857142857142857 | 0.037037037037037035 | 0.02857142857142857 | 0.34615384615384615 | 0.0015723270440251573 | 0.005319148936170213 | 0.0037593984962406013 | 0.005249343832020997 | 0.003816793893129771 | 0.017857142857142856 |\n",
            "+---------------+--------------+----------------------+----------------------+---------------------+----------------------+-----------------------+----------------------+----------------------+----------------------+-----------------------+-----------------------+----------------------+----------------------+----------------------+----------------------+----------------------+---------------------+---------------------+----------------------+---------------------+---------------------+----------------------+---------------------+---------------------+-----------------------+----------------------+-----------------------+----------------------+----------------------+----------------------+\n",
            "CPD of landuse:\n",
            "+------------+---------------------+---------------------+---------------------+----------------------+----------------------+\n",
            "| residfar   | residfar(0)         | residfar(1)         | residfar(2)         | residfar(3)          | residfar(4)          |\n",
            "+------------+---------------------+---------------------+---------------------+----------------------+----------------------+\n",
            "| landuse(0) | 0.30773574251835123 | 0.07983000229726625 | 0.02627166014533259 | 0.026936026936026935 | 0.006600660066006601 |\n",
            "+------------+---------------------+---------------------+---------------------+----------------------+----------------------+\n",
            "| landuse(1) | 0.515527950310559   | 0.6407075580059729  | 0.5276690888764674  | 0.44219977553310885  | 0.3712871287128713   |\n",
            "+------------+---------------------+---------------------+---------------------+----------------------+----------------------+\n",
            "| landuse(2) | 0.09867306606437042 | 0.13726165862623477 | 0.17663499161542762 | 0.25925925925925924  | 0.2695957095709571   |\n",
            "+------------+---------------------+---------------------+---------------------+----------------------+----------------------+\n",
            "| landuse(3) | 0.07806324110671936 | 0.14220078107052608 | 0.2694242593627725  | 0.2716049382716049   | 0.352516501650165    |\n",
            "+------------+---------------------+---------------------+---------------------+----------------------+----------------------+\n",
            "(violations _|_ residfar, unit_ratio, subsidies_flag, landuse | yearbuilt, bldgclass)\n",
            "{'bldgclass': set(['bldgclass', 'subsidies_flag', 'residfar', 'yearbuilt', 'unit_ratio', 'violations', 'landuse'])}\n",
            "{'subsidies_flag': set(['bldgclass', 'subsidies_flag', 'residfar', 'yearbuilt', 'unit_ratio', 'violations', 'landuse'])}\n",
            "{'residfar': set(['bldgclass', 'subsidies_flag', 'residfar', 'yearbuilt', 'unit_ratio', 'violations', 'landuse'])}\n",
            "{'yearbuilt': set(['bldgclass', 'subsidies_flag', 'residfar', 'yearbuilt', 'unit_ratio', 'violations', 'landuse'])}\n",
            "{'unit_ratio': set(['bldgclass', 'subsidies_flag', 'residfar', 'yearbuilt', 'unit_ratio', 'violations', 'landuse'])}\n",
            "{'violations': set(['bldgclass', 'subsidies_flag', 'residfar', 'yearbuilt', 'unit_ratio', 'violations', 'landuse'])}\n",
            "{'landuse': set(['bldgclass', 'subsidies_flag', 'residfar', 'yearbuilt', 'unit_ratio', 'violations', 'landuse'])}\n"
          ],
          "name": "stdout"
        }
      ]
    },
    {
      "cell_type": "code",
      "metadata": {
        "id": "wbU_FsR4iYE3",
        "colab_type": "code",
        "outputId": "beb5c4b8-b841-4aea-ed37-9424bc3d1b2c",
        "colab": {
          "base_uri": "https://localhost:8080/",
          "height": 34
        }
      },
      "source": [
        "best_model.fit(data16train, estimator=BayesianEstimator, prior_type='K2')\n",
        "test_x = data16test.drop(columns=['violations'])\n",
        "predicted_test = temp_predict(best_model, test_x)\n",
        "print \"Out of sample:\",(data16test.loc[:,'violations']==predicted_test['violations']).mean()"
      ],
      "execution_count": 0,
      "outputs": [
        {
          "output_type": "stream",
          "text": [
            "Out of sample: 0.6414532459797498\n"
          ],
          "name": "stdout"
        }
      ]
    },
    {
      "cell_type": "code",
      "metadata": {
        "id": "y3vDZsNPV9tk",
        "colab_type": "code",
        "outputId": "7b4407b8-4bf7-47ab-d9b6-2552f89e4e5d",
        "colab": {
          "base_uri": "https://localhost:8080/",
          "height": 34
        }
      },
      "source": [
        "train_x = data16train.drop(columns=['violations'])\n",
        "predicted_train = temp_predict(best_model, train_x)\n",
        "print \"In of sample:\",(data16train.loc[:,'violations']==predicted_train['violations']).mean()"
      ],
      "execution_count": 0,
      "outputs": [
        {
          "output_type": "stream",
          "text": [
            "In of sample: 0.6534137443228353\n"
          ],
          "name": "stdout"
        }
      ]
    },
    {
      "cell_type": "code",
      "metadata": {
        "id": "0vX2cClS85AQ",
        "colab_type": "code",
        "colab": {}
      },
      "source": [
        "data16smaller = pd.read_csv(\"data14smaller_4_2.csv\", low_memory = False, dtype = {'subsidies_flag':\"int64\"})"
      ],
      "execution_count": 0,
      "outputs": []
    },
    {
      "cell_type": "code",
      "metadata": {
        "id": "-fd5wUoBfk5Q",
        "colab_type": "code",
        "outputId": "2c66adb1-b23a-4459-903b-6752ec24d932",
        "colab": {
          "base_uri": "https://localhost:8080/",
          "height": 88
        }
      },
      "source": [
        "data16train, data16test = train_test_split(data16smaller,random_state=9,test_size=0.2)\n",
        "hc = HillClimbSearch(data16train, scoring_method=BicScore(data16train))\n",
        "best_model = hc.estimate()\n",
        "print(best_model.edges())\n",
        "\n",
        "best_model.fit(data16train, estimator=BayesianEstimator, prior_type='K2')\n",
        "\n",
        "train_x = data16train.drop(columns=['vio_rt'])\n",
        "predicted_train = temp_predict(best_model, train_x)\n",
        "print \"In of sample:\",(data16train.loc[:,'vio_rt']==predicted_train['vio_rt']).mean()\n",
        "\n",
        "test_x = data16test.drop(columns=['vio_rt'])\n",
        "predicted_test = temp_predict(best_model, test_x)\n",
        "print \"Out of sample:\",(data16test.loc[:,'vio_rt']==predicted_test['vio_rt']).mean()"
      ],
      "execution_count": 0,
      "outputs": [
        {
          "output_type": "stream",
          "text": [
            "[('bldgclass', 'unit_ratio'), ('bldgclass', 'subsidies_flag'), ('bldgclass', 'yearbuilt'), ('bldgclass', 'vio_rt'), ('residfar', 'subsidies_flag'), ('residfar', 'landuse'), ('residfar', 'yearbuilt'), ('residfar', 'bldgclass'), ('yearbuilt', 'unit_ratio'), ('yearbuilt', 'vio_rt'), ('landuse', 'bldgclass')]\n",
            "In of sample: 0.37175191720646267\n",
            "Out of sample: 0.38862418106015484\n"
          ],
          "name": "stdout"
        }
      ]
    },
    {
      "cell_type": "code",
      "metadata": {
        "id": "7fPZEhXkZGA8",
        "colab_type": "code",
        "outputId": "633264db-5655-4e0f-df5b-1264c588d497",
        "colab": {
          "base_uri": "https://localhost:8080/",
          "height": 1808
        }
      },
      "source": [
        "data16train, data16test = train_test_split(data16smaller,random_state=9,test_size=0.2)\n",
        "hc = HillClimbSearch(data16train, scoring_method=BicScore(data16train))\n",
        "best_model = hc.estimate()\n",
        "print(best_model.edges())\n",
        "\n",
        "best_model.fit(data16train, estimator=BayesianEstimator, prior_type='K2')\n",
        "\n",
        "for cpd in best_model.get_cpds():\n",
        "    print(\"CPD of {variable}:\".format(variable=cpd.variable))\n",
        "    print(cpd)\n",
        "    \n",
        "print best_model.local_independencies('vio_rt')\n",
        "\n",
        "for thenode in best_model.nodes():\n",
        "    print best_model.active_trail_nodes(thenode)"
      ],
      "execution_count": 0,
      "outputs": [
        {
          "output_type": "stream",
          "text": [
            "[('bldgclass', 'unit_ratio'), ('bldgclass', 'subsidies_flag'), ('bldgclass', 'yearbuilt'), ('bldgclass', 'vio_rt'), ('residfar', 'subsidies_flag'), ('residfar', 'landuse'), ('residfar', 'yearbuilt'), ('residfar', 'bldgclass'), ('yearbuilt', 'unit_ratio'), ('yearbuilt', 'vio_rt'), ('landuse', 'bldgclass')]\n",
            "CPD of bldgclass:\n",
            "+--------------+-----------------------+-----------------------+----------------------+-------------+---------------------+------------------------+------------------------+----------------------+-----------------------+----------------------+-----------------------+-----------------------+----------------------+-----------------------+-----------------------+-----------------------+-----------------------+----------------------+-----------------------+-----------------------+\n",
            "| landuse      | landuse(0)            | landuse(0)            | landuse(0)           | landuse(0)  | landuse(0)          | landuse(1)             | landuse(1)             | landuse(1)           | landuse(1)            | landuse(1)           | landuse(2)            | landuse(2)            | landuse(2)           | landuse(2)            | landuse(2)            | landuse(3)            | landuse(3)            | landuse(3)           | landuse(3)            | landuse(3)            |\n",
            "+--------------+-----------------------+-----------------------+----------------------+-------------+---------------------+------------------------+------------------------+----------------------+-----------------------+----------------------+-----------------------+-----------------------+----------------------+-----------------------+-----------------------+-----------------------+-----------------------+----------------------+-----------------------+-----------------------+\n",
            "| residfar     | residfar(0)           | residfar(1)           | residfar(2)          | residfar(3) | residfar(4)         | residfar(0)            | residfar(1)            | residfar(2)          | residfar(3)           | residfar(4)          | residfar(0)           | residfar(1)           | residfar(2)          | residfar(3)           | residfar(4)           | residfar(0)           | residfar(1)           | residfar(2)          | residfar(3)           | residfar(4)           |\n",
            "+--------------+-----------------------+-----------------------+----------------------+-------------+---------------------+------------------------+------------------------+----------------------+-----------------------+----------------------+-----------------------+-----------------------+----------------------+-----------------------+-----------------------+-----------------------+-----------------------+----------------------+-----------------------+-----------------------+\n",
            "| bldgclass(0) | 0.20549199084668193   | 0.08857142857142856   | 0.17307692307692307  | 0.104       | 0.16216216216216217 | 0.00027344818156959256 | 0.00017911517105498835 | 0.001053740779768177 | 0.0005063291139240507 | 0.000554016620498615 | 0.0014204545454545455 | 0.0008333333333333334 | 0.003115264797507788 | 0.0008620689655172414 | 0.0007621951219512195 | 0.0017921146953405018 | 0.0008045052292839903 | 0.002053388090349076 | 0.0008230452674897119 | 0.0005834305717619603 |\n",
            "+--------------+-----------------------+-----------------------+----------------------+-------------+---------------------+------------------------+------------------------+----------------------+-----------------------+----------------------+-----------------------+-----------------------+----------------------+-----------------------+-----------------------+-----------------------+-----------------------+----------------------+-----------------------+-----------------------+\n",
            "| bldgclass(1) | 0.7926773455377575    | 0.9057142857142857    | 0.75                 | 0.864       | 0.7297297297297297  | 0.00027344818156959256 | 0.00017911517105498835 | 0.001053740779768177 | 0.0005063291139240507 | 0.000554016620498615 | 0.0014204545454545455 | 0.0008333333333333334 | 0.003115264797507788 | 0.0008620689655172414 | 0.0007621951219512195 | 0.0017921146953405018 | 0.0008045052292839903 | 0.002053388090349076 | 0.0008230452674897119 | 0.0005834305717619603 |\n",
            "+--------------+-----------------------+-----------------------+----------------------+-------------+---------------------+------------------------+------------------------+----------------------+-----------------------+----------------------+-----------------------+-----------------------+----------------------+-----------------------+-----------------------+-----------------------+-----------------------+----------------------+-----------------------+-----------------------+\n",
            "| bldgclass(2) | 0.0004576659038901602 | 0.0014285714285714286 | 0.019230769230769232 | 0.008       | 0.02702702702702703 | 0.9220672682526662     | 0.9614902382231775     | 0.9831401475237092   | 0.949873417721519     | 0.9811634349030471   | 0.0014204545454545455 | 0.0008333333333333334 | 0.003115264797507788 | 0.0008620689655172414 | 0.0007621951219512195 | 0.3100358422939068    | 0.4022526146419952    | 0.3593429158110883   | 0.5983539094650205    | 0.5781796966161027    |\n",
            "+--------------+-----------------------+-----------------------+----------------------+-------------+---------------------+------------------------+------------------------+----------------------+-----------------------+----------------------+-----------------------+-----------------------+----------------------+-----------------------+-----------------------+-----------------------+-----------------------+----------------------+-----------------------+-----------------------+\n",
            "| bldgclass(3) | 0.0004576659038901602 | 0.0014285714285714286 | 0.019230769230769232 | 0.008       | 0.02702702702702703 | 0.00027344818156959256 | 0.00017911517105498835 | 0.001053740779768177 | 0.0005063291139240507 | 0.000554016620498615 | 0.9616477272727273    | 0.9141666666666667    | 0.9439252336448598   | 0.9698275862068966    | 0.9748475609756098    | 0.08422939068100359   | 0.10217216411906678   | 0.11088295687885011  | 0.3226337448559671    | 0.2427071178529755    |\n",
            "+--------------+-----------------------+-----------------------+----------------------+-------------+---------------------+------------------------+------------------------+----------------------+-----------------------+----------------------+-----------------------+-----------------------+----------------------+-----------------------+-----------------------+-----------------------+-----------------------+----------------------+-----------------------+-----------------------+\n",
            "| bldgclass(4) | 0.0004576659038901602 | 0.0014285714285714286 | 0.019230769230769232 | 0.008       | 0.02702702702702703 | 0.07683893902105551    | 0.037793301092602545   | 0.012644889357218124 | 0.04810126582278481   | 0.01662049861495845  | 0.032670454545454544  | 0.0825                | 0.04361370716510903  | 0.026724137931034484  | 0.022103658536585365  | 0.0017921146953405018 | 0.002413515687851971  | 0.002053388090349076 | 0.0024691358024691358 | 0.002333722287047841  |\n",
            "+--------------+-----------------------+-----------------------+----------------------+-------------+---------------------+------------------------+------------------------+----------------------+-----------------------+----------------------+-----------------------+-----------------------+----------------------+-----------------------+-----------------------+-----------------------+-----------------------+----------------------+-----------------------+-----------------------+\n",
            "| bldgclass(5) | 0.0004576659038901602 | 0.0014285714285714286 | 0.019230769230769232 | 0.008       | 0.02702702702702703 | 0.00027344818156959256 | 0.00017911517105498835 | 0.001053740779768177 | 0.0005063291139240507 | 0.000554016620498615 | 0.0014204545454545455 | 0.0008333333333333334 | 0.003115264797507788 | 0.0008620689655172414 | 0.0007621951219512195 | 0.600358422939068     | 0.4915526950925181    | 0.5236139630390144   | 0.07489711934156379   | 0.17561260210035007   |\n",
            "+--------------+-----------------------+-----------------------+----------------------+-------------+---------------------+------------------------+------------------------+----------------------+-----------------------+----------------------+-----------------------+-----------------------+----------------------+-----------------------+-----------------------+-----------------------+-----------------------+----------------------+-----------------------+-----------------------+\n",
            "CPD of subsidies_flag:\n",
            "+-------------------+-----------------------+----------------------+--------------+---------------------+---------------------+-----------------------+-----------------------+--------------+----------------------+---------------------+----------------------+---------------------+---------------------+---------------------+---------------------+---------------------+---------------------+---------------------+--------------------+---------------------+---------------------+---------------------+--------------------+--------------+--------------------+----------------------+----------------------+--------------+----------------------+----------------------+\n",
            "| bldgclass         | bldgclass(0)          | bldgclass(0)         | bldgclass(0) | bldgclass(0)        | bldgclass(0)        | bldgclass(1)          | bldgclass(1)          | bldgclass(1) | bldgclass(1)         | bldgclass(1)        | bldgclass(2)         | bldgclass(2)        | bldgclass(2)        | bldgclass(2)        | bldgclass(2)        | bldgclass(3)        | bldgclass(3)        | bldgclass(3)        | bldgclass(3)       | bldgclass(3)        | bldgclass(4)        | bldgclass(4)        | bldgclass(4)       | bldgclass(4) | bldgclass(4)       | bldgclass(5)         | bldgclass(5)         | bldgclass(5) | bldgclass(5)         | bldgclass(5)         |\n",
            "+-------------------+-----------------------+----------------------+--------------+---------------------+---------------------+-----------------------+-----------------------+--------------+----------------------+---------------------+----------------------+---------------------+---------------------+---------------------+---------------------+---------------------+---------------------+---------------------+--------------------+---------------------+---------------------+---------------------+--------------------+--------------+--------------------+----------------------+----------------------+--------------+----------------------+----------------------+\n",
            "| residfar          | residfar(0)           | residfar(1)          | residfar(2)  | residfar(3)         | residfar(4)         | residfar(0)           | residfar(1)           | residfar(2)  | residfar(3)          | residfar(4)         | residfar(0)          | residfar(1)         | residfar(2)         | residfar(3)         | residfar(4)         | residfar(0)         | residfar(1)         | residfar(2)         | residfar(3)        | residfar(4)         | residfar(0)         | residfar(1)         | residfar(2)        | residfar(3)  | residfar(4)        | residfar(0)          | residfar(1)          | residfar(2)  | residfar(3)          | residfar(4)          |\n",
            "+-------------------+-----------------------+----------------------+--------------+---------------------+---------------------+-----------------------+-----------------------+--------------+----------------------+---------------------+----------------------+---------------------+---------------------+---------------------+---------------------+---------------------+---------------------+---------------------+--------------------+---------------------+---------------------+---------------------+--------------------+--------------+--------------------+----------------------+----------------------+--------------+----------------------+----------------------+\n",
            "| subsidies_flag(0) | 0.9977777777777778    | 0.9841269841269841   | 0.9          | 0.9285714285714286  | 0.8571428571428571  | 0.9994229659549914    | 0.9984251968503937    | 0.975        | 0.9908256880733946   | 0.9642857142857143  | 0.9605077574047954   | 0.9013292433537833  | 0.8898916967509025  | 0.8036880522474068  | 0.8769007965242578  | 0.8825966850828729  | 0.7785947712418301  | 0.834733893557423   | 0.7112722478576137 | 0.8442477876106195  | 0.9638157894736842  | 0.8076923076923077  | 0.4230769230769231 | 0.8125       | 0.9032258064516129 | 0.9940476190476191   | 0.9787581699346405   | 0.95703125   | 0.9565217391304348   | 0.9801324503311258   |\n",
            "+-------------------+-----------------------+----------------------+--------------+---------------------+---------------------+-----------------------+-----------------------+--------------+----------------------+---------------------+----------------------+---------------------+---------------------+---------------------+---------------------+---------------------+---------------------+---------------------+--------------------+---------------------+---------------------+---------------------+--------------------+--------------+--------------------+----------------------+----------------------+--------------+----------------------+----------------------+\n",
            "| subsidies_flag(1) | 0.0022222222222222222 | 0.015873015873015872 | 0.1          | 0.07142857142857142 | 0.14285714285714285 | 0.0005770340450086555 | 0.0015748031496062992 | 0.025        | 0.009174311926605505 | 0.03571428571428571 | 0.039492242595204514 | 0.09867075664621677 | 0.11010830324909747 | 0.19631194775259317 | 0.12309920347574221 | 0.11740331491712708 | 0.22140522875816993 | 0.16526610644257703 | 0.2887277521423863 | 0.15575221238938053 | 0.03618421052631579 | 0.19230769230769232 | 0.5769230769230769 | 0.1875       | 0.0967741935483871 | 0.005952380952380952 | 0.021241830065359478 | 0.04296875   | 0.043478260869565216 | 0.019867549668874173 |\n",
            "+-------------------+-----------------------+----------------------+--------------+---------------------+---------------------+-----------------------+-----------------------+--------------+----------------------+---------------------+----------------------+---------------------+---------------------+---------------------+---------------------+---------------------+---------------------+---------------------+--------------------+---------------------+---------------------+---------------------+--------------------+--------------+--------------------+----------------------+----------------------+--------------+----------------------+----------------------+\n",
            "CPD of residfar:\n",
            "+-------------+-----------+\n",
            "| residfar(0) | 0.263558  |\n",
            "+-------------+-----------+\n",
            "| residfar(1) | 0.323929  |\n",
            "+-------------+-----------+\n",
            "| residfar(2) | 0.0664756 |\n",
            "+-------------+-----------+\n",
            "| residfar(3) | 0.165705  |\n",
            "+-------------+-----------+\n",
            "| residfar(4) | 0.180333  |\n",
            "+-------------+-----------+\n",
            "CPD of yearbuilt:\n",
            "+--------------+---------------------+---------------------+---------------------+---------------------+--------------+---------------------+---------------------+----------------------+---------------------+---------------------+---------------------+---------------------+----------------------+---------------------+----------------------+----------------------+---------------------+----------------------+---------------------+---------------------+----------------------+----------------------+----------------------+----------------------+---------------------+---------------------+---------------------+---------------------+----------------------+---------------------+\n",
            "| bldgclass    | bldgclass(0)        | bldgclass(0)        | bldgclass(0)        | bldgclass(0)        | bldgclass(0) | bldgclass(1)        | bldgclass(1)        | bldgclass(1)         | bldgclass(1)        | bldgclass(1)        | bldgclass(2)        | bldgclass(2)        | bldgclass(2)         | bldgclass(2)        | bldgclass(2)         | bldgclass(3)         | bldgclass(3)        | bldgclass(3)         | bldgclass(3)        | bldgclass(3)        | bldgclass(4)         | bldgclass(4)         | bldgclass(4)         | bldgclass(4)         | bldgclass(4)        | bldgclass(5)        | bldgclass(5)        | bldgclass(5)        | bldgclass(5)         | bldgclass(5)        |\n",
            "+--------------+---------------------+---------------------+---------------------+---------------------+--------------+---------------------+---------------------+----------------------+---------------------+---------------------+---------------------+---------------------+----------------------+---------------------+----------------------+----------------------+---------------------+----------------------+---------------------+---------------------+----------------------+----------------------+----------------------+----------------------+---------------------+---------------------+---------------------+---------------------+----------------------+---------------------+\n",
            "| residfar     | residfar(0)         | residfar(1)         | residfar(2)         | residfar(3)         | residfar(4)  | residfar(0)         | residfar(1)         | residfar(2)          | residfar(3)         | residfar(4)         | residfar(0)         | residfar(1)         | residfar(2)          | residfar(3)         | residfar(4)          | residfar(0)          | residfar(1)         | residfar(2)          | residfar(3)         | residfar(4)         | residfar(0)          | residfar(1)          | residfar(2)          | residfar(3)          | residfar(4)         | residfar(0)         | residfar(1)         | residfar(2)         | residfar(3)          | residfar(4)         |\n",
            "+--------------+---------------------+---------------------+---------------------+---------------------+--------------+---------------------+---------------------+----------------------+---------------------+---------------------+---------------------+---------------------+----------------------+---------------------+----------------------+----------------------+---------------------+----------------------+---------------------+---------------------+----------------------+----------------------+----------------------+----------------------+---------------------+---------------------+---------------------+---------------------+----------------------+---------------------+\n",
            "| yearbuilt(0) | 0.07947019867549669 | 0.4090909090909091  | 0.46153846153846156 | 0.4117647058823529  | 0.6          | 0.18721198156682028 | 0.47492163009404387 | 0.37209302325581395  | 0.5625              | 0.5806451612903226  | 0.092728297632469   | 0.24220746039856925 | 0.29792979297929795  | 0.3626247122026094  | 0.48535262206148283  | 0.009628610729023384 | 0.03830480847595762 | 0.030555555555555555 | 0.07236842105263158 | 0.11307420494699646 | 0.003257328990228013 | 0.06349206349206349  | 0.10344827586206896  | 0.030534351145038167 | 0.13846153846153847 | 0.11799410029498525 | 0.17886178861788618 | 0.22007722007722008 | 0.3684210526315789   | 0.4459016393442623  |\n",
            "+--------------+---------------------+---------------------+---------------------+---------------------+--------------+---------------------+---------------------+----------------------+---------------------+---------------------+---------------------+---------------------+----------------------+---------------------+----------------------+----------------------+---------------------+----------------------+---------------------+---------------------+----------------------+----------------------+----------------------+----------------------+---------------------+---------------------+---------------------+---------------------+----------------------+---------------------+\n",
            "| yearbuilt(1) | 0.18984547461368653 | 0.19696969696969696 | 0.23076923076923078 | 0.11764705882352941 | 0.1          | 0.1860599078341014  | 0.14890282131661442 | 0.3953488372093023   | 0.15178571428571427 | 0.16129032258064516 | 0.15022547914317927 | 0.18071878725941065 | 0.24392439243924394  | 0.329623944742901   | 0.30560578661844484  | 0.017881705639614855 | 0.06275468622656886 | 0.06666666666666667  | 0.14407894736842106 | 0.1772673733804476  | 0.006514657980456026 | 0.015873015873015872 | 0.06896551724137931  | 0.03816793893129771  | 0.23076923076923078 | 0.22418879056047197 | 0.14146341463414633 | 0.16216216216216217 | 0.16842105263157894  | 0.1540983606557377  |\n",
            "+--------------+---------------------+---------------------+---------------------+---------------------+--------------+---------------------+---------------------+----------------------+---------------------+---------------------+---------------------+---------------------+----------------------+---------------------+----------------------+----------------------+---------------------+----------------------+---------------------+---------------------+----------------------+----------------------+----------------------+----------------------+---------------------+---------------------+---------------------+---------------------+----------------------+---------------------+\n",
            "| yearbuilt(2) | 0.2693156732891832  | 0.16666666666666666 | 0.15384615384615385 | 0.23529411764705882 | 0.1          | 0.18029953917050692 | 0.1536050156739812  | 0.11627906976744186  | 0.0625              | 0.12903225806451613 | 0.2666290868094701  | 0.27780616590018736 | 0.23402340234023403  | 0.17498081350729086 | 0.1298372513562387   | 0.1361760660247593   | 0.15810920945395274 | 0.2                  | 0.25921052631578945 | 0.2332155477031802  | 0.009771986970684038 | 0.015873015873015872 | 0.06896551724137931  | 0.19083969465648856  | 0.03076923076923077 | 0.28023598820059    | 0.26504065040650404 | 0.20077220077220076 | 0.21052631578947367  | 0.1737704918032787  |\n",
            "+--------------+---------------------+---------------------+---------------------+---------------------+--------------+---------------------+---------------------+----------------------+---------------------+---------------------+---------------------+---------------------+----------------------+---------------------+----------------------+----------------------+---------------------+----------------------+---------------------+---------------------+----------------------+----------------------+----------------------+----------------------+---------------------+---------------------+---------------------+---------------------+----------------------+---------------------+\n",
            "| yearbuilt(3) | 0.24724061810154527 | 0.12121212121212122 | 0.07692307692307693 | 0.11764705882352941 | 0.1          | 0.15552995391705068 | 0.05799373040752351 | 0.023255813953488372 | 0.03571428571428571 | 0.03225806451612903 | 0.2872040586245772  | 0.20916368591381365 | 0.1719171917191719   | 0.07444359171143515 | 0.06546112115732369  | 0.19807427785419532  | 0.2526487367563162  | 0.28888888888888886  | 0.23421052631578948 | 0.23792697290930506 | 0.009771986970684038 | 0.26666666666666666  | 0.034482758620689655 | 0.07633587786259542  | 0.12307692307692308 | 0.32448377581120946 | 0.3804878048780488  | 0.38996138996138996 | 0.23157894736842105  | 0.19344262295081968 |\n",
            "+--------------+---------------------+---------------------+---------------------+---------------------+--------------+---------------------+---------------------+----------------------+---------------------+---------------------+---------------------+---------------------+----------------------+---------------------+----------------------+----------------------+---------------------+----------------------+---------------------+---------------------+----------------------+----------------------+----------------------+----------------------+---------------------+---------------------+---------------------+---------------------+----------------------+---------------------+\n",
            "| yearbuilt(4) | 0.2141280353200883  | 0.10606060606060606 | 0.07692307692307693 | 0.11764705882352941 | 0.1          | 0.29089861751152074 | 0.164576802507837   | 0.09302325581395349  | 0.1875              | 0.0967741935483871  | 0.2032130777903044  | 0.09010390052801907 | 0.052205220522052204 | 0.05832693783576362 | 0.013743218806509945 | 0.6382393397524071   | 0.48818255908720454 | 0.41388888888888886  | 0.2901315789473684  | 0.23851590106007067 | 0.9706840390879479   | 0.638095238095238    | 0.7241379310344828   | 0.6641221374045801   | 0.47692307692307695 | 0.05309734513274336 | 0.03414634146341464 | 0.02702702702702703 | 0.021052631578947368 | 0.03278688524590164 |\n",
            "+--------------+---------------------+---------------------+---------------------+---------------------+--------------+---------------------+---------------------+----------------------+---------------------+---------------------+---------------------+---------------------+----------------------+---------------------+----------------------+----------------------+---------------------+----------------------+---------------------+---------------------+----------------------+----------------------+----------------------+----------------------+---------------------+---------------------+---------------------+---------------------+----------------------+---------------------+\n",
            "CPD of vio_rt:\n",
            "+-----------+----------------------+----------------------+----------------------+----------------------+----------------------+----------------------+----------------------+---------------------+----------------------+----------------------+---------------------+---------------------+---------------------+---------------------+---------------------+---------------------+----------------------+---------------------+----------------------+----------------------+---------------------+----------------------+---------------------+----------------------+----------------------+-----------------------+-----------------------+-----------------------+-----------------------+----------------------+\n",
            "| bldgclass | bldgclass(0)         | bldgclass(0)         | bldgclass(0)         | bldgclass(0)         | bldgclass(0)         | bldgclass(1)         | bldgclass(1)         | bldgclass(1)        | bldgclass(1)         | bldgclass(1)         | bldgclass(2)        | bldgclass(2)        | bldgclass(2)        | bldgclass(2)        | bldgclass(2)        | bldgclass(3)        | bldgclass(3)         | bldgclass(3)        | bldgclass(3)         | bldgclass(3)         | bldgclass(4)        | bldgclass(4)         | bldgclass(4)        | bldgclass(4)         | bldgclass(4)         | bldgclass(5)          | bldgclass(5)          | bldgclass(5)          | bldgclass(5)          | bldgclass(5)         |\n",
            "+-----------+----------------------+----------------------+----------------------+----------------------+----------------------+----------------------+----------------------+---------------------+----------------------+----------------------+---------------------+---------------------+---------------------+---------------------+---------------------+---------------------+----------------------+---------------------+----------------------+----------------------+---------------------+----------------------+---------------------+----------------------+----------------------+-----------------------+-----------------------+-----------------------+-----------------------+----------------------+\n",
            "| yearbuilt | yearbuilt(0)         | yearbuilt(1)         | yearbuilt(2)         | yearbuilt(3)         | yearbuilt(4)         | yearbuilt(0)         | yearbuilt(1)         | yearbuilt(2)        | yearbuilt(3)         | yearbuilt(4)         | yearbuilt(0)        | yearbuilt(1)        | yearbuilt(2)        | yearbuilt(3)        | yearbuilt(4)        | yearbuilt(0)        | yearbuilt(1)         | yearbuilt(2)        | yearbuilt(3)         | yearbuilt(4)         | yearbuilt(0)        | yearbuilt(1)         | yearbuilt(2)        | yearbuilt(3)         | yearbuilt(4)         | yearbuilt(0)          | yearbuilt(1)          | yearbuilt(2)          | yearbuilt(3)          | yearbuilt(4)         |\n",
            "+-----------+----------------------+----------------------+----------------------+----------------------+----------------------+----------------------+----------------------+---------------------+----------------------+----------------------+---------------------+---------------------+---------------------+---------------------+---------------------+---------------------+----------------------+---------------------+----------------------+----------------------+---------------------+----------------------+---------------------+----------------------+----------------------+-----------------------+-----------------------+-----------------------+-----------------------+----------------------+\n",
            "| vio_rt(0) | 0.6463414634146342   | 0.7904761904761904   | 0.7428571428571429   | 0.7419354838709677   | 0.7777777777777778   | 0.5462068965517242   | 0.5514223194748359   | 0.5081967213114754  | 0.5559105431309904   | 0.4843260188087774   | 0.17280842298008697 | 0.13561221630708883 | 0.16319824753559695 | 0.16139353003910417 | 0.1842456608811749  | 0.03814713896457766 | 0.033123028391167195 | 0.03982683982683983 | 0.024279210925644917 | 0.004859086491739553 | 0.02702702702702703 | 0.034482758620689655 | 0.02702702702702703 | 0.018867924528301886 | 0.001567398119122257 | 0.3306878306878307    | 0.3246268656716418    | 0.3524804177545692    | 0.33460076045627374   | 0.3620689655172414   |\n",
            "+-----------+----------------------+----------------------+----------------------+----------------------+----------------------+----------------------+----------------------+---------------------+----------------------+----------------------+---------------------+---------------------+---------------------+---------------------+---------------------+---------------------+----------------------+---------------------+----------------------+----------------------+---------------------+----------------------+---------------------+----------------------+----------------------+-----------------------+-----------------------+-----------------------+-----------------------+----------------------+\n",
            "| vio_rt(1) | 0.3170731707317073   | 0.18095238095238095  | 0.2357142857142857   | 0.1693548387096774   | 0.19444444444444445  | 0.2496551724137931   | 0.2735229759299781   | 0.2810304449648712  | 0.2971246006389776   | 0.27899686520376177  | 0.19890135042343784 | 0.20622022975623425 | 0.21905805038335158 | 0.20085318165659438 | 0.17489986648865152 | 0.1444141689373297  | 0.13249211356466878  | 0.13593073593073593 | 0.06449165402124431  | 0.023323615160349854 | 0.08108108108108109 | 0.10344827586206896  | 0.02702702702702703 | 0.02830188679245283  | 0.02664576802507837  | 0.21693121693121692   | 0.291044776119403     | 0.28720626631853785   | 0.24334600760456274   | 0.25862068965517243  |\n",
            "+-----------+----------------------+----------------------+----------------------+----------------------+----------------------+----------------------+----------------------+---------------------+----------------------+----------------------+---------------------+---------------------+---------------------+---------------------+---------------------+---------------------+----------------------+---------------------+----------------------+----------------------+---------------------+----------------------+---------------------+----------------------+----------------------+-----------------------+-----------------------+-----------------------+-----------------------+----------------------+\n",
            "| vio_rt(2) | 0.012195121951219513 | 0.009523809523809525 | 0.007142857142857143 | 0.008064516129032258 | 0.009259259259259259 | 0.2013793103448276   | 0.17067833698030635  | 0.20608899297423888 | 0.14057507987220447  | 0.2335423197492163   | 0.285648889906157   | 0.2653404314934155  | 0.23713033953997809 | 0.2513330963384287  | 0.32376502002670227 | 0.24250681198910082 | 0.21608832807570977  | 0.22770562770562772 | 0.19347496206373294  | 0.08551992225461613  | 0.4594594594594595  | 0.06896551724137931  | 0.08108108108108109 | 0.03773584905660377  | 0.03134796238244514  | 0.2804232804232804    | 0.25                  | 0.2010443864229765    | 0.22433460076045628   | 0.27586206896551724  |\n",
            "+-----------+----------------------+----------------------+----------------------+----------------------+----------------------+----------------------+----------------------+---------------------+----------------------+----------------------+---------------------+---------------------+---------------------+---------------------+---------------------+---------------------+----------------------+---------------------+----------------------+----------------------+---------------------+----------------------+---------------------+----------------------+----------------------+-----------------------+-----------------------+-----------------------+-----------------------+----------------------+\n",
            "| vio_rt(3) | 0.012195121951219513 | 0.009523809523809525 | 0.007142857142857143 | 0.008064516129032258 | 0.009259259259259259 | 0.001379310344827586 | 0.002188183807439825 | 0.00234192037470726 | 0.003194888178913738 | 0.001567398119122257 | 0.2135500114442664  | 0.24040347436256654 | 0.26478641840087624 | 0.23817987913259864 | 0.1268357810413885  | 0.23705722070844687 | 0.305993690851735    | 0.296969696969697   | 0.26783004552352047  | 0.18172983479105928  | 0.21621621621621623 | 0.4827586206896552   | 0.35135135135135137 | 0.09433962264150944  | 0.14733542319749215  | 0.1693121693121693    | 0.13059701492537312   | 0.1566579634464752    | 0.1958174904942966    | 0.08620689655172414  |\n",
            "+-----------+----------------------+----------------------+----------------------+----------------------+----------------------+----------------------+----------------------+---------------------+----------------------+----------------------+---------------------+---------------------+---------------------+---------------------+---------------------+---------------------+----------------------+---------------------+----------------------+----------------------+---------------------+----------------------+---------------------+----------------------+----------------------+-----------------------+-----------------------+-----------------------+-----------------------+----------------------+\n",
            "| vio_rt(4) | 0.012195121951219513 | 0.009523809523809525 | 0.007142857142857143 | 0.07258064516129033  | 0.009259259259259259 | 0.001379310344827586 | 0.002188183807439825 | 0.00234192037470726 | 0.003194888178913738 | 0.001567398119122257 | 0.12909132524605174 | 0.15242364808069486 | 0.11582694414019715 | 0.14824031283327407 | 0.19025367156208278 | 0.33787465940054495 | 0.31230283911671924  | 0.2995670995670996  | 0.44992412746585736  | 0.7045675413022352   | 0.21621621621621623 | 0.3103448275862069   | 0.5135135135135135  | 0.8207547169811321   | 0.7931034482758621   | 0.0026455026455026454 | 0.0037313432835820895 | 0.0026109660574412533 | 0.0019011406844106464 | 0.017241379310344827 |\n",
            "+-----------+----------------------+----------------------+----------------------+----------------------+----------------------+----------------------+----------------------+---------------------+----------------------+----------------------+---------------------+---------------------+---------------------+---------------------+---------------------+---------------------+----------------------+---------------------+----------------------+----------------------+---------------------+----------------------+---------------------+----------------------+----------------------+-----------------------+-----------------------+-----------------------+-----------------------+----------------------+\n",
            "CPD of unit_ratio:\n",
            "+---------------+----------------------+----------------------+---------------------+---------------------+----------------------+---------------------+---------------------+---------------------+---------------------+----------------------+---------------------+---------------------+---------------------+---------------------+---------------------+---------------------+---------------------+---------------------+---------------------+---------------------+---------------------+---------------------+---------------------+----------------------+----------------------+---------------------+---------------------+---------------------+---------------------+---------------------+\n",
            "| bldgclass     | bldgclass(0)         | bldgclass(0)         | bldgclass(0)        | bldgclass(0)        | bldgclass(0)         | bldgclass(1)        | bldgclass(1)        | bldgclass(1)        | bldgclass(1)        | bldgclass(1)         | bldgclass(2)        | bldgclass(2)        | bldgclass(2)        | bldgclass(2)        | bldgclass(2)        | bldgclass(3)        | bldgclass(3)        | bldgclass(3)        | bldgclass(3)        | bldgclass(3)        | bldgclass(4)        | bldgclass(4)        | bldgclass(4)        | bldgclass(4)         | bldgclass(4)         | bldgclass(5)        | bldgclass(5)        | bldgclass(5)        | bldgclass(5)        | bldgclass(5)        |\n",
            "+---------------+----------------------+----------------------+---------------------+---------------------+----------------------+---------------------+---------------------+---------------------+---------------------+----------------------+---------------------+---------------------+---------------------+---------------------+---------------------+---------------------+---------------------+---------------------+---------------------+---------------------+---------------------+---------------------+---------------------+----------------------+----------------------+---------------------+---------------------+---------------------+---------------------+---------------------+\n",
            "| yearbuilt     | yearbuilt(0)         | yearbuilt(1)         | yearbuilt(2)        | yearbuilt(3)        | yearbuilt(4)         | yearbuilt(0)        | yearbuilt(1)        | yearbuilt(2)        | yearbuilt(3)        | yearbuilt(4)         | yearbuilt(0)        | yearbuilt(1)        | yearbuilt(2)        | yearbuilt(3)        | yearbuilt(4)        | yearbuilt(0)        | yearbuilt(1)        | yearbuilt(2)        | yearbuilt(3)        | yearbuilt(4)        | yearbuilt(0)        | yearbuilt(1)        | yearbuilt(2)        | yearbuilt(3)         | yearbuilt(4)         | yearbuilt(0)        | yearbuilt(1)        | yearbuilt(2)        | yearbuilt(3)        | yearbuilt(4)        |\n",
            "+---------------+----------------------+----------------------+---------------------+---------------------+----------------------+---------------------+---------------------+---------------------+---------------------+----------------------+---------------------+---------------------+---------------------+---------------------+---------------------+---------------------+---------------------+---------------------+---------------------+---------------------+---------------------+---------------------+---------------------+----------------------+----------------------+---------------------+---------------------+---------------------+---------------------+---------------------+\n",
            "| unit_ratio(0) | 0.024390243902439025 | 0.02857142857142857  | 0.02857142857142857 | 0.14516129032258066 | 0.009259259259259259 | 0.05655172413793103 | 0.11159737417943107 | 0.08665105386416862 | 0.08945686900958466 | 0.018808777429467086 | 0.3520256351567865  | 0.23676099747828525 | 0.21467688937568455 | 0.22573764664059723 | 0.1081441922563418  | 0.20708446866485014 | 0.08832807570977919 | 0.0735930735930736  | 0.03338391502276176 | 0.09086491739552964 | 0.21621621621621623 | 0.20689655172413793 | 0.05405405405405406 | 0.7547169811320755   | 0.06896551724137931  | 0.20899470899470898 | 0.25                | 0.3237597911227154  | 0.3060836501901141  | 0.20689655172413793 |\n",
            "+---------------+----------------------+----------------------+---------------------+---------------------+----------------------+---------------------+---------------------+---------------------+---------------------+----------------------+---------------------+---------------------+---------------------+---------------------+---------------------+---------------------+---------------------+---------------------+---------------------+---------------------+---------------------+---------------------+---------------------+----------------------+----------------------+---------------------+---------------------+---------------------+---------------------+---------------------+\n",
            "| unit_ratio(1) | 0.04878048780487805  | 0.009523809523809525 | 0.02857142857142857 | 0.03225806451612903 | 0.009259259259259259 | 0.07172413793103448 | 0.14442013129102846 | 0.1592505854800937  | 0.12779552715654952 | 0.054858934169279    | 0.16731517509727625 | 0.23031661529840292 | 0.2965498357064622  | 0.2915037326697476  | 0.1315086782376502  | 0.11716621253405994 | 0.13722397476340695 | 0.10909090909090909 | 0.15174506828528073 | 0.11078717201166181 | 0.08108108108108109 | 0.10344827586206896 | 0.3783783783783784  | 0.09433962264150944  | 0.048589341692789965 | 0.14814814814814814 | 0.17164179104477612 | 0.14882506527415143 | 0.19391634980988592 | 0.1724137931034483  |\n",
            "+---------------+----------------------+----------------------+---------------------+---------------------+----------------------+---------------------+---------------------+---------------------+---------------------+----------------------+---------------------+---------------------+---------------------+---------------------+---------------------+---------------------+---------------------+---------------------+---------------------+---------------------+---------------------+---------------------+---------------------+----------------------+----------------------+---------------------+---------------------+---------------------+---------------------+---------------------+\n",
            "| unit_ratio(2) | 0.036585365853658534 | 0.05714285714285714  | 0.04285714285714286 | 0.04032258064516129 | 0.018518518518518517 | 0.12275862068965518 | 0.11597374179431072 | 0.11475409836065574 | 0.2012779552715655  | 0.12225705329153605  | 0.15747310597390707 | 0.23732137853740543 | 0.27026286966046004 | 0.24920014219694275 | 0.14018691588785046 | 0.12534059945504086 | 0.1861198738170347  | 0.2354978354978355  | 0.18285280728376327 | 0.20942662779397472 | 0.21621621621621623 | 0.2413793103448276  | 0.35135135135135137 | 0.018867924528301886 | 0.25391849529780564  | 0.15873015873015872 | 0.17164179104477612 | 0.1618798955613577  | 0.1444866920152091  | 0.13793103448275862 |\n",
            "+---------------+----------------------+----------------------+---------------------+---------------------+----------------------+---------------------+---------------------+---------------------+---------------------+----------------------+---------------------+---------------------+---------------------+---------------------+---------------------+---------------------+---------------------+---------------------+---------------------+---------------------+---------------------+---------------------+---------------------+----------------------+----------------------+---------------------+---------------------+---------------------+---------------------+---------------------+\n",
            "| unit_ratio(3) | 0.14634146341463414  | 0.13333333333333333  | 0.07857142857142857 | 0.08870967741935484 | 0.1111111111111111   | 0.23724137931034484 | 0.16630196936542668 | 0.2154566744730679  | 0.2012779552715655  | 0.1896551724137931   | 0.16159304188601512 | 0.17960212944802464 | 0.12842278203723986 | 0.13011020263064343 | 0.24833110814419226 | 0.25885558583106266 | 0.2476340694006309  | 0.3333333333333333  | 0.38012139605462825 | 0.34110787172011664 | 0.16216216216216217 | 0.10344827586206896 | 0.05405405405405406 | 0.07547169811320754  | 0.2884012539184953   | 0.24338624338624337 | 0.1791044776119403  | 0.1514360313315927  | 0.14258555133079848 | 0.1724137931034483  |\n",
            "+---------------+----------------------+----------------------+---------------------+---------------------+----------------------+---------------------+---------------------+---------------------+---------------------+----------------------+---------------------+---------------------+---------------------+---------------------+---------------------+---------------------+---------------------+---------------------+---------------------+---------------------+---------------------+---------------------+---------------------+----------------------+----------------------+---------------------+---------------------+---------------------+---------------------+---------------------+\n",
            "| unit_ratio(4) | 0.7439024390243902   | 0.7714285714285715   | 0.8214285714285714  | 0.6935483870967742  | 0.8518518518518519   | 0.5117241379310344  | 0.4617067833698031  | 0.4238875878220141  | 0.3801916932907348  | 0.6144200626959248   | 0.16159304188601512 | 0.11599887923788176 | 0.09008762322015335 | 0.10344827586206896 | 0.3718291054739653  | 0.29155313351498635 | 0.34069400630914826 | 0.24848484848484848 | 0.251896813353566   | 0.2478134110787172  | 0.32432432432432434 | 0.3448275862068966  | 0.16216216216216217 | 0.05660377358490566  | 0.3401253918495298   | 0.24074074074074073 | 0.22761194029850745 | 0.21409921671018275 | 0.21292775665399238 | 0.3103448275862069  |\n",
            "+---------------+----------------------+----------------------+---------------------+---------------------+----------------------+---------------------+---------------------+---------------------+---------------------+----------------------+---------------------+---------------------+---------------------+---------------------+---------------------+---------------------+---------------------+---------------------+---------------------+---------------------+---------------------+---------------------+---------------------+----------------------+----------------------+---------------------+---------------------+---------------------+---------------------+---------------------+\n",
            "CPD of landuse:\n",
            "+------------+---------------------+---------------------+---------------------+----------------------+----------------------+\n",
            "| residfar   | residfar(0)         | residfar(1)         | residfar(2)         | residfar(3)          | residfar(4)          |\n",
            "+------------+---------------------+---------------------+---------------------+----------------------+----------------------+\n",
            "| landuse(0) | 0.30773574251835123 | 0.07983000229726625 | 0.02627166014533259 | 0.026936026936026935 | 0.006600660066006601 |\n",
            "+------------+---------------------+---------------------+---------------------+----------------------+----------------------+\n",
            "| landuse(1) | 0.515527950310559   | 0.6407075580059729  | 0.5276690888764674  | 0.44219977553310885  | 0.3712871287128713   |\n",
            "+------------+---------------------+---------------------+---------------------+----------------------+----------------------+\n",
            "| landuse(2) | 0.09867306606437042 | 0.13726165862623477 | 0.17663499161542762 | 0.25925925925925924  | 0.2695957095709571   |\n",
            "+------------+---------------------+---------------------+---------------------+----------------------+----------------------+\n",
            "| landuse(3) | 0.07806324110671936 | 0.14220078107052608 | 0.2694242593627725  | 0.2716049382716049   | 0.352516501650165    |\n",
            "+------------+---------------------+---------------------+---------------------+----------------------+----------------------+\n",
            "(vio_rt _|_ residfar, unit_ratio, subsidies_flag, landuse | yearbuilt, bldgclass)\n",
            "{'bldgclass': set(['bldgclass', 'subsidies_flag', 'residfar', 'yearbuilt', 'vio_rt', 'unit_ratio', 'landuse'])}\n",
            "{'subsidies_flag': set(['bldgclass', 'subsidies_flag', 'residfar', 'yearbuilt', 'vio_rt', 'unit_ratio', 'landuse'])}\n",
            "{'residfar': set(['bldgclass', 'subsidies_flag', 'residfar', 'yearbuilt', 'vio_rt', 'unit_ratio', 'landuse'])}\n",
            "{'yearbuilt': set(['bldgclass', 'subsidies_flag', 'residfar', 'yearbuilt', 'vio_rt', 'unit_ratio', 'landuse'])}\n",
            "{'vio_rt': set(['bldgclass', 'subsidies_flag', 'residfar', 'yearbuilt', 'vio_rt', 'unit_ratio', 'landuse'])}\n",
            "{'unit_ratio': set(['bldgclass', 'subsidies_flag', 'residfar', 'yearbuilt', 'vio_rt', 'unit_ratio', 'landuse'])}\n",
            "{'landuse': set(['bldgclass', 'subsidies_flag', 'residfar', 'yearbuilt', 'vio_rt', 'unit_ratio', 'landuse'])}\n"
          ],
          "name": "stdout"
        }
      ]
    }
  ]
}