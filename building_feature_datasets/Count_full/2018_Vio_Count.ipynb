{
  "nbformat": 4,
  "nbformat_minor": 0,
  "metadata": {
    "colab": {
      "name": "2018_Vio_Count.ipynb",
      "version": "0.3.2",
      "provenance": [],
      "collapsed_sections": []
    },
    "kernelspec": {
      "name": "python2",
      "display_name": "Python 2"
    }
  },
  "cells": [
    {
      "cell_type": "code",
      "metadata": {
        "id": "maDxXMADfiDP",
        "colab_type": "code",
        "outputId": "c2b6d4ea-9cd9-40db-afc0-f24b1972df6e",
        "colab": {
          "resources": {
            "http://localhost:8080/nbextensions/google.colab/files.js": {
              "data": "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",
              "ok": true,
              "headers": [
                [
                  "content-type",
                  "application/javascript"
                ]
              ],
              "status": 200,
              "status_text": ""
            }
          },
          "base_uri": "https://localhost:8080/",
          "height": 71
        }
      },
      "source": [
        "import numpy as np\n",
        "import pandas as pd\n",
        "\n",
        "from google.colab import files\n",
        "uploaded = files.upload()"
      ],
      "execution_count": 0,
      "outputs": [
        {
          "output_type": "display_data",
          "data": {
            "text/plain": [
              "<IPython.core.display.HTML object>"
            ],
            "text/html": [
              "\n",
              "     <input type=\"file\" id=\"files-be6ed780-f2a8-4c58-b366-a21c67735b04\" name=\"files[]\" multiple disabled />\n",
              "     <output id=\"result-be6ed780-f2a8-4c58-b366-a21c67735b04\">\n",
              "      Upload widget is only available when the cell has been executed in the\n",
              "      current browser session. Please rerun this cell to enable.\n",
              "      </output>\n",
              "      <script src=\"/nbextensions/google.colab/files.js\"></script> "
            ]
          },
          "metadata": {
            "tags": []
          }
        },
        {
          "output_type": "stream",
          "text": [
            "Saving data18smaller_4_2.csv to data18smaller_4_2.csv\n"
          ],
          "name": "stdout"
        }
      ]
    },
    {
      "cell_type": "code",
      "metadata": {
        "id": "Iu068N1KgOmh",
        "colab_type": "code",
        "outputId": "eee52141-de48-4003-a37b-40ace57da1e1",
        "colab": {
          "base_uri": "https://localhost:8080/",
          "height": 51
        }
      },
      "source": [
        "!unzip \"data16smaller_1.csv.zip\""
      ],
      "execution_count": 0,
      "outputs": [
        {
          "output_type": "stream",
          "text": [
            "Archive:  data18smaller_1.csv.zip\n",
            "  inflating: data18smaller_1.csv     \n"
          ],
          "name": "stdout"
        }
      ]
    },
    {
      "cell_type": "code",
      "metadata": {
        "id": "G54IzR7LgT6G",
        "colab_type": "code",
        "colab": {}
      },
      "source": [
        "data16smaller = pd.read_csv(\"data18smaller_3_2.csv\", low_memory = False, dtype = {'subsidies_flag':\"int64\"})\n",
        "data16smaller.head()"
      ],
      "execution_count": 0,
      "outputs": []
    },
    {
      "cell_type": "code",
      "metadata": {
        "id": "xnzsTU5ShUvj",
        "colab_type": "code",
        "outputId": "b9d7b2c2-4790-48f5-cea6-8f0de2a6c1ff",
        "colab": {
          "base_uri": "https://localhost:8080/",
          "height": 122
        }
      },
      "source": [
        "!pip install pgmpy==0.1.7\n",
        "from pgmpy.estimators import HillClimbSearch, BicScore, BayesianEstimator\n",
        "from pgmpy.models import BayesianModel\n",
        "from sklearn.model_selection import train_test_split\n",
        "from pgmpy.inference import VariableElimination"
      ],
      "execution_count": 0,
      "outputs": [
        {
          "output_type": "stream",
          "text": [
            "Requirement already satisfied: pgmpy==0.1.7 in /usr/local/lib/python2.7/dist-packages (0.1.7)\n",
            "Requirement already satisfied: scipy>=1.0.0 in /usr/local/lib/python2.7/dist-packages (from pgmpy==0.1.7) (1.2.1)\n",
            "Requirement already satisfied: networkx<1.12,>=1.11 in /usr/local/lib/python2.7/dist-packages (from pgmpy==0.1.7) (1.11)\n",
            "Requirement already satisfied: numpy>=1.14.0 in /usr/local/lib/python2.7/dist-packages (from pgmpy==0.1.7) (1.16.3)\n",
            "Requirement already satisfied: decorator>=3.4.0 in /usr/local/lib/python2.7/dist-packages (from networkx<1.12,>=1.11->pgmpy==0.1.7) (4.4.0)\n"
          ],
          "name": "stdout"
        }
      ]
    },
    {
      "cell_type": "code",
      "metadata": {
        "id": "wym8MrPPiiu0",
        "colab_type": "code",
        "colab": {}
      },
      "source": [
        "from collections import defaultdict\n",
        "from pgmpy.inference import VariableElimination\n",
        "def temp_predict(model,data):\n",
        "    missing_variables = list(set(model.nodes()) - set(data.columns))\n",
        "    pred_values = defaultdict(list)\n",
        "    model_inference = VariableElimination(model)\n",
        "    for index, data_point in data.iterrows():\n",
        "        states_dict = model_inference.map_query(variables=missing_variables, evidence=data_point.astype(int).to_dict())\n",
        "        for k, v in states_dict.items():\n",
        "            pred_values[k].append(v)\n",
        "    return pd.DataFrame(pred_values, index=data.index)"
      ],
      "execution_count": 0,
      "outputs": []
    },
    {
      "cell_type": "code",
      "metadata": {
        "id": "ka5rRPa6hELy",
        "colab_type": "code",
        "outputId": "66538d68-8c85-468a-971b-1161ebeebbd3",
        "colab": {
          "base_uri": "https://localhost:8080/",
          "height": 54
        }
      },
      "source": [
        "data16train, data16test = train_test_split(data16smaller,random_state=9,test_size=0.2)\n",
        "hc = HillClimbSearch(data16train, scoring_method=BicScore(data16train))\n",
        "best_model = hc.estimate()\n",
        "print(best_model.edges())"
      ],
      "execution_count": 0,
      "outputs": [
        {
          "output_type": "stream",
          "text": [
            "[('bldgclass', 'unit_ratio'), ('bldgclass', 'subsidies_flag'), ('bldgclass', 'landuse'), ('residfar', 'subsidies_flag'), ('yearbuilt', 'residfar'), ('yearbuilt', 'unit_ratio'), ('yearbuilt', 'violations'), ('yearbuilt', 'landuse'), ('yearbuilt', 'bldgclass'), ('violations', 'bldgclass'), ('landuse', 'residfar')]\n"
          ],
          "name": "stdout"
        }
      ]
    },
    {
      "cell_type": "code",
      "metadata": {
        "id": "M9jqSapEaC5c",
        "colab_type": "code",
        "outputId": "ad401fbc-b2de-4d4e-9078-fa348d217b80",
        "colab": {
          "base_uri": "https://localhost:8080/",
          "height": 1805
        }
      },
      "source": [
        "best_model.fit(data16train, estimator=BayesianEstimator, prior_type='K2')\n",
        "\n",
        "for cpd in best_model.get_cpds():\n",
        "    print(\"CPD of {variable}:\".format(variable=cpd.variable))\n",
        "    print(cpd)\n",
        "    \n",
        "print best_model.local_independencies('violations')\n",
        "\n",
        "for thenode in best_model.nodes():\n",
        "    print best_model.active_trail_nodes(thenode)"
      ],
      "execution_count": 0,
      "outputs": [
        {
          "output_type": "stream",
          "text": [
            "CPD of bldgclass:\n",
            "+--------------+----------------------+---------------------+----------------------+---------------------+----------------------+-----------------------+----------------------+----------------------+----------------------+----------------------+----------------------+----------------------+----------------------+----------------------+-----------------------+\n",
            "| violations   | violations(0)        | violations(0)       | violations(0)        | violations(0)       | violations(0)        | violations(1)         | violations(1)        | violations(1)        | violations(1)        | violations(1)        | violations(2)        | violations(2)        | violations(2)        | violations(2)        | violations(2)         |\n",
            "+--------------+----------------------+---------------------+----------------------+---------------------+----------------------+-----------------------+----------------------+----------------------+----------------------+----------------------+----------------------+----------------------+----------------------+----------------------+-----------------------+\n",
            "| yearbuilt    | yearbuilt(0)         | yearbuilt(1)        | yearbuilt(2)         | yearbuilt(3)        | yearbuilt(4)         | yearbuilt(0)          | yearbuilt(1)         | yearbuilt(2)         | yearbuilt(3)         | yearbuilt(4)         | yearbuilt(0)         | yearbuilt(1)         | yearbuilt(2)         | yearbuilt(3)         | yearbuilt(4)          |\n",
            "+--------------+----------------------+---------------------+----------------------+---------------------+----------------------+-----------------------+----------------------+----------------------+----------------------+----------------------+----------------------+----------------------+----------------------+----------------------+-----------------------+\n",
            "| bldgclass(0) | 0.01663485137714753  | 0.03520060560181681 | 0.035277680754453374 | 0.03529411764705882 | 0.027163613392293114 | 0.007855459544383346  | 0.011038430089942763 | 0.008556981719175419 | 0.011029411764705883 | 0.007313505607020965 | 0.024096385542168676 | 0.005714285714285714 | 0.004048582995951417 | 0.004629629629629629 | 0.007547169811320755  |\n",
            "+--------------+----------------------+---------------------+----------------------+---------------------+----------------------+-----------------------+----------------------+----------------------+----------------------+----------------------+----------------------+----------------------+----------------------+----------------------+-----------------------+\n",
            "| bldgclass(1) | 0.13335151349877283  | 0.13096139288417866 | 0.12434509256025149  | 0.08907563025210084 | 0.1914087176247631   | 0.060487038491751764  | 0.03556827473426002  | 0.02956048230260599  | 0.024101307189542485 | 0.060945880058508047 | 0.012048192771084338 | 0.005714285714285714 | 0.008097165991902834 | 0.004629629629629629 | 0.0037735849056603774 |\n",
            "+--------------+----------------------+---------------------+----------------------+---------------------+----------------------+-----------------------+----------------------+----------------------+----------------------+----------------------+----------------------+----------------------+----------------------+----------------------+-----------------------+\n",
            "| bldgclass(2) | 0.7101172620670848   | 0.6317183951551855  | 0.5979741529863779   | 0.5314285714285715  | 0.3205938092229943   | 0.7882953652788688    | 0.741210139002453    | 0.6234928043562816   | 0.5735294117647058   | 0.25353486104339346  | 0.6265060240963856   | 0.8114285714285714   | 0.5546558704453441   | 0.2175925925925926   | 0.011320754716981131  |\n",
            "+--------------+----------------------+---------------------+----------------------+---------------------+----------------------+-----------------------+----------------------+----------------------+----------------------+----------------------+----------------------+----------------------+----------------------+----------------------+-----------------------+\n",
            "| bldgclass(3) | 0.05126806653940551  | 0.12452687358062074 | 0.14809640237513097  | 0.21042016806722688 | 0.34301958307012004  | 0.08758837391987431   | 0.17007358953393295  | 0.29210423959548815  | 0.309640522875817    | 0.5572891272549976   | 0.3132530120481928   | 0.16                 | 0.41295546558704455  | 0.4166666666666667   | 0.969811320754717     |\n",
            "+--------------+----------------------+---------------------+----------------------+---------------------+----------------------+-----------------------+----------------------+----------------------+----------------------+----------------------+----------------------+----------------------+----------------------+----------------------+-----------------------+\n",
            "| bldgclass(4) | 0.012271611671666212 | 0.00757002271006813 | 0.007334963325183374 | 0.01815126050420168 | 0.10360075805432722  | 0.0054988216810683424 | 0.006950122649223222 | 0.004667444574095682 | 0.012663398692810458 | 0.10823988298391028  | 0.012048192771084338 | 0.005714285714285714 | 0.004048582995951417 | 0.3472222222222222   | 0.0037735849056603774 |\n",
            "+--------------+----------------------+---------------------+----------------------+---------------------+----------------------+-----------------------+----------------------+----------------------+----------------------+----------------------+----------------------+----------------------+----------------------+----------------------+-----------------------+\n",
            "| bldgclass(5) | 0.0763566948459231   | 0.0700227100681302  | 0.08697170799860286  | 0.11563025210084034 | 0.014213518635502211 | 0.05027494108405342   | 0.03515944399018806  | 0.04161804745235317  | 0.0690359477124183   | 0.012676743052169674 | 0.012048192771084338 | 0.011428571428571429 | 0.016194331983805668 | 0.009259259259259259 | 0.0037735849056603774 |\n",
            "+--------------+----------------------+---------------------+----------------------+---------------------+----------------------+-----------------------+----------------------+----------------------+----------------------+----------------------+----------------------+----------------------+----------------------+----------------------+-----------------------+\n",
            "CPD of subsidies_flag:\n",
            "+-------------------+----------------------+----------------------+---------------------+---------------------+--------------------+-----------------------+-----------------------+--------------+----------------------+---------------------+---------------------+--------------------+---------------------+--------------------+---------------------+---------------------+--------------------+---------------------+--------------------+--------------------+---------------------+--------------------+--------------+---------------------+---------------------+----------------------+----------------------+----------------------+--------------+----------------------+\n",
            "| bldgclass         | bldgclass(0)         | bldgclass(0)         | bldgclass(0)        | bldgclass(0)        | bldgclass(0)       | bldgclass(1)          | bldgclass(1)          | bldgclass(1) | bldgclass(1)         | bldgclass(1)        | bldgclass(2)        | bldgclass(2)       | bldgclass(2)        | bldgclass(2)       | bldgclass(2)        | bldgclass(3)        | bldgclass(3)       | bldgclass(3)        | bldgclass(3)       | bldgclass(3)       | bldgclass(4)        | bldgclass(4)       | bldgclass(4) | bldgclass(4)        | bldgclass(4)        | bldgclass(5)         | bldgclass(5)         | bldgclass(5)         | bldgclass(5) | bldgclass(5)         |\n",
            "+-------------------+----------------------+----------------------+---------------------+---------------------+--------------------+-----------------------+-----------------------+--------------+----------------------+---------------------+---------------------+--------------------+---------------------+--------------------+---------------------+---------------------+--------------------+---------------------+--------------------+--------------------+---------------------+--------------------+--------------+---------------------+---------------------+----------------------+----------------------+----------------------+--------------+----------------------+\n",
            "| residfar          | residfar(0)          | residfar(1)          | residfar(2)         | residfar(3)         | residfar(4)        | residfar(0)           | residfar(1)           | residfar(2)  | residfar(3)          | residfar(4)         | residfar(0)         | residfar(1)        | residfar(2)         | residfar(3)        | residfar(4)         | residfar(0)         | residfar(1)        | residfar(2)         | residfar(3)        | residfar(4)        | residfar(0)         | residfar(1)        | residfar(2)  | residfar(3)         | residfar(4)         | residfar(0)          | residfar(1)          | residfar(2)          | residfar(3)  | residfar(4)          |\n",
            "+-------------------+----------------------+----------------------+---------------------+---------------------+--------------------+-----------------------+-----------------------+--------------+----------------------+---------------------+---------------------+--------------------+---------------------+--------------------+---------------------+---------------------+--------------------+---------------------+--------------------+--------------------+---------------------+--------------------+--------------+---------------------+---------------------+----------------------+----------------------+----------------------+--------------+----------------------+\n",
            "| subsidies_flag(0) | 0.9978632478632479   | 0.9824561403508771   | 0.9285714285714286  | 0.9090909090909091  | 0.8888888888888888 | 0.9994425863991081    | 0.9983498349834984    | 0.96875      | 0.989247311827957    | 0.9743589743589743  | 0.9592773157441927  | 0.8756244616709733 | 0.8673285198555957  | 0.7442687747035573 | 0.8692946058091287  | 0.8386714116251482  | 0.6874546773023931 | 0.8147321428571429  | 0.6719543147208121 | 0.8214936247723132 | 0.908745247148289   | 0.6012861736334405 | 0.4          | 0.5808823529411765  | 0.8494623655913979  | 0.9933993399339934   | 0.984472049689441    | 0.9416342412451362   | 0.975        | 0.9794117647058823   |\n",
            "+-------------------+----------------------+----------------------+---------------------+---------------------+--------------------+-----------------------+-----------------------+--------------+----------------------+---------------------+---------------------+--------------------+---------------------+--------------------+---------------------+---------------------+--------------------+---------------------+--------------------+--------------------+---------------------+--------------------+--------------+---------------------+---------------------+----------------------+----------------------+----------------------+--------------+----------------------+\n",
            "| subsidies_flag(1) | 0.002136752136752137 | 0.017543859649122806 | 0.07142857142857142 | 0.09090909090909091 | 0.1111111111111111 | 0.0005574136008918618 | 0.0016501650165016502 | 0.03125      | 0.010752688172043012 | 0.02564102564102564 | 0.04072268425580729 | 0.1243755383290267 | 0.13267148014440433 | 0.2557312252964427 | 0.13070539419087138 | 0.16132858837485173 | 0.312545322697607  | 0.18526785714285715 | 0.3280456852791878 | 0.1785063752276867 | 0.09125475285171103 | 0.3987138263665595 | 0.6          | 0.41911764705882354 | 0.15053763440860216 | 0.006600660066006601 | 0.015527950310559006 | 0.058365758754863814 | 0.025        | 0.020588235294117647 |\n",
            "+-------------------+----------------------+----------------------+---------------------+---------------------+--------------------+-----------------------+-----------------------+--------------+----------------------+---------------------+---------------------+--------------------+---------------------+--------------------+---------------------+---------------------+--------------------+---------------------+--------------------+--------------------+---------------------+--------------------+--------------+---------------------+---------------------+----------------------+----------------------+----------------------+--------------+----------------------+\n",
            "CPD of residfar:\n",
            "+-------------+---------------------+----------------------+----------------------+----------------------+----------------------+---------------------+---------------------+---------------------+----------------------+---------------------+----------------------+----------------------+---------------------+---------------------+---------------------+----------------------+---------------------+---------------------+--------------+---------------------+\n",
            "| landuse     | landuse(0)          | landuse(0)           | landuse(0)           | landuse(0)           | landuse(0)           | landuse(1)          | landuse(1)          | landuse(1)          | landuse(1)           | landuse(1)          | landuse(2)           | landuse(2)           | landuse(2)          | landuse(2)          | landuse(2)          | landuse(3)           | landuse(3)          | landuse(3)          | landuse(3)   | landuse(3)          |\n",
            "+-------------+---------------------+----------------------+----------------------+----------------------+----------------------+---------------------+---------------------+---------------------+----------------------+---------------------+----------------------+----------------------+---------------------+---------------------+---------------------+----------------------+---------------------+---------------------+--------------+---------------------+\n",
            "| yearbuilt   | yearbuilt(0)        | yearbuilt(1)         | yearbuilt(2)         | yearbuilt(3)         | yearbuilt(4)         | yearbuilt(0)        | yearbuilt(1)        | yearbuilt(2)        | yearbuilt(3)         | yearbuilt(4)        | yearbuilt(0)         | yearbuilt(1)         | yearbuilt(2)        | yearbuilt(3)        | yearbuilt(4)        | yearbuilt(0)         | yearbuilt(1)        | yearbuilt(2)        | yearbuilt(3) | yearbuilt(4)        |\n",
            "+-------------+---------------------+----------------------+----------------------+----------------------+----------------------+---------------------+---------------------+---------------------+----------------------+---------------------+----------------------+----------------------+---------------------+---------------------+---------------------+----------------------+---------------------+---------------------+--------------+---------------------+\n",
            "| residfar(0) | 0.4283746556473829  | 0.7454873646209387   | 0.8025134649910234   | 0.9037199124726477   | 0.8141486810551559   | 0.0806692560501942  | 0.14214992927864215 | 0.26713947990543735 | 0.4420494699646643   | 0.4281298299845441  | 0.023026315789473683 | 0.02555366269165247  | 0.08545269582909461 | 0.14887218045112782 | 0.24032105760151085 | 0.045288912024986985 | 0.06712962962962964 | 0.14805414551607446 | 0.1484375    | 0.07445008460236886 |\n",
            "+-------------+---------------------+----------------------+----------------------+----------------------+----------------------+---------------------+---------------------+---------------------+----------------------+---------------------+----------------------+----------------------+---------------------+---------------------+---------------------+----------------------+---------------------+---------------------+--------------+---------------------+\n",
            "| residfar(1) | 0.418732782369146   | 0.19855595667870035  | 0.16337522441651706  | 0.08096280087527352  | 0.14628297362110312  | 0.38123692859276964 | 0.32885431400282883 | 0.44376899696048633 | 0.40035335689045937  | 0.3972179289026275  | 0.18421052631578946  | 0.15502555366269166  | 0.18107833163784334 | 0.2654135338345865  | 0.29745042492917845 | 0.13326392503904216  | 0.2175925925925926  | 0.3020304568527919  | 0.3583984375 | 0.2571912013536379  |\n",
            "+-------------+---------------------+----------------------+----------------------+----------------------+----------------------+---------------------+---------------------+---------------------+----------------------+---------------------+----------------------+----------------------+---------------------+---------------------+---------------------+----------------------+---------------------+---------------------+--------------+---------------------+\n",
            "| residfar(2) | 0.03581267217630854 | 0.018050541516245487 | 0.010771992818671455 | 0.006564551422319475 | 0.002398081534772182 | 0.08425455631909172 | 0.07885431400282886 | 0.07193515704154002 | 0.05088339222614841  | 0.04327666151468315 | 0.06907894736842106  | 0.054514480408858604 | 0.07731434384537131 | 0.07218045112781955 | 0.08404154863078375 | 0.0614263404476835   | 0.07021604938271606 | 0.09306260575296109 | 0.1376953125 | 0.077834179357022   |\n",
            "+-------------+---------------------+----------------------+----------------------+----------------------+----------------------+---------------------+---------------------+---------------------+----------------------+---------------------+----------------------+----------------------+---------------------+---------------------+---------------------+----------------------+---------------------+---------------------+--------------+---------------------+\n",
            "| residfar(3) | 0.07713498622589532 | 0.02888086642599278  | 0.010771992818671455 | 0.00437636761487965  | 0.02997601918465228  | 0.19211233940842545 | 0.20615275813295617 | 0.11550151975683891 | 0.051590106007067135 | 0.08964451313755796 | 0.24342105263157895  | 0.30664395229982966  | 0.30925737538148523 | 0.18045112781954886 | 0.1676109537299339  | 0.21759500260281103  | 0.24768518518518517 | 0.1988155668358714  | 0.1787109375 | 0.22165820642978004 |\n",
            "+-------------+---------------------+----------------------+----------------------+----------------------+----------------------+---------------------+---------------------+---------------------+----------------------+---------------------+----------------------+----------------------+---------------------+---------------------+---------------------+----------------------+---------------------+---------------------+--------------+---------------------+\n",
            "| residfar(4) | 0.03994490358126722 | 0.009025270758122744 | 0.012567324955116697 | 0.00437636761487965  | 0.007194244604316547 | 0.261726919629519   | 0.24398868458274398 | 0.1016548463356974  | 0.05512367491166078  | 0.04173106646058733 | 0.48026315789473684  | 0.45826235093696766  | 0.34689725330620547 | 0.3330827067669173  | 0.210576015108593   | 0.5424258198854763   | 0.39737654320987653 | 0.2580372250423012  | 0.1767578125 | 0.3688663282571912  |\n",
            "+-------------+---------------------+----------------------+----------------------+----------------------+----------------------+---------------------+---------------------+---------------------+----------------------+---------------------+----------------------+----------------------+---------------------+---------------------+---------------------+----------------------+---------------------+---------------------+--------------+---------------------+\n",
            "CPD of yearbuilt:\n",
            "+--------------+----------+\n",
            "| yearbuilt(0) | 0.222061 |\n",
            "+--------------+----------+\n",
            "| yearbuilt(1) | 0.185528 |\n",
            "+--------------+----------+\n",
            "| yearbuilt(2) | 0.200311 |\n",
            "+--------------+----------+\n",
            "| yearbuilt(3) | 0.198826 |\n",
            "+--------------+----------+\n",
            "| yearbuilt(4) | 0.193273 |\n",
            "+--------------+----------+\n",
            "CPD of unit_ratio:\n",
            "+---------------+----------------------+----------------------+----------------------+----------------------+----------------------+---------------------+---------------------+---------------------+---------------------+---------------------+---------------------+---------------------+---------------------+---------------------+---------------------+---------------------+---------------------+---------------------+----------------------+---------------------+---------------------+--------------+---------------------+----------------------+---------------------+---------------------+---------------------+---------------------+---------------------+---------------------+\n",
            "| bldgclass     | bldgclass(0)         | bldgclass(0)         | bldgclass(0)         | bldgclass(0)         | bldgclass(0)         | bldgclass(1)        | bldgclass(1)        | bldgclass(1)        | bldgclass(1)        | bldgclass(1)        | bldgclass(2)        | bldgclass(2)        | bldgclass(2)        | bldgclass(2)        | bldgclass(2)        | bldgclass(3)        | bldgclass(3)        | bldgclass(3)        | bldgclass(3)         | bldgclass(3)        | bldgclass(4)        | bldgclass(4) | bldgclass(4)        | bldgclass(4)         | bldgclass(4)        | bldgclass(5)        | bldgclass(5)        | bldgclass(5)        | bldgclass(5)        | bldgclass(5)        |\n",
            "+---------------+----------------------+----------------------+----------------------+----------------------+----------------------+---------------------+---------------------+---------------------+---------------------+---------------------+---------------------+---------------------+---------------------+---------------------+---------------------+---------------------+---------------------+---------------------+----------------------+---------------------+---------------------+--------------+---------------------+----------------------+---------------------+---------------------+---------------------+---------------------+---------------------+---------------------+\n",
            "| yearbuilt     | yearbuilt(0)         | yearbuilt(1)         | yearbuilt(2)         | yearbuilt(3)         | yearbuilt(4)         | yearbuilt(0)        | yearbuilt(1)        | yearbuilt(2)        | yearbuilt(3)        | yearbuilt(4)        | yearbuilt(0)        | yearbuilt(1)        | yearbuilt(2)        | yearbuilt(3)        | yearbuilt(4)        | yearbuilt(0)        | yearbuilt(1)        | yearbuilt(2)        | yearbuilt(3)         | yearbuilt(4)        | yearbuilt(0)        | yearbuilt(1) | yearbuilt(2)        | yearbuilt(3)         | yearbuilt(4)        | yearbuilt(0)        | yearbuilt(1)        | yearbuilt(2)        | yearbuilt(3)        | yearbuilt(4)        |\n",
            "+---------------+----------------------+----------------------+----------------------+----------------------+----------------------+---------------------+---------------------+---------------------+---------------------+---------------------+---------------------+---------------------+---------------------+---------------------+---------------------+---------------------+---------------------+---------------------+----------------------+---------------------+---------------------+--------------+---------------------+----------------------+---------------------+---------------------+---------------------+---------------------+---------------------+---------------------+\n",
            "| unit_ratio(0) | 0.03529411764705882  | 0.056910569105691054 | 0.007936507936507936 | 0.037037037037037035 | 0.009523809523809525 | 0.11609907120743033 | 0.10321100917431193 | 0.15825688073394495 | 0.327217125382263   | 0.10762942779291552 | 0.419935691318328   | 0.26971869829012685 | 0.23103647944412276 | 0.21555702043506922 | 0.16688311688311688 | 0.20501138952164008 | 0.11612903225806452 | 0.08991399530883502 | 0.025745257452574527 | 0.09847266881028939 | 0.25806451612903225 | 0.25         | 0.1388888888888889  | 0.24074074074074073  | 0.0705244122965642  | 0.20681265206812652 | 0.21818181818181817 | 0.32320441988950277 | 0.30947775628626695 | 0.22972972972972974 |\n",
            "+---------------+----------------------+----------------------+----------------------+----------------------+----------------------+---------------------+---------------------+---------------------+---------------------+---------------------+---------------------+---------------------+---------------------+---------------------+---------------------+---------------------+---------------------+---------------------+----------------------+---------------------+---------------------+--------------+---------------------+----------------------+---------------------+---------------------+---------------------+---------------------+---------------------+---------------------+\n",
            "| unit_ratio(1) | 0.047058823529411764 | 0.016260162601626018 | 0.015873015873015872 | 0.014814814814814815 | 0.009523809523809525 | 0.15944272445820434 | 0.20871559633027523 | 0.1834862385321101  | 0.1559633027522936  | 0.08446866485013624 | 0.18156484458735261 | 0.234142305570877   | 0.3115228720324262  | 0.3269611074489123  | 0.19480519480519481 | 0.14578587699316628 | 0.13161290322580646 | 0.12431587177482409 | 0.17479674796747968  | 0.13384244372990353 | 0.06451612903225806 | 0.175        | 0.3611111111111111  | 0.6419753086419753   | 0.12115732368896925 | 0.15815085158150852 | 0.16                | 0.1878453038674033  | 0.17988394584139264 | 0.24324324324324326 |\n",
            "+---------------+----------------------+----------------------+----------------------+----------------------+----------------------+---------------------+---------------------+---------------------+---------------------+---------------------+---------------------+---------------------+---------------------+---------------------+---------------------+---------------------+---------------------+---------------------+----------------------+---------------------+---------------------+--------------+---------------------+----------------------+---------------------+---------------------+---------------------+---------------------+---------------------+---------------------+\n",
            "| unit_ratio(2) | 0.023529411764705882 | 0.0975609756097561   | 0.06349206349206349  | 0.15555555555555556  | 0.02857142857142857  | 0.14086687306501547 | 0.14908256880733944 | 0.12155963302752294 | 0.16819571865443425 | 0.13896457765667575 | 0.16334405144694533 | 0.24324324324324326 | 0.27504342790966996 | 0.25609756097560976 | 0.17727272727272728 | 0.1480637813211845  | 0.1896774193548387  | 0.23143080531665364 | 0.17818428184281843  | 0.20337620578778134 | 0.11290322580645161 | 0.275        | 0.3333333333333333  | 0.05555555555555555  | 0.162748643761302   | 0.1362530413625304  | 0.1890909090909091  | 0.12430939226519337 | 0.16247582205029013 | 0.16216216216216217 |\n",
            "+---------------+----------------------+----------------------+----------------------+----------------------+----------------------+---------------------+---------------------+---------------------+---------------------+---------------------+---------------------+---------------------+---------------------+---------------------+---------------------+---------------------+---------------------+---------------------+----------------------+---------------------+---------------------+--------------+---------------------+----------------------+---------------------+---------------------+---------------------+---------------------+---------------------+---------------------+\n",
            "| unit_ratio(3) | 0.058823529411764705 | 0.0975609756097561   | 0.0873015873015873   | 0.14074074074074075  | 0.12380952380952381  | 0.2739938080495356  | 0.21788990825688073 | 0.21330275229357798 | 0.1437308868501529  | 0.2724795640326976  | 0.13011789924973205 | 0.15223386651958082 | 0.11928199189345687 | 0.12689518787079762 | 0.2474025974025974  | 0.23462414578587698 | 0.23483870967741935 | 0.3127443315089914  | 0.3699186991869919   | 0.33038585209003213 | 0.3064516129032258  | 0.1          | 0.08333333333333333 | 0.024691358024691357 | 0.35985533453887886 | 0.1922141119221411  | 0.14909090909090908 | 0.1574585635359116  | 0.13733075435203096 | 0.0945945945945946  |\n",
            "+---------------+----------------------+----------------------+----------------------+----------------------+----------------------+---------------------+---------------------+---------------------+---------------------+---------------------+---------------------+---------------------+---------------------+---------------------+---------------------+---------------------+---------------------+---------------------+----------------------+---------------------+---------------------+--------------+---------------------+----------------------+---------------------+---------------------+---------------------+---------------------+---------------------+---------------------+\n",
            "| unit_ratio(4) | 0.8352941176470589   | 0.7317073170731707   | 0.8253968253968254   | 0.6518518518518519   | 0.8285714285714286   | 0.30959752321981426 | 0.3211009174311927  | 0.32339449541284404 | 0.20489296636085627 | 0.39645776566757496 | 0.10503751339764202 | 0.10066188637617209 | 0.06311522872032427 | 0.07448912326961107 | 0.21363636363636362 | 0.26651480637813213 | 0.327741935483871   | 0.24159499609069585 | 0.2513550135501355   | 0.23392282958199356 | 0.25806451612903225 | 0.2          | 0.08333333333333333 | 0.037037037037037035 | 0.2857142857142857  | 0.30656934306569344 | 0.28363636363636363 | 0.20718232044198895 | 0.21083172147001933 | 0.2702702702702703  |\n",
            "+---------------+----------------------+----------------------+----------------------+----------------------+----------------------+---------------------+---------------------+---------------------+---------------------+---------------------+---------------------+---------------------+---------------------+---------------------+---------------------+---------------------+---------------------+---------------------+----------------------+---------------------+---------------------+--------------+---------------------+----------------------+---------------------+---------------------+---------------------+---------------------+---------------------+---------------------+\n",
            "CPD of violations:\n",
            "+---------------+----------------------+---------------------+----------------------+---------------------+---------------------+\n",
            "| yearbuilt     | yearbuilt(0)         | yearbuilt(1)        | yearbuilt(2)         | yearbuilt(3)        | yearbuilt(4)        |\n",
            "+---------------+----------------------+---------------------+----------------------+---------------------+---------------------+\n",
            "| violations(0) | 0.5830281802260786   | 0.5024771341463414  | 0.5044122837980939   | 0.5280938833570412  | 0.578196451435888   |\n",
            "+---------------+----------------------+---------------------+----------------------+---------------------+---------------------+\n",
            "| violations(1) | 0.404553415061296    | 0.4651295731707317  | 0.45287680903635724  | 0.43438833570412516 | 0.37424547283702214 |\n",
            "+---------------+----------------------+---------------------+----------------------+---------------------+---------------------+\n",
            "| violations(2) | 0.012418404712625378 | 0.03239329268292683 | 0.042710907165548886 | 0.03751778093883357 | 0.04755807572708981 |\n",
            "+---------------+----------------------+---------------------+----------------------+---------------------+---------------------+\n",
            "CPD of landuse:\n",
            "+------------+----------------------+---------------------+--------------+----------------------+----------------------+-----------------------+-----------------------+-----------------------+----------------------+----------------------+-----------------------+------------------------+-----------------------+-----------------------+----------------------+---------------------+-----------------------+----------------------+-----------------------+-----------------------+---------------------+---------------------+---------------------+----------------------+-----------------------+-----------------------+-----------------------+----------------------+----------------------+--------------------+\n",
            "| bldgclass  | bldgclass(0)         | bldgclass(0)        | bldgclass(0) | bldgclass(0)         | bldgclass(0)         | bldgclass(1)          | bldgclass(1)          | bldgclass(1)          | bldgclass(1)         | bldgclass(1)         | bldgclass(2)          | bldgclass(2)           | bldgclass(2)          | bldgclass(2)          | bldgclass(2)         | bldgclass(3)        | bldgclass(3)          | bldgclass(3)         | bldgclass(3)          | bldgclass(3)          | bldgclass(4)        | bldgclass(4)        | bldgclass(4)        | bldgclass(4)         | bldgclass(4)          | bldgclass(5)          | bldgclass(5)          | bldgclass(5)         | bldgclass(5)         | bldgclass(5)       |\n",
            "+------------+----------------------+---------------------+--------------+----------------------+----------------------+-----------------------+-----------------------+-----------------------+----------------------+----------------------+-----------------------+------------------------+-----------------------+-----------------------+----------------------+---------------------+-----------------------+----------------------+-----------------------+-----------------------+---------------------+---------------------+---------------------+----------------------+-----------------------+-----------------------+-----------------------+----------------------+----------------------+--------------------+\n",
            "| yearbuilt  | yearbuilt(0)         | yearbuilt(1)        | yearbuilt(2) | yearbuilt(3)         | yearbuilt(4)         | yearbuilt(0)          | yearbuilt(1)          | yearbuilt(2)          | yearbuilt(3)         | yearbuilt(4)         | yearbuilt(0)          | yearbuilt(1)           | yearbuilt(2)          | yearbuilt(3)          | yearbuilt(4)         | yearbuilt(0)        | yearbuilt(1)          | yearbuilt(2)         | yearbuilt(3)          | yearbuilt(4)          | yearbuilt(0)        | yearbuilt(1)        | yearbuilt(2)        | yearbuilt(3)         | yearbuilt(4)          | yearbuilt(0)          | yearbuilt(1)          | yearbuilt(2)         | yearbuilt(3)         | yearbuilt(4)       |\n",
            "+------------+----------------------+---------------------+--------------+----------------------+----------------------+-----------------------+-----------------------+-----------------------+----------------------+----------------------+-----------------------+------------------------+-----------------------+-----------------------+----------------------+---------------------+-----------------------+----------------------+-----------------------+-----------------------+---------------------+---------------------+---------------------+----------------------+-----------------------+-----------------------+-----------------------+----------------------+----------------------+--------------------+\n",
            "| landuse(0) | 0.9642857142857143   | 0.9754098360655737  | 0.976        | 0.9776119402985075   | 0.9711538461538461   | 0.9953488372093023    | 0.993103448275862     | 0.993103448275862     | 0.99079754601227     | 0.9959072305593452   | 0.0002144082332761578 | 0.00027586206896551725 | 0.0002896032435563278 | 0.0003297065611605671 | 0.000649772579597141 | 0.00228310502283105 | 0.0012919896640826874 | 0.000782472613458529 | 0.0006779661016949153 | 0.0004020908725371934 | 0.01639344262295082 | 0.02564102564102564 | 0.02857142857142857 | 0.006211180124223602 | 0.0018115942028985507 | 0.0024390243902439024 | 0.0036496350364963502 | 0.002770083102493075 | 0.001937984496124031 | 0.0136986301369863 |\n",
            "+------------+----------------------+---------------------+--------------+----------------------+----------------------+-----------------------+-----------------------+-----------------------+----------------------+----------------------+-----------------------+------------------------+-----------------------+-----------------------+----------------------+---------------------+-----------------------+----------------------+-----------------------+-----------------------+---------------------+---------------------+---------------------+----------------------+-----------------------+-----------------------+-----------------------+----------------------+----------------------+--------------------+\n",
            "| landuse(1) | 0.011904761904761904 | 0.00819672131147541 | 0.008        | 0.007462686567164179 | 0.009615384615384616 | 0.0015503875968992248 | 0.0022988505747126436 | 0.0022988505747126436 | 0.003067484662576687 | 0.001364256480218281 | 0.7069039451114922    | 0.7740689655172414     | 0.8491167101071532    | 0.9106495219254863    | 0.9688109161793372   | 0.00228310502283105 | 0.0012919896640826874 | 0.000782472613458529 | 0.0006779661016949153 | 0.0004020908725371934 | 0.7704918032786885  | 0.48717948717948717 | 0.7428571428571429  | 0.40372670807453415  | 0.8097826086956522    | 0.0024390243902439024 | 0.0036496350364963502 | 0.002770083102493075 | 0.001937984496124031 | 0.0136986301369863 |\n",
            "+------------+----------------------+---------------------+--------------+----------------------+----------------------+-----------------------+-----------------------+-----------------------+----------------------+----------------------+-----------------------+------------------------+-----------------------+-----------------------+----------------------+---------------------+-----------------------+----------------------+-----------------------+-----------------------+---------------------+---------------------+---------------------+----------------------+-----------------------+-----------------------+-----------------------+----------------------+----------------------+--------------------+\n",
            "| landuse(2) | 0.011904761904761904 | 0.00819672131147541 | 0.008        | 0.007462686567164179 | 0.009615384615384616 | 0.0015503875968992248 | 0.0022988505747126436 | 0.0022988505747126436 | 0.003067484662576687 | 0.001364256480218281 | 0.0002144082332761578 | 0.00027586206896551725 | 0.0002896032435563278 | 0.0003297065611605671 | 0.000649772579597141 | 0.6598173515981736  | 0.7312661498708011    | 0.7613458528951487   | 0.8359322033898305    | 0.8110172899075191    | 0.19672131147540983 | 0.46153846153846156 | 0.2                 | 0.5838509316770186   | 0.17753623188405798   | 0.0024390243902439024 | 0.0036496350364963502 | 0.002770083102493075 | 0.001937984496124031 | 0.0136986301369863 |\n",
            "+------------+----------------------+---------------------+--------------+----------------------+----------------------+-----------------------+-----------------------+-----------------------+----------------------+----------------------+-----------------------+------------------------+-----------------------+-----------------------+----------------------+---------------------+-----------------------+----------------------+-----------------------+-----------------------+---------------------+---------------------+---------------------+----------------------+-----------------------+-----------------------+-----------------------+----------------------+----------------------+--------------------+\n",
            "| landuse(3) | 0.011904761904761904 | 0.00819672131147541 | 0.008        | 0.007462686567164179 | 0.009615384615384616 | 0.0015503875968992248 | 0.0022988505747126436 | 0.0022988505747126436 | 0.003067484662576687 | 0.001364256480218281 | 0.2926672384219554    | 0.22537931034482758    | 0.15030408340573415   | 0.08869106495219255   | 0.029889538661468484 | 0.3356164383561644  | 0.2661498708010336    | 0.23708920187793428  | 0.16271186440677965   | 0.1881785283474065    | 0.01639344262295082 | 0.02564102564102564 | 0.02857142857142857 | 0.006211180124223602 | 0.010869565217391304  | 0.9926829268292683    | 0.9890510948905109    | 0.9916897506925207   | 0.9941860465116279   | 0.958904109589041  |\n",
            "+------------+----------------------+---------------------+--------------+----------------------+----------------------+-----------------------+-----------------------+-----------------------+----------------------+----------------------+-----------------------+------------------------+-----------------------+-----------------------+----------------------+---------------------+-----------------------+----------------------+-----------------------+-----------------------+---------------------+---------------------+---------------------+----------------------+-----------------------+-----------------------+-----------------------+----------------------+----------------------+--------------------+\n",
            "\n",
            "{'bldgclass': set(['bldgclass', 'subsidies_flag', 'residfar', 'yearbuilt', 'unit_ratio', 'violations', 'landuse'])}\n",
            "{'subsidies_flag': set(['bldgclass', 'subsidies_flag', 'residfar', 'yearbuilt', 'unit_ratio', 'violations', 'landuse'])}\n",
            "{'residfar': set(['bldgclass', 'subsidies_flag', 'residfar', 'yearbuilt', 'unit_ratio', 'violations', 'landuse'])}\n",
            "{'yearbuilt': set(['bldgclass', 'subsidies_flag', 'residfar', 'yearbuilt', 'unit_ratio', 'violations', 'landuse'])}\n",
            "{'unit_ratio': set(['bldgclass', 'subsidies_flag', 'residfar', 'yearbuilt', 'unit_ratio', 'violations', 'landuse'])}\n",
            "{'violations': set(['bldgclass', 'subsidies_flag', 'residfar', 'yearbuilt', 'unit_ratio', 'violations', 'landuse'])}\n",
            "{'landuse': set(['bldgclass', 'subsidies_flag', 'residfar', 'yearbuilt', 'unit_ratio', 'violations', 'landuse'])}\n"
          ],
          "name": "stdout"
        }
      ]
    },
    {
      "cell_type": "code",
      "metadata": {
        "id": "wbU_FsR4iYE3",
        "colab_type": "code",
        "outputId": "073eac29-24af-46f2-8276-e72efb9f7bc4",
        "colab": {
          "base_uri": "https://localhost:8080/",
          "height": 34
        }
      },
      "source": [
        "best_model.fit(data16train, estimator=BayesianEstimator, prior_type='K2')\n",
        "test_x = data16test.drop(columns=['violations'])\n",
        "predicted_test = temp_predict(best_model, test_x)\n",
        "print \"Out of sample:\",(data16test.loc[:,'violations']==predicted_test['violations']).mean()"
      ],
      "execution_count": 0,
      "outputs": [
        {
          "output_type": "stream",
          "text": [
            "Out of sample: 0.5560271646859083\n"
          ],
          "name": "stdout"
        }
      ]
    },
    {
      "cell_type": "code",
      "metadata": {
        "id": "y3vDZsNPV9tk",
        "colab_type": "code",
        "outputId": "d55207d7-f8ac-4ea2-9783-378479cc3c0c",
        "colab": {
          "base_uri": "https://localhost:8080/",
          "height": 34
        }
      },
      "source": [
        "train_x = data16train.drop(columns=['violations'])\n",
        "predicted_train = temp_predict(best_model, train_x)\n",
        "print \"In of sample:\",(data16train.loc[:,'violations']==predicted_train['violations']).mean()"
      ],
      "execution_count": 0,
      "outputs": [
        {
          "output_type": "stream",
          "text": [
            "In of sample: 0.5689929609847547\n"
          ],
          "name": "stdout"
        }
      ]
    },
    {
      "cell_type": "code",
      "metadata": {
        "id": "S7IyD5KYXv3F",
        "colab_type": "code",
        "colab": {}
      },
      "source": [
        "data16smaller = pd.read_csv(\"data18smaller_4_2.csv\", low_memory = False, dtype = {'subsidies_flag':\"int64\"})\n"
      ],
      "execution_count": 0,
      "outputs": []
    },
    {
      "cell_type": "code",
      "metadata": {
        "id": "ygX6xxuRfukv",
        "colab_type": "code",
        "outputId": "4b70269d-fd84-4137-c324-74e3469375e9",
        "colab": {
          "base_uri": "https://localhost:8080/",
          "height": 88
        }
      },
      "source": [
        "data16train, data16test = train_test_split(data16smaller,random_state=9,test_size=0.2)\n",
        "hc = HillClimbSearch(data16train, scoring_method=BicScore(data16train))\n",
        "best_model = hc.estimate()\n",
        "print(best_model.edges())\n",
        "\n",
        "best_model.fit(data16train, estimator=BayesianEstimator, prior_type='K2')\n",
        "train_x = data16train.drop(columns=['vio_rt'])\n",
        "predicted_train = temp_predict(best_model, train_x)\n",
        "print \"In of sample:\",(data16train.loc[:,'vio_rt']==predicted_train['vio_rt']).mean()\n",
        "\n",
        "test_x = data16test.drop(columns=['vio_rt'])\n",
        "predicted_test = temp_predict(best_model, test_x)\n",
        "print \"Out of sample:\",(data16test.loc[:,'vio_rt']==predicted_test['vio_rt']).mean()"
      ],
      "execution_count": 0,
      "outputs": [
        {
          "output_type": "stream",
          "text": [
            "[('bldgclass', 'unit_ratio'), ('bldgclass', 'subsidies_flag'), ('bldgclass', 'landuse'), ('bldgclass', 'vio_rt'), ('residfar', 'subsidies_flag'), ('yearbuilt', 'residfar'), ('yearbuilt', 'unit_ratio'), ('yearbuilt', 'landuse'), ('yearbuilt', 'vio_rt'), ('yearbuilt', 'bldgclass'), ('landuse', 'residfar')]\n",
            "In of sample: 0.34968695836723146\n",
            "Out of sample: 0.3614883984153933\n"
          ],
          "name": "stdout"
        }
      ]
    },
    {
      "cell_type": "code",
      "metadata": {
        "id": "4mnkPJl8QFs9",
        "colab_type": "code",
        "outputId": "7818327c-6a20-4b00-e0fc-ce4d3dafcaf1",
        "colab": {
          "base_uri": "https://localhost:8080/",
          "height": 1890
        }
      },
      "source": [
        "data16train, data16test = train_test_split(data16smaller,random_state=9,test_size=0.2)\n",
        "hc = HillClimbSearch(data16train, scoring_method=BicScore(data16train))\n",
        "best_model = hc.estimate()\n",
        "print(best_model.edges())\n",
        "\n",
        "best_model.fit(data16train, estimator=BayesianEstimator, prior_type='K2')\n",
        "\n",
        "for cpd in best_model.get_cpds():\n",
        "    print(\"CPD of {variable}:\".format(variable=cpd.variable))\n",
        "    print(cpd)\n",
        "    \n",
        "print best_model.local_independencies('vio_rt')\n",
        "\n",
        "for thenode in best_model.nodes():\n",
        "    print best_model.active_trail_nodes(thenode)"
      ],
      "execution_count": 0,
      "outputs": [
        {
          "output_type": "stream",
          "text": [
            "[('bldgclass', 'unit_ratio'), ('bldgclass', 'subsidies_flag'), ('bldgclass', 'landuse'), ('bldgclass', 'vio_rt'), ('residfar', 'subsidies_flag'), ('yearbuilt', 'residfar'), ('yearbuilt', 'unit_ratio'), ('yearbuilt', 'landuse'), ('yearbuilt', 'vio_rt'), ('yearbuilt', 'bldgclass'), ('landuse', 'residfar')]\n",
            "CPD of bldgclass:\n",
            "+--------------+----------------------+----------------------+----------------------+----------------------+----------------------+\n",
            "| yearbuilt    | yearbuilt(0)         | yearbuilt(1)         | yearbuilt(2)         | yearbuilt(3)         | yearbuilt(4)         |\n",
            "+--------------+----------------------+----------------------+----------------------+----------------------+----------------------+\n",
            "| bldgclass(0) | 0.012889879057924889 | 0.022662350028565988 | 0.021520550361615806 | 0.023280611338190864 | 0.01846435100548446  |\n",
            "+--------------+----------------------+----------------------+----------------------+----------------------+----------------------+\n",
            "| bldgclass(1) | 0.10216422660725652  | 0.08227004380118073  | 0.07620391603457399  | 0.05740181268882175  | 0.13345521023765997  |\n",
            "+--------------+----------------------+----------------------+----------------------+----------------------+----------------------+\n",
            "| bldgclass(2) | 0.741725015913431    | 0.6897733764997144   | 0.6085729405538896   | 0.5384752088146437   | 0.28080438756855575  |\n",
            "+--------------+----------------------+----------------------+----------------------+----------------------+----------------------+\n",
            "| bldgclass(3) | 0.06922342457033737  | 0.14682917539516283  | 0.22490739107426355  | 0.26159587702150344  | 0.4541133455210238   |\n",
            "+--------------+----------------------+----------------------+----------------------+----------------------+----------------------+\n",
            "| bldgclass(4) | 0.009229789942711649 | 0.006855836983431727 | 0.005644734521079556 | 0.028078905278123335 | 0.1003656307129799   |\n",
            "+--------------+----------------------+----------------------+----------------------+----------------------+----------------------+\n",
            "| bldgclass(5) | 0.06476766390833864  | 0.05160921729194439  | 0.06315046745457753  | 0.0911675848587169   | 0.012797074954296161 |\n",
            "+--------------+----------------------+----------------------+----------------------+----------------------+----------------------+\n",
            "CPD of subsidies_flag:\n",
            "+-------------------+----------------------+----------------------+---------------------+---------------------+--------------------+-----------------------+-----------------------+--------------+----------------------+---------------------+---------------------+--------------------+---------------------+--------------------+---------------------+---------------------+--------------------+---------------------+--------------------+--------------------+---------------------+--------------------+--------------+---------------------+---------------------+----------------------+----------------------+----------------------+--------------+----------------------+\n",
            "| bldgclass         | bldgclass(0)         | bldgclass(0)         | bldgclass(0)        | bldgclass(0)        | bldgclass(0)       | bldgclass(1)          | bldgclass(1)          | bldgclass(1) | bldgclass(1)         | bldgclass(1)        | bldgclass(2)        | bldgclass(2)       | bldgclass(2)        | bldgclass(2)       | bldgclass(2)        | bldgclass(3)        | bldgclass(3)       | bldgclass(3)        | bldgclass(3)       | bldgclass(3)       | bldgclass(4)        | bldgclass(4)       | bldgclass(4) | bldgclass(4)        | bldgclass(4)        | bldgclass(5)         | bldgclass(5)         | bldgclass(5)         | bldgclass(5) | bldgclass(5)         |\n",
            "+-------------------+----------------------+----------------------+---------------------+---------------------+--------------------+-----------------------+-----------------------+--------------+----------------------+---------------------+---------------------+--------------------+---------------------+--------------------+---------------------+---------------------+--------------------+---------------------+--------------------+--------------------+---------------------+--------------------+--------------+---------------------+---------------------+----------------------+----------------------+----------------------+--------------+----------------------+\n",
            "| residfar          | residfar(0)          | residfar(1)          | residfar(2)         | residfar(3)         | residfar(4)        | residfar(0)           | residfar(1)           | residfar(2)  | residfar(3)          | residfar(4)         | residfar(0)         | residfar(1)        | residfar(2)         | residfar(3)        | residfar(4)         | residfar(0)         | residfar(1)        | residfar(2)         | residfar(3)        | residfar(4)        | residfar(0)         | residfar(1)        | residfar(2)  | residfar(3)         | residfar(4)         | residfar(0)          | residfar(1)          | residfar(2)          | residfar(3)  | residfar(4)          |\n",
            "+-------------------+----------------------+----------------------+---------------------+---------------------+--------------------+-----------------------+-----------------------+--------------+----------------------+---------------------+---------------------+--------------------+---------------------+--------------------+---------------------+---------------------+--------------------+---------------------+--------------------+--------------------+---------------------+--------------------+--------------+---------------------+---------------------+----------------------+----------------------+----------------------+--------------+----------------------+\n",
            "| subsidies_flag(0) | 0.9978632478632479   | 0.9824561403508771   | 0.9285714285714286  | 0.9090909090909091  | 0.8888888888888888 | 0.9994425863991081    | 0.9983498349834984    | 0.96875      | 0.989247311827957    | 0.9743589743589743  | 0.9592773157441927  | 0.8756244616709733 | 0.8673285198555957  | 0.7442687747035573 | 0.8692946058091287  | 0.8386714116251482  | 0.6874546773023931 | 0.8147321428571429  | 0.6719543147208121 | 0.8214936247723132 | 0.908745247148289   | 0.6012861736334405 | 0.4          | 0.5808823529411765  | 0.8494623655913979  | 0.9933993399339934   | 0.984472049689441    | 0.9416342412451362   | 0.975        | 0.9794117647058823   |\n",
            "+-------------------+----------------------+----------------------+---------------------+---------------------+--------------------+-----------------------+-----------------------+--------------+----------------------+---------------------+---------------------+--------------------+---------------------+--------------------+---------------------+---------------------+--------------------+---------------------+--------------------+--------------------+---------------------+--------------------+--------------+---------------------+---------------------+----------------------+----------------------+----------------------+--------------+----------------------+\n",
            "| subsidies_flag(1) | 0.002136752136752137 | 0.017543859649122806 | 0.07142857142857142 | 0.09090909090909091 | 0.1111111111111111 | 0.0005574136008918618 | 0.0016501650165016502 | 0.03125      | 0.010752688172043012 | 0.02564102564102564 | 0.04072268425580729 | 0.1243755383290267 | 0.13267148014440433 | 0.2557312252964427 | 0.13070539419087138 | 0.16132858837485173 | 0.312545322697607  | 0.18526785714285715 | 0.3280456852791878 | 0.1785063752276867 | 0.09125475285171103 | 0.3987138263665595 | 0.6          | 0.41911764705882354 | 0.15053763440860216 | 0.006600660066006601 | 0.015527950310559006 | 0.058365758754863814 | 0.025        | 0.020588235294117647 |\n",
            "+-------------------+----------------------+----------------------+---------------------+---------------------+--------------------+-----------------------+-----------------------+--------------+----------------------+---------------------+---------------------+--------------------+---------------------+--------------------+---------------------+---------------------+--------------------+---------------------+--------------------+--------------------+---------------------+--------------------+--------------+---------------------+---------------------+----------------------+----------------------+----------------------+--------------+----------------------+\n",
            "CPD of residfar:\n",
            "+-------------+---------------------+----------------------+----------------------+----------------------+----------------------+---------------------+---------------------+---------------------+----------------------+---------------------+----------------------+----------------------+---------------------+---------------------+---------------------+----------------------+---------------------+---------------------+--------------+---------------------+\n",
            "| landuse     | landuse(0)          | landuse(0)           | landuse(0)           | landuse(0)           | landuse(0)           | landuse(1)          | landuse(1)          | landuse(1)          | landuse(1)           | landuse(1)          | landuse(2)           | landuse(2)           | landuse(2)          | landuse(2)          | landuse(2)          | landuse(3)           | landuse(3)          | landuse(3)          | landuse(3)   | landuse(3)          |\n",
            "+-------------+---------------------+----------------------+----------------------+----------------------+----------------------+---------------------+---------------------+---------------------+----------------------+---------------------+----------------------+----------------------+---------------------+---------------------+---------------------+----------------------+---------------------+---------------------+--------------+---------------------+\n",
            "| yearbuilt   | yearbuilt(0)        | yearbuilt(1)         | yearbuilt(2)         | yearbuilt(3)         | yearbuilt(4)         | yearbuilt(0)        | yearbuilt(1)        | yearbuilt(2)        | yearbuilt(3)         | yearbuilt(4)        | yearbuilt(0)         | yearbuilt(1)         | yearbuilt(2)        | yearbuilt(3)        | yearbuilt(4)        | yearbuilt(0)         | yearbuilt(1)        | yearbuilt(2)        | yearbuilt(3) | yearbuilt(4)        |\n",
            "+-------------+---------------------+----------------------+----------------------+----------------------+----------------------+---------------------+---------------------+---------------------+----------------------+---------------------+----------------------+----------------------+---------------------+---------------------+---------------------+----------------------+---------------------+---------------------+--------------+---------------------+\n",
            "| residfar(0) | 0.4283746556473829  | 0.7454873646209387   | 0.8025134649910234   | 0.9037199124726477   | 0.8141486810551559   | 0.0806692560501942  | 0.14214992927864215 | 0.26713947990543735 | 0.4420494699646643   | 0.4281298299845441  | 0.023026315789473683 | 0.02555366269165247  | 0.08545269582909461 | 0.14887218045112782 | 0.24032105760151085 | 0.045288912024986985 | 0.06712962962962964 | 0.14805414551607446 | 0.1484375    | 0.07445008460236886 |\n",
            "+-------------+---------------------+----------------------+----------------------+----------------------+----------------------+---------------------+---------------------+---------------------+----------------------+---------------------+----------------------+----------------------+---------------------+---------------------+---------------------+----------------------+---------------------+---------------------+--------------+---------------------+\n",
            "| residfar(1) | 0.418732782369146   | 0.19855595667870035  | 0.16337522441651706  | 0.08096280087527352  | 0.14628297362110312  | 0.38123692859276964 | 0.32885431400282883 | 0.44376899696048633 | 0.40035335689045937  | 0.3972179289026275  | 0.18421052631578946  | 0.15502555366269166  | 0.18107833163784334 | 0.2654135338345865  | 0.29745042492917845 | 0.13326392503904216  | 0.2175925925925926  | 0.3020304568527919  | 0.3583984375 | 0.2571912013536379  |\n",
            "+-------------+---------------------+----------------------+----------------------+----------------------+----------------------+---------------------+---------------------+---------------------+----------------------+---------------------+----------------------+----------------------+---------------------+---------------------+---------------------+----------------------+---------------------+---------------------+--------------+---------------------+\n",
            "| residfar(2) | 0.03581267217630854 | 0.018050541516245487 | 0.010771992818671455 | 0.006564551422319475 | 0.002398081534772182 | 0.08425455631909172 | 0.07885431400282886 | 0.07193515704154002 | 0.05088339222614841  | 0.04327666151468315 | 0.06907894736842106  | 0.054514480408858604 | 0.07731434384537131 | 0.07218045112781955 | 0.08404154863078375 | 0.0614263404476835   | 0.07021604938271606 | 0.09306260575296109 | 0.1376953125 | 0.077834179357022   |\n",
            "+-------------+---------------------+----------------------+----------------------+----------------------+----------------------+---------------------+---------------------+---------------------+----------------------+---------------------+----------------------+----------------------+---------------------+---------------------+---------------------+----------------------+---------------------+---------------------+--------------+---------------------+\n",
            "| residfar(3) | 0.07713498622589532 | 0.02888086642599278  | 0.010771992818671455 | 0.00437636761487965  | 0.02997601918465228  | 0.19211233940842545 | 0.20615275813295617 | 0.11550151975683891 | 0.051590106007067135 | 0.08964451313755796 | 0.24342105263157895  | 0.30664395229982966  | 0.30925737538148523 | 0.18045112781954886 | 0.1676109537299339  | 0.21759500260281103  | 0.24768518518518517 | 0.1988155668358714  | 0.1787109375 | 0.22165820642978004 |\n",
            "+-------------+---------------------+----------------------+----------------------+----------------------+----------------------+---------------------+---------------------+---------------------+----------------------+---------------------+----------------------+----------------------+---------------------+---------------------+---------------------+----------------------+---------------------+---------------------+--------------+---------------------+\n",
            "| residfar(4) | 0.03994490358126722 | 0.009025270758122744 | 0.012567324955116697 | 0.00437636761487965  | 0.007194244604316547 | 0.261726919629519   | 0.24398868458274398 | 0.1016548463356974  | 0.05512367491166078  | 0.04173106646058733 | 0.48026315789473684  | 0.45826235093696766  | 0.34689725330620547 | 0.3330827067669173  | 0.210576015108593   | 0.5424258198854763   | 0.39737654320987653 | 0.2580372250423012  | 0.1767578125 | 0.3688663282571912  |\n",
            "+-------------+---------------------+----------------------+----------------------+----------------------+----------------------+---------------------+---------------------+---------------------+----------------------+---------------------+----------------------+----------------------+---------------------+---------------------+---------------------+----------------------+---------------------+---------------------+--------------+---------------------+\n",
            "CPD of yearbuilt:\n",
            "+--------------+----------+\n",
            "| yearbuilt(0) | 0.222061 |\n",
            "+--------------+----------+\n",
            "| yearbuilt(1) | 0.185528 |\n",
            "+--------------+----------+\n",
            "| yearbuilt(2) | 0.200311 |\n",
            "+--------------+----------+\n",
            "| yearbuilt(3) | 0.198826 |\n",
            "+--------------+----------+\n",
            "| yearbuilt(4) | 0.193273 |\n",
            "+--------------+----------+\n",
            "CPD of vio_rt:\n",
            "+-----------+----------------------+----------------------+----------------------+----------------------+----------------------+-----------------------+-----------------------+-----------------------+-----------------------+-----------------------+---------------------+---------------------+---------------------+---------------------+---------------------+---------------------+---------------------+---------------------+---------------------+---------------------+---------------------+--------------+----------------------+----------------------+----------------------+-----------------------+-----------------------+-----------------------+-----------------------+----------------------+\n",
            "| bldgclass | bldgclass(0)         | bldgclass(0)         | bldgclass(0)         | bldgclass(0)         | bldgclass(0)         | bldgclass(1)          | bldgclass(1)          | bldgclass(1)          | bldgclass(1)          | bldgclass(1)          | bldgclass(2)        | bldgclass(2)        | bldgclass(2)        | bldgclass(2)        | bldgclass(2)        | bldgclass(3)        | bldgclass(3)        | bldgclass(3)        | bldgclass(3)        | bldgclass(3)        | bldgclass(4)        | bldgclass(4) | bldgclass(4)         | bldgclass(4)         | bldgclass(4)         | bldgclass(5)          | bldgclass(5)          | bldgclass(5)          | bldgclass(5)          | bldgclass(5)         |\n",
            "+-----------+----------------------+----------------------+----------------------+----------------------+----------------------+-----------------------+-----------------------+-----------------------+-----------------------+-----------------------+---------------------+---------------------+---------------------+---------------------+---------------------+---------------------+---------------------+---------------------+---------------------+---------------------+---------------------+--------------+----------------------+----------------------+----------------------+-----------------------+-----------------------+-----------------------+-----------------------+----------------------+\n",
            "| yearbuilt | yearbuilt(0)         | yearbuilt(1)         | yearbuilt(2)         | yearbuilt(3)         | yearbuilt(4)         | yearbuilt(0)          | yearbuilt(1)          | yearbuilt(2)          | yearbuilt(3)          | yearbuilt(4)          | yearbuilt(0)        | yearbuilt(1)        | yearbuilt(2)        | yearbuilt(3)        | yearbuilt(4)        | yearbuilt(0)        | yearbuilt(1)        | yearbuilt(2)        | yearbuilt(3)        | yearbuilt(4)        | yearbuilt(0)        | yearbuilt(1) | yearbuilt(2)         | yearbuilt(3)         | yearbuilt(4)         | yearbuilt(0)          | yearbuilt(1)          | yearbuilt(2)          | yearbuilt(3)          | yearbuilt(4)         |\n",
            "+-----------+----------------------+----------------------+----------------------+----------------------+----------------------+-----------------------+-----------------------+-----------------------+-----------------------+-----------------------+---------------------+---------------------+---------------------+---------------------+---------------------+---------------------+---------------------+---------------------+---------------------+---------------------+---------------------+--------------+----------------------+----------------------+----------------------+-----------------------+-----------------------+-----------------------+-----------------------+----------------------+\n",
            "| vio_rt(0) | 0.7294117647058823   | 0.7642276422764228   | 0.7380952380952381   | 0.7037037037037037   | 0.7523809523809524   | 0.5541795665634675    | 0.5344036697247706    | 0.5137614678899083    | 0.4954128440366973    | 0.49591280653950953   | 0.23386923901393356 | 0.19994484280198566 | 0.2510133178922988  | 0.23005932762030323 | 0.2603896103896104  | 0.07061503416856492 | 0.05290322580645161 | 0.0508209538702111  | 0.03048780487804878 | 0.01045016077170418 | 0.08064516129032258 | 0.1          | 0.05555555555555555  | 0.012345679012345678 | 0.019891500904159132 | 0.44768856447688565   | 0.49454545454545457   | 0.494475138121547     | 0.5106382978723404    | 0.47297297297297297  |\n",
            "+-----------+----------------------+----------------------+----------------------+----------------------+----------------------+-----------------------+-----------------------+-----------------------+-----------------------+-----------------------+---------------------+---------------------+---------------------+---------------------+---------------------+---------------------+---------------------+---------------------+---------------------+---------------------+---------------------+--------------+----------------------+----------------------+----------------------+-----------------------+-----------------------+-----------------------+-----------------------+----------------------+\n",
            "| vio_rt(1) | 0.23529411764705882  | 0.21138211382113822  | 0.23809523809523808  | 0.2                  | 0.21904761904761905  | 0.23993808049535603   | 0.23623853211009174   | 0.2798165137614679    | 0.29357798165137616   | 0.2683923705722071    | 0.254876741693462   | 0.25261996690568117 | 0.25709322524609146 | 0.22313777191825973 | 0.20714285714285716 | 0.1845102505694761  | 0.17161290322580644 | 0.1602814698983581  | 0.12466124661246612 | 0.07918006430868167 | 0.11290322580645161 | 0.075        | 0.05555555555555555  | 0.012345679012345678 | 0.0759493670886076   | 0.21897810218978103   | 0.23636363636363636   | 0.2596685082872928    | 0.25338491295938104   | 0.2702702702702703   |\n",
            "+-----------+----------------------+----------------------+----------------------+----------------------+----------------------+-----------------------+-----------------------+-----------------------+-----------------------+-----------------------+---------------------+---------------------+---------------------+---------------------+---------------------+---------------------+---------------------+---------------------+---------------------+---------------------+---------------------+--------------+----------------------+----------------------+----------------------+-----------------------+-----------------------+-----------------------+-----------------------+----------------------+\n",
            "| vio_rt(2) | 0.011764705882352941 | 0.008130081300813009 | 0.007936507936507936 | 0.007407407407407408 | 0.009523809523809525 | 0.20278637770897834   | 0.22477064220183487   | 0.2018348623853211    | 0.20489296636085627   | 0.2329700272479564    | 0.2255091103965702  | 0.23276337562051846 | 0.21134916039374638 | 0.17205009887936717 | 0.2448051948051948  | 0.23917995444191345 | 0.24903225806451612 | 0.24784988272087569 | 0.17818428184281843 | 0.09525723472668811 | 0.22580645161290322 | 0.225        | 0.027777777777777776 | 0.05555555555555555  | 0.12658227848101267  | 0.22141119221411193   | 0.18545454545454546   | 0.16574585635359115   | 0.15667311411992263   | 0.1891891891891892   |\n",
            "+-----------+----------------------+----------------------+----------------------+----------------------+----------------------+-----------------------+-----------------------+-----------------------+-----------------------+-----------------------+---------------------+---------------------+---------------------+---------------------+---------------------+---------------------+---------------------+---------------------+---------------------+---------------------+---------------------+--------------+----------------------+----------------------+----------------------+-----------------------+-----------------------+-----------------------+-----------------------+----------------------+\n",
            "| vio_rt(3) | 0.011764705882352941 | 0.008130081300813009 | 0.007936507936507936 | 0.007407407407407408 | 0.009523809523809525 | 0.0015479876160990713 | 0.0022935779816513763 | 0.0022935779816513763 | 0.0030581039755351682 | 0.0013623978201634877 | 0.17191854233654877 | 0.20353006067291782 | 0.17371163867979156 | 0.1852340145023072  | 0.11233766233766233 | 0.24829157175398633 | 0.2593548387096774  | 0.27834245504300237 | 0.2594850948509485  | 0.21905144694533762 | 0.27419354838709675 | 0.375        | 0.3055555555555556   | 0.10493827160493827  | 0.20614828209764918  | 0.10948905109489052   | 0.08                  | 0.07734806629834254   | 0.07736943907156674   | 0.05405405405405406  |\n",
            "+-----------+----------------------+----------------------+----------------------+----------------------+----------------------+-----------------------+-----------------------+-----------------------+-----------------------+-----------------------+---------------------+---------------------+---------------------+---------------------+---------------------+---------------------+---------------------+---------------------+---------------------+---------------------+---------------------+--------------+----------------------+----------------------+----------------------+-----------------------+-----------------------+-----------------------+-----------------------+----------------------+\n",
            "| vio_rt(4) | 0.011764705882352941 | 0.008130081300813009 | 0.007936507936507936 | 0.08148148148148149  | 0.009523809523809525 | 0.0015479876160990713 | 0.0022935779816513763 | 0.0022935779816513763 | 0.0030581039755351682 | 0.0013623978201634877 | 0.11382636655948553 | 0.11114175399889685 | 0.1068326577880718  | 0.1895187870797627  | 0.17532467532467533 | 0.25740318906605925 | 0.2670967741935484  | 0.2627052384675528  | 0.4071815718157182  | 0.5960610932475884  | 0.3064516129032258  | 0.225        | 0.5555555555555556   | 0.8148148148148148   | 0.5714285714285714   | 0.0024330900243309003 | 0.0036363636363636364 | 0.0027624309392265192 | 0.0019342359767891683 | 0.013513513513513514 |\n",
            "+-----------+----------------------+----------------------+----------------------+----------------------+----------------------+-----------------------+-----------------------+-----------------------+-----------------------+-----------------------+---------------------+---------------------+---------------------+---------------------+---------------------+---------------------+---------------------+---------------------+---------------------+---------------------+---------------------+--------------+----------------------+----------------------+----------------------+-----------------------+-----------------------+-----------------------+-----------------------+----------------------+\n",
            "CPD of unit_ratio:\n",
            "+---------------+----------------------+----------------------+----------------------+----------------------+----------------------+---------------------+---------------------+---------------------+---------------------+---------------------+---------------------+---------------------+---------------------+---------------------+---------------------+---------------------+---------------------+---------------------+----------------------+---------------------+---------------------+--------------+---------------------+----------------------+---------------------+---------------------+---------------------+---------------------+---------------------+---------------------+\n",
            "| bldgclass     | bldgclass(0)         | bldgclass(0)         | bldgclass(0)         | bldgclass(0)         | bldgclass(0)         | bldgclass(1)        | bldgclass(1)        | bldgclass(1)        | bldgclass(1)        | bldgclass(1)        | bldgclass(2)        | bldgclass(2)        | bldgclass(2)        | bldgclass(2)        | bldgclass(2)        | bldgclass(3)        | bldgclass(3)        | bldgclass(3)        | bldgclass(3)         | bldgclass(3)        | bldgclass(4)        | bldgclass(4) | bldgclass(4)        | bldgclass(4)         | bldgclass(4)        | bldgclass(5)        | bldgclass(5)        | bldgclass(5)        | bldgclass(5)        | bldgclass(5)        |\n",
            "+---------------+----------------------+----------------------+----------------------+----------------------+----------------------+---------------------+---------------------+---------------------+---------------------+---------------------+---------------------+---------------------+---------------------+---------------------+---------------------+---------------------+---------------------+---------------------+----------------------+---------------------+---------------------+--------------+---------------------+----------------------+---------------------+---------------------+---------------------+---------------------+---------------------+---------------------+\n",
            "| yearbuilt     | yearbuilt(0)         | yearbuilt(1)         | yearbuilt(2)         | yearbuilt(3)         | yearbuilt(4)         | yearbuilt(0)        | yearbuilt(1)        | yearbuilt(2)        | yearbuilt(3)        | yearbuilt(4)        | yearbuilt(0)        | yearbuilt(1)        | yearbuilt(2)        | yearbuilt(3)        | yearbuilt(4)        | yearbuilt(0)        | yearbuilt(1)        | yearbuilt(2)        | yearbuilt(3)         | yearbuilt(4)        | yearbuilt(0)        | yearbuilt(1) | yearbuilt(2)        | yearbuilt(3)         | yearbuilt(4)        | yearbuilt(0)        | yearbuilt(1)        | yearbuilt(2)        | yearbuilt(3)        | yearbuilt(4)        |\n",
            "+---------------+----------------------+----------------------+----------------------+----------------------+----------------------+---------------------+---------------------+---------------------+---------------------+---------------------+---------------------+---------------------+---------------------+---------------------+---------------------+---------------------+---------------------+---------------------+----------------------+---------------------+---------------------+--------------+---------------------+----------------------+---------------------+---------------------+---------------------+---------------------+---------------------+---------------------+\n",
            "| unit_ratio(0) | 0.03529411764705882  | 0.056910569105691054 | 0.007936507936507936 | 0.037037037037037035 | 0.009523809523809525 | 0.11609907120743033 | 0.10321100917431193 | 0.15825688073394495 | 0.327217125382263   | 0.10762942779291552 | 0.419935691318328   | 0.26971869829012685 | 0.23103647944412276 | 0.21555702043506922 | 0.16688311688311688 | 0.20501138952164008 | 0.11612903225806452 | 0.08991399530883502 | 0.025745257452574527 | 0.09847266881028939 | 0.25806451612903225 | 0.25         | 0.1388888888888889  | 0.24074074074074073  | 0.0705244122965642  | 0.20681265206812652 | 0.21818181818181817 | 0.32320441988950277 | 0.30947775628626695 | 0.22972972972972974 |\n",
            "+---------------+----------------------+----------------------+----------------------+----------------------+----------------------+---------------------+---------------------+---------------------+---------------------+---------------------+---------------------+---------------------+---------------------+---------------------+---------------------+---------------------+---------------------+---------------------+----------------------+---------------------+---------------------+--------------+---------------------+----------------------+---------------------+---------------------+---------------------+---------------------+---------------------+---------------------+\n",
            "| unit_ratio(1) | 0.047058823529411764 | 0.016260162601626018 | 0.015873015873015872 | 0.014814814814814815 | 0.009523809523809525 | 0.15944272445820434 | 0.20871559633027523 | 0.1834862385321101  | 0.1559633027522936  | 0.08446866485013624 | 0.18156484458735261 | 0.234142305570877   | 0.3115228720324262  | 0.3269611074489123  | 0.19480519480519481 | 0.14578587699316628 | 0.13161290322580646 | 0.12431587177482409 | 0.17479674796747968  | 0.13384244372990353 | 0.06451612903225806 | 0.175        | 0.3611111111111111  | 0.6419753086419753   | 0.12115732368896925 | 0.15815085158150852 | 0.16                | 0.1878453038674033  | 0.17988394584139264 | 0.24324324324324326 |\n",
            "+---------------+----------------------+----------------------+----------------------+----------------------+----------------------+---------------------+---------------------+---------------------+---------------------+---------------------+---------------------+---------------------+---------------------+---------------------+---------------------+---------------------+---------------------+---------------------+----------------------+---------------------+---------------------+--------------+---------------------+----------------------+---------------------+---------------------+---------------------+---------------------+---------------------+---------------------+\n",
            "| unit_ratio(2) | 0.023529411764705882 | 0.0975609756097561   | 0.06349206349206349  | 0.15555555555555556  | 0.02857142857142857  | 0.14086687306501547 | 0.14908256880733944 | 0.12155963302752294 | 0.16819571865443425 | 0.13896457765667575 | 0.16334405144694533 | 0.24324324324324326 | 0.27504342790966996 | 0.25609756097560976 | 0.17727272727272728 | 0.1480637813211845  | 0.1896774193548387  | 0.23143080531665364 | 0.17818428184281843  | 0.20337620578778134 | 0.11290322580645161 | 0.275        | 0.3333333333333333  | 0.05555555555555555  | 0.162748643761302   | 0.1362530413625304  | 0.1890909090909091  | 0.12430939226519337 | 0.16247582205029013 | 0.16216216216216217 |\n",
            "+---------------+----------------------+----------------------+----------------------+----------------------+----------------------+---------------------+---------------------+---------------------+---------------------+---------------------+---------------------+---------------------+---------------------+---------------------+---------------------+---------------------+---------------------+---------------------+----------------------+---------------------+---------------------+--------------+---------------------+----------------------+---------------------+---------------------+---------------------+---------------------+---------------------+---------------------+\n",
            "| unit_ratio(3) | 0.058823529411764705 | 0.0975609756097561   | 0.0873015873015873   | 0.14074074074074075  | 0.12380952380952381  | 0.2739938080495356  | 0.21788990825688073 | 0.21330275229357798 | 0.1437308868501529  | 0.2724795640326976  | 0.13011789924973205 | 0.15223386651958082 | 0.11928199189345687 | 0.12689518787079762 | 0.2474025974025974  | 0.23462414578587698 | 0.23483870967741935 | 0.3127443315089914  | 0.3699186991869919   | 0.33038585209003213 | 0.3064516129032258  | 0.1          | 0.08333333333333333 | 0.024691358024691357 | 0.35985533453887886 | 0.1922141119221411  | 0.14909090909090908 | 0.1574585635359116  | 0.13733075435203096 | 0.0945945945945946  |\n",
            "+---------------+----------------------+----------------------+----------------------+----------------------+----------------------+---------------------+---------------------+---------------------+---------------------+---------------------+---------------------+---------------------+---------------------+---------------------+---------------------+---------------------+---------------------+---------------------+----------------------+---------------------+---------------------+--------------+---------------------+----------------------+---------------------+---------------------+---------------------+---------------------+---------------------+---------------------+\n",
            "| unit_ratio(4) | 0.8352941176470589   | 0.7317073170731707   | 0.8253968253968254   | 0.6518518518518519   | 0.8285714285714286   | 0.30959752321981426 | 0.3211009174311927  | 0.32339449541284404 | 0.20489296636085627 | 0.39645776566757496 | 0.10503751339764202 | 0.10066188637617209 | 0.06311522872032427 | 0.07448912326961107 | 0.21363636363636362 | 0.26651480637813213 | 0.327741935483871   | 0.24159499609069585 | 0.2513550135501355   | 0.23392282958199356 | 0.25806451612903225 | 0.2          | 0.08333333333333333 | 0.037037037037037035 | 0.2857142857142857  | 0.30656934306569344 | 0.28363636363636363 | 0.20718232044198895 | 0.21083172147001933 | 0.2702702702702703  |\n",
            "+---------------+----------------------+----------------------+----------------------+----------------------+----------------------+---------------------+---------------------+---------------------+---------------------+---------------------+---------------------+---------------------+---------------------+---------------------+---------------------+---------------------+---------------------+---------------------+----------------------+---------------------+---------------------+--------------+---------------------+----------------------+---------------------+---------------------+---------------------+---------------------+---------------------+---------------------+\n",
            "CPD of landuse:\n",
            "+------------+----------------------+---------------------+--------------+----------------------+----------------------+-----------------------+-----------------------+-----------------------+----------------------+----------------------+-----------------------+------------------------+-----------------------+-----------------------+----------------------+---------------------+-----------------------+----------------------+-----------------------+-----------------------+---------------------+---------------------+---------------------+----------------------+-----------------------+-----------------------+-----------------------+----------------------+----------------------+--------------------+\n",
            "| bldgclass  | bldgclass(0)         | bldgclass(0)        | bldgclass(0) | bldgclass(0)         | bldgclass(0)         | bldgclass(1)          | bldgclass(1)          | bldgclass(1)          | bldgclass(1)         | bldgclass(1)         | bldgclass(2)          | bldgclass(2)           | bldgclass(2)          | bldgclass(2)          | bldgclass(2)         | bldgclass(3)        | bldgclass(3)          | bldgclass(3)         | bldgclass(3)          | bldgclass(3)          | bldgclass(4)        | bldgclass(4)        | bldgclass(4)        | bldgclass(4)         | bldgclass(4)          | bldgclass(5)          | bldgclass(5)          | bldgclass(5)         | bldgclass(5)         | bldgclass(5)       |\n",
            "+------------+----------------------+---------------------+--------------+----------------------+----------------------+-----------------------+-----------------------+-----------------------+----------------------+----------------------+-----------------------+------------------------+-----------------------+-----------------------+----------------------+---------------------+-----------------------+----------------------+-----------------------+-----------------------+---------------------+---------------------+---------------------+----------------------+-----------------------+-----------------------+-----------------------+----------------------+----------------------+--------------------+\n",
            "| yearbuilt  | yearbuilt(0)         | yearbuilt(1)        | yearbuilt(2) | yearbuilt(3)         | yearbuilt(4)         | yearbuilt(0)          | yearbuilt(1)          | yearbuilt(2)          | yearbuilt(3)         | yearbuilt(4)         | yearbuilt(0)          | yearbuilt(1)           | yearbuilt(2)          | yearbuilt(3)          | yearbuilt(4)         | yearbuilt(0)        | yearbuilt(1)          | yearbuilt(2)         | yearbuilt(3)          | yearbuilt(4)          | yearbuilt(0)        | yearbuilt(1)        | yearbuilt(2)        | yearbuilt(3)         | yearbuilt(4)          | yearbuilt(0)          | yearbuilt(1)          | yearbuilt(2)         | yearbuilt(3)         | yearbuilt(4)       |\n",
            "+------------+----------------------+---------------------+--------------+----------------------+----------------------+-----------------------+-----------------------+-----------------------+----------------------+----------------------+-----------------------+------------------------+-----------------------+-----------------------+----------------------+---------------------+-----------------------+----------------------+-----------------------+-----------------------+---------------------+---------------------+---------------------+----------------------+-----------------------+-----------------------+-----------------------+----------------------+----------------------+--------------------+\n",
            "| landuse(0) | 0.9642857142857143   | 0.9754098360655737  | 0.976        | 0.9776119402985075   | 0.9711538461538461   | 0.9953488372093023    | 0.993103448275862     | 0.993103448275862     | 0.99079754601227     | 0.9959072305593452   | 0.0002144082332761578 | 0.00027586206896551725 | 0.0002896032435563278 | 0.0003297065611605671 | 0.000649772579597141 | 0.00228310502283105 | 0.0012919896640826874 | 0.000782472613458529 | 0.0006779661016949153 | 0.0004020908725371934 | 0.01639344262295082 | 0.02564102564102564 | 0.02857142857142857 | 0.006211180124223602 | 0.0018115942028985507 | 0.0024390243902439024 | 0.0036496350364963502 | 0.002770083102493075 | 0.001937984496124031 | 0.0136986301369863 |\n",
            "+------------+----------------------+---------------------+--------------+----------------------+----------------------+-----------------------+-----------------------+-----------------------+----------------------+----------------------+-----------------------+------------------------+-----------------------+-----------------------+----------------------+---------------------+-----------------------+----------------------+-----------------------+-----------------------+---------------------+---------------------+---------------------+----------------------+-----------------------+-----------------------+-----------------------+----------------------+----------------------+--------------------+\n",
            "| landuse(1) | 0.011904761904761904 | 0.00819672131147541 | 0.008        | 0.007462686567164179 | 0.009615384615384616 | 0.0015503875968992248 | 0.0022988505747126436 | 0.0022988505747126436 | 0.003067484662576687 | 0.001364256480218281 | 0.7069039451114922    | 0.7740689655172414     | 0.8491167101071532    | 0.9106495219254863    | 0.9688109161793372   | 0.00228310502283105 | 0.0012919896640826874 | 0.000782472613458529 | 0.0006779661016949153 | 0.0004020908725371934 | 0.7704918032786885  | 0.48717948717948717 | 0.7428571428571429  | 0.40372670807453415  | 0.8097826086956522    | 0.0024390243902439024 | 0.0036496350364963502 | 0.002770083102493075 | 0.001937984496124031 | 0.0136986301369863 |\n",
            "+------------+----------------------+---------------------+--------------+----------------------+----------------------+-----------------------+-----------------------+-----------------------+----------------------+----------------------+-----------------------+------------------------+-----------------------+-----------------------+----------------------+---------------------+-----------------------+----------------------+-----------------------+-----------------------+---------------------+---------------------+---------------------+----------------------+-----------------------+-----------------------+-----------------------+----------------------+----------------------+--------------------+\n",
            "| landuse(2) | 0.011904761904761904 | 0.00819672131147541 | 0.008        | 0.007462686567164179 | 0.009615384615384616 | 0.0015503875968992248 | 0.0022988505747126436 | 0.0022988505747126436 | 0.003067484662576687 | 0.001364256480218281 | 0.0002144082332761578 | 0.00027586206896551725 | 0.0002896032435563278 | 0.0003297065611605671 | 0.000649772579597141 | 0.6598173515981736  | 0.7312661498708011    | 0.7613458528951487   | 0.8359322033898305    | 0.8110172899075191    | 0.19672131147540983 | 0.46153846153846156 | 0.2                 | 0.5838509316770186   | 0.17753623188405798   | 0.0024390243902439024 | 0.0036496350364963502 | 0.002770083102493075 | 0.001937984496124031 | 0.0136986301369863 |\n",
            "+------------+----------------------+---------------------+--------------+----------------------+----------------------+-----------------------+-----------------------+-----------------------+----------------------+----------------------+-----------------------+------------------------+-----------------------+-----------------------+----------------------+---------------------+-----------------------+----------------------+-----------------------+-----------------------+---------------------+---------------------+---------------------+----------------------+-----------------------+-----------------------+-----------------------+----------------------+----------------------+--------------------+\n",
            "| landuse(3) | 0.011904761904761904 | 0.00819672131147541 | 0.008        | 0.007462686567164179 | 0.009615384615384616 | 0.0015503875968992248 | 0.0022988505747126436 | 0.0022988505747126436 | 0.003067484662576687 | 0.001364256480218281 | 0.2926672384219554    | 0.22537931034482758    | 0.15030408340573415   | 0.08869106495219255   | 0.029889538661468484 | 0.3356164383561644  | 0.2661498708010336    | 0.23708920187793428  | 0.16271186440677965   | 0.1881785283474065    | 0.01639344262295082 | 0.02564102564102564 | 0.02857142857142857 | 0.006211180124223602 | 0.010869565217391304  | 0.9926829268292683    | 0.9890510948905109    | 0.9916897506925207   | 0.9941860465116279   | 0.958904109589041  |\n",
            "+------------+----------------------+---------------------+--------------+----------------------+----------------------+-----------------------+-----------------------+-----------------------+----------------------+----------------------+-----------------------+------------------------+-----------------------+-----------------------+----------------------+---------------------+-----------------------+----------------------+-----------------------+-----------------------+---------------------+---------------------+---------------------+----------------------+-----------------------+-----------------------+-----------------------+----------------------+----------------------+--------------------+\n",
            "(vio_rt _|_ residfar, unit_ratio, subsidies_flag, landuse | yearbuilt, bldgclass)\n",
            "{'bldgclass': set(['bldgclass', 'subsidies_flag', 'residfar', 'yearbuilt', 'vio_rt', 'unit_ratio', 'landuse'])}\n",
            "{'subsidies_flag': set(['bldgclass', 'subsidies_flag', 'residfar', 'yearbuilt', 'vio_rt', 'unit_ratio', 'landuse'])}\n",
            "{'residfar': set(['bldgclass', 'subsidies_flag', 'residfar', 'yearbuilt', 'vio_rt', 'unit_ratio', 'landuse'])}\n",
            "{'yearbuilt': set(['bldgclass', 'subsidies_flag', 'residfar', 'yearbuilt', 'vio_rt', 'unit_ratio', 'landuse'])}\n",
            "{'vio_rt': set(['bldgclass', 'subsidies_flag', 'residfar', 'yearbuilt', 'vio_rt', 'unit_ratio', 'landuse'])}\n",
            "{'unit_ratio': set(['bldgclass', 'subsidies_flag', 'residfar', 'yearbuilt', 'vio_rt', 'unit_ratio', 'landuse'])}\n",
            "{'landuse': set(['bldgclass', 'subsidies_flag', 'residfar', 'yearbuilt', 'vio_rt', 'unit_ratio', 'landuse'])}\n"
          ],
          "name": "stdout"
        }
      ]
    }
  ]
}